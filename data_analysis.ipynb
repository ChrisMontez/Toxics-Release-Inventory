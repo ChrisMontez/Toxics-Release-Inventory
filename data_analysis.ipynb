{
 "cells": [
  {
   "cell_type": "code",
   "execution_count": 63,
   "metadata": {},
   "outputs": [],
   "source": [
    "import numpy as np\n",
    "import pandas as pd\n",
    "import matplotlib.pyplot as plt\n",
    "%matplotlib inline\n",
    "import plotly.express as px"
   ]
  },
  {
   "cell_type": "code",
   "execution_count": 64,
   "metadata": {},
   "outputs": [
    {
     "name": "stderr",
     "output_type": "stream",
     "text": [
      "C:\\Users\\cmont\\anaconda3\\lib\\site-packages\\IPython\\core\\interactiveshell.py:3146: DtypeWarning:\n",
      "\n",
      "Columns (15) have mixed types.Specify dtype option on import or set low_memory=False.\n",
      "\n"
     ]
    }
   ],
   "source": [
    "df = pd.read_csv('tri_2019_us.csv')\n",
    "col_list = df.columns.tolist()"
   ]
  },
  {
   "cell_type": "code",
   "execution_count": 65,
   "metadata": {},
   "outputs": [
    {
     "data": {
      "text/html": [
       "<div>\n",
       "<style scoped>\n",
       "    .dataframe tbody tr th:only-of-type {\n",
       "        vertical-align: middle;\n",
       "    }\n",
       "\n",
       "    .dataframe tbody tr th {\n",
       "        vertical-align: top;\n",
       "    }\n",
       "\n",
       "    .dataframe thead th {\n",
       "        text-align: right;\n",
       "    }\n",
       "</style>\n",
       "<table border=\"1\" class=\"dataframe\">\n",
       "  <thead>\n",
       "    <tr style=\"text-align: right;\">\n",
       "      <th></th>\n",
       "      <th>1. YEAR</th>\n",
       "      <th>2. TRIFD</th>\n",
       "      <th>3. FRS ID</th>\n",
       "      <th>FACILITY NAME</th>\n",
       "      <th>5. STREET ADDRESS</th>\n",
       "      <th>6. CITY</th>\n",
       "      <th>7. COUNTY</th>\n",
       "      <th>8. ST</th>\n",
       "      <th>9. ZIP</th>\n",
       "      <th>10. BIA</th>\n",
       "      <th>...</th>\n",
       "      <th>107. 8.2 - ENERGY RECOVER ON</th>\n",
       "      <th>108. 8.3 - ENERGY RECOVER OF</th>\n",
       "      <th>109. 8.4 - RECYCLING ON SITE</th>\n",
       "      <th>110. 8.5 - RECYCLING OFF SIT</th>\n",
       "      <th>111. 8.6 - TREATMENT ON SITE</th>\n",
       "      <th>112. 8.7 - TREATMENT OFF SITE</th>\n",
       "      <th>113. PRODUCTION WSTE (8.1-8.7)</th>\n",
       "      <th>114. 8.8 - ONE-TIME RELEASE</th>\n",
       "      <th>115. PROD_RATIO_OR_ ACTIVITY</th>\n",
       "      <th>116. 8.9 - PRODUCTION RATIO</th>\n",
       "    </tr>\n",
       "  </thead>\n",
       "  <tbody>\n",
       "    <tr>\n",
       "      <th>0</th>\n",
       "      <td>2019</td>\n",
       "      <td>7003WSNDRL53MAI</td>\n",
       "      <td>NaN</td>\n",
       "      <td>SUN DRILLING PRODUCTS CORP</td>\n",
       "      <td>503 MAIN STREET</td>\n",
       "      <td>BELLE CHASSE</td>\n",
       "      <td>PLAQUEMINES PARISH</td>\n",
       "      <td>LA</td>\n",
       "      <td>70037</td>\n",
       "      <td>NaN</td>\n",
       "      <td>...</td>\n",
       "      <td>0.0</td>\n",
       "      <td>0.0</td>\n",
       "      <td>0.0</td>\n",
       "      <td>0.0</td>\n",
       "      <td>0.0</td>\n",
       "      <td>544.0</td>\n",
       "      <td>7809.00</td>\n",
       "      <td>NaN</td>\n",
       "      <td>PRODUCTION</td>\n",
       "      <td>1.86</td>\n",
       "    </tr>\n",
       "    <tr>\n",
       "      <th>1</th>\n",
       "      <td>2019</td>\n",
       "      <td>66542FLXLN6000S</td>\n",
       "      <td>1.100000e+11</td>\n",
       "      <td>FUTAMURA USA INC</td>\n",
       "      <td>6000 SE 2ND ST</td>\n",
       "      <td>TECUMSEH</td>\n",
       "      <td>SHAWNEE</td>\n",
       "      <td>KS</td>\n",
       "      <td>66542</td>\n",
       "      <td>NaN</td>\n",
       "      <td>...</td>\n",
       "      <td>0.0</td>\n",
       "      <td>0.0</td>\n",
       "      <td>0.0</td>\n",
       "      <td>0.0</td>\n",
       "      <td>0.0</td>\n",
       "      <td>0.0</td>\n",
       "      <td>426.00</td>\n",
       "      <td>NaN</td>\n",
       "      <td>ACTIVITY</td>\n",
       "      <td>1.14</td>\n",
       "    </tr>\n",
       "    <tr>\n",
       "      <th>2</th>\n",
       "      <td>2019</td>\n",
       "      <td>77015FRMNT2239H</td>\n",
       "      <td>1.100000e+11</td>\n",
       "      <td>GB BIOSCIENCES LLC</td>\n",
       "      <td>2239 HADEN RD</td>\n",
       "      <td>HOUSTON</td>\n",
       "      <td>HARRIS</td>\n",
       "      <td>TX</td>\n",
       "      <td>77015</td>\n",
       "      <td>NaN</td>\n",
       "      <td>...</td>\n",
       "      <td>0.0</td>\n",
       "      <td>0.0</td>\n",
       "      <td>0.0</td>\n",
       "      <td>0.0</td>\n",
       "      <td>11.0</td>\n",
       "      <td>0.0</td>\n",
       "      <td>214.10</td>\n",
       "      <td>NaN</td>\n",
       "      <td>PRODUCTION</td>\n",
       "      <td>0.00</td>\n",
       "    </tr>\n",
       "    <tr>\n",
       "      <th>3</th>\n",
       "      <td>2019</td>\n",
       "      <td>2974WCMSTL6371C</td>\n",
       "      <td>1.100000e+11</td>\n",
       "      <td>CM STEEL INC</td>\n",
       "      <td>6371 CAMPBELL ROAD</td>\n",
       "      <td>YORK</td>\n",
       "      <td>YORK</td>\n",
       "      <td>SC</td>\n",
       "      <td>29745</td>\n",
       "      <td>NaN</td>\n",
       "      <td>...</td>\n",
       "      <td>0.0</td>\n",
       "      <td>0.0</td>\n",
       "      <td>0.0</td>\n",
       "      <td>30200.0</td>\n",
       "      <td>0.0</td>\n",
       "      <td>0.0</td>\n",
       "      <td>30225.40</td>\n",
       "      <td>NaN</td>\n",
       "      <td>PRODUCTION</td>\n",
       "      <td>1.20</td>\n",
       "    </tr>\n",
       "    <tr>\n",
       "      <th>4</th>\n",
       "      <td>2019</td>\n",
       "      <td>3160WCJBND2224C</td>\n",
       "      <td>1.100000e+11</td>\n",
       "      <td>CJB INDUSTRIES INC CW PLANT</td>\n",
       "      <td>2224 CYPRESS ST</td>\n",
       "      <td>VALDOSTA</td>\n",
       "      <td>LOWNDES</td>\n",
       "      <td>GA</td>\n",
       "      <td>31601</td>\n",
       "      <td>NaN</td>\n",
       "      <td>...</td>\n",
       "      <td>0.0</td>\n",
       "      <td>0.0</td>\n",
       "      <td>0.0</td>\n",
       "      <td>0.0</td>\n",
       "      <td>0.0</td>\n",
       "      <td>1400.0</td>\n",
       "      <td>1489.94</td>\n",
       "      <td>NaN</td>\n",
       "      <td>PRODUCTION</td>\n",
       "      <td>1.00</td>\n",
       "    </tr>\n",
       "  </tbody>\n",
       "</table>\n",
       "<p>5 rows × 116 columns</p>\n",
       "</div>"
      ],
      "text/plain": [
       "   1. YEAR         2. TRIFD     3. FRS ID                FACILITY NAME  \\\n",
       "0     2019  7003WSNDRL53MAI           NaN   SUN DRILLING PRODUCTS CORP   \n",
       "1     2019  66542FLXLN6000S  1.100000e+11             FUTAMURA USA INC   \n",
       "2     2019  77015FRMNT2239H  1.100000e+11           GB BIOSCIENCES LLC   \n",
       "3     2019  2974WCMSTL6371C  1.100000e+11                 CM STEEL INC   \n",
       "4     2019  3160WCJBND2224C  1.100000e+11  CJB INDUSTRIES INC CW PLANT   \n",
       "\n",
       "    5. STREET ADDRESS       6. CITY           7. COUNTY 8. ST  9. ZIP  \\\n",
       "0     503 MAIN STREET  BELLE CHASSE  PLAQUEMINES PARISH    LA   70037   \n",
       "1      6000 SE 2ND ST      TECUMSEH             SHAWNEE    KS   66542   \n",
       "2       2239 HADEN RD       HOUSTON              HARRIS    TX   77015   \n",
       "3  6371 CAMPBELL ROAD          YORK                YORK    SC   29745   \n",
       "4     2224 CYPRESS ST      VALDOSTA             LOWNDES    GA   31601   \n",
       "\n",
       "   10. BIA  ... 107. 8.2 - ENERGY RECOVER ON  108. 8.3 - ENERGY RECOVER OF  \\\n",
       "0      NaN  ...                          0.0                           0.0   \n",
       "1      NaN  ...                          0.0                           0.0   \n",
       "2      NaN  ...                          0.0                           0.0   \n",
       "3      NaN  ...                          0.0                           0.0   \n",
       "4      NaN  ...                          0.0                           0.0   \n",
       "\n",
       "   109. 8.4 - RECYCLING ON SITE 110. 8.5 - RECYCLING OFF SIT  \\\n",
       "0                           0.0                          0.0   \n",
       "1                           0.0                          0.0   \n",
       "2                           0.0                          0.0   \n",
       "3                           0.0                      30200.0   \n",
       "4                           0.0                          0.0   \n",
       "\n",
       "  111. 8.6 - TREATMENT ON SITE 112. 8.7 - TREATMENT OFF SITE  \\\n",
       "0                          0.0                         544.0   \n",
       "1                          0.0                           0.0   \n",
       "2                         11.0                           0.0   \n",
       "3                          0.0                           0.0   \n",
       "4                          0.0                        1400.0   \n",
       "\n",
       "  113. PRODUCTION WSTE (8.1-8.7) 114. 8.8 - ONE-TIME RELEASE  \\\n",
       "0                        7809.00                         NaN   \n",
       "1                         426.00                         NaN   \n",
       "2                         214.10                         NaN   \n",
       "3                       30225.40                         NaN   \n",
       "4                        1489.94                         NaN   \n",
       "\n",
       "   115. PROD_RATIO_OR_ ACTIVITY 116. 8.9 - PRODUCTION RATIO  \n",
       "0                    PRODUCTION                        1.86  \n",
       "1                      ACTIVITY                        1.14  \n",
       "2                    PRODUCTION                        0.00  \n",
       "3                    PRODUCTION                        1.20  \n",
       "4                    PRODUCTION                        1.00  \n",
       "\n",
       "[5 rows x 116 columns]"
      ]
     },
     "execution_count": 65,
     "metadata": {},
     "output_type": "execute_result"
    }
   ],
   "source": [
    "df.head()"
   ]
  },
  {
   "cell_type": "code",
   "execution_count": 66,
   "metadata": {},
   "outputs": [],
   "source": [
    "# --Visualization Ideas--\n",
    "# Lat/Lon vs. Chemical\n",
    "# Carcinogen = Hue\n",
    "# Stack Air vs. Lat/lon\n",
    "# Hue  = Chemical"
   ]
  },
  {
   "cell_type": "code",
   "execution_count": 67,
   "metadata": {},
   "outputs": [],
   "source": [
    "styrene  = df[(df['CHEMICAL'] == 'STYRENE')]"
   ]
  },
  {
   "cell_type": "code",
   "execution_count": 68,
   "metadata": {},
   "outputs": [
    {
     "data": {
      "text/html": [
       "<div>\n",
       "<style scoped>\n",
       "    .dataframe tbody tr th:only-of-type {\n",
       "        vertical-align: middle;\n",
       "    }\n",
       "\n",
       "    .dataframe tbody tr th {\n",
       "        vertical-align: top;\n",
       "    }\n",
       "\n",
       "    .dataframe thead th {\n",
       "        text-align: right;\n",
       "    }\n",
       "</style>\n",
       "<table border=\"1\" class=\"dataframe\">\n",
       "  <thead>\n",
       "    <tr style=\"text-align: right;\">\n",
       "      <th></th>\n",
       "      <th>FACILITY NAME</th>\n",
       "      <th>STACK AIR</th>\n",
       "      <th>UNIT OF MEASURE</th>\n",
       "    </tr>\n",
       "  </thead>\n",
       "  <tbody>\n",
       "    <tr>\n",
       "      <th>0</th>\n",
       "      <td>SUN DRILLING PRODUCTS CORP</td>\n",
       "      <td>5565.00</td>\n",
       "      <td>Pounds</td>\n",
       "    </tr>\n",
       "    <tr>\n",
       "      <th>115</th>\n",
       "      <td>MASTERMOLD LLC</td>\n",
       "      <td>0.00</td>\n",
       "      <td>Pounds</td>\n",
       "    </tr>\n",
       "    <tr>\n",
       "      <th>324</th>\n",
       "      <td>CROWNLINE BOATS</td>\n",
       "      <td>0.00</td>\n",
       "      <td>Pounds</td>\n",
       "    </tr>\n",
       "    <tr>\n",
       "      <th>368</th>\n",
       "      <td>SUPERIOR COMPOSITES CO LLC</td>\n",
       "      <td>340.00</td>\n",
       "      <td>Pounds</td>\n",
       "    </tr>\n",
       "    <tr>\n",
       "      <th>447</th>\n",
       "      <td>WARMINSTER FIBERGLASS CO</td>\n",
       "      <td>140.00</td>\n",
       "      <td>Pounds</td>\n",
       "    </tr>\n",
       "    <tr>\n",
       "      <th>...</th>\n",
       "      <td>...</td>\n",
       "      <td>...</td>\n",
       "      <td>...</td>\n",
       "    </tr>\n",
       "    <tr>\n",
       "      <th>78109</th>\n",
       "      <td>ENGINEERED COMPOSITES</td>\n",
       "      <td>31300.00</td>\n",
       "      <td>Pounds</td>\n",
       "    </tr>\n",
       "    <tr>\n",
       "      <th>78224</th>\n",
       "      <td>PPG INDUSTRIES OHIO INC - DELAWARE</td>\n",
       "      <td>82.14</td>\n",
       "      <td>Pounds</td>\n",
       "    </tr>\n",
       "    <tr>\n",
       "      <th>78373</th>\n",
       "      <td>HOLLYFRONTIER EL DORADO REFINING LLC</td>\n",
       "      <td>67.00</td>\n",
       "      <td>Pounds</td>\n",
       "    </tr>\n",
       "    <tr>\n",
       "      <th>78374</th>\n",
       "      <td>KANEKA NORTH AMERICA LLC</td>\n",
       "      <td>5330.00</td>\n",
       "      <td>Pounds</td>\n",
       "    </tr>\n",
       "    <tr>\n",
       "      <th>78458</th>\n",
       "      <td>G&amp;G FIBERGLASS</td>\n",
       "      <td>2486.00</td>\n",
       "      <td>Pounds</td>\n",
       "    </tr>\n",
       "  </tbody>\n",
       "</table>\n",
       "<p>1158 rows × 3 columns</p>\n",
       "</div>"
      ],
      "text/plain": [
       "                              FACILITY NAME  STACK AIR UNIT OF MEASURE\n",
       "0                SUN DRILLING PRODUCTS CORP    5565.00          Pounds\n",
       "115                          MASTERMOLD LLC       0.00          Pounds\n",
       "324                         CROWNLINE BOATS       0.00          Pounds\n",
       "368              SUPERIOR COMPOSITES CO LLC     340.00          Pounds\n",
       "447                WARMINSTER FIBERGLASS CO     140.00          Pounds\n",
       "...                                     ...        ...             ...\n",
       "78109                 ENGINEERED COMPOSITES   31300.00          Pounds\n",
       "78224    PPG INDUSTRIES OHIO INC - DELAWARE      82.14          Pounds\n",
       "78373  HOLLYFRONTIER EL DORADO REFINING LLC      67.00          Pounds\n",
       "78374              KANEKA NORTH AMERICA LLC    5330.00          Pounds\n",
       "78458                        G&G FIBERGLASS    2486.00          Pounds\n",
       "\n",
       "[1158 rows x 3 columns]"
      ]
     },
     "execution_count": 68,
     "metadata": {},
     "output_type": "execute_result"
    }
   ],
   "source": [
    "styrene[['FACILITY NAME','STACK AIR', 'UNIT OF MEASURE' ]]"
   ]
  },
  {
   "cell_type": "markdown",
   "metadata": {},
   "source": [
    "# Total Quantity Estimate of the varioiuss chemical released as stack air emissions"
   ]
  },
  {
   "cell_type": "markdown",
   "metadata": {},
   "source": [
    "## STYRENE"
   ]
  },
  {
   "cell_type": "code",
   "execution_count": 71,
   "metadata": {
    "scrolled": true
   },
   "outputs": [
    {
     "data": {
      "application/vnd.plotly.v1+json": {
       "config": {
        "plotlyServerURL": "https://plot.ly"
       },
       "data": [
        {
         "coloraxis": "coloraxis",
         "customdata": [
          [
           "SUN DRILLING PRODUCTS CORP",
           5565,
           "Pounds"
          ],
          [
           "MASTERMOLD LLC",
           0,
           "Pounds"
          ],
          [
           "CROWNLINE BOATS",
           0,
           "Pounds"
          ],
          [
           "SUPERIOR COMPOSITES CO LLC",
           340,
           "Pounds"
          ],
          [
           "WARMINSTER FIBERGLASS CO",
           140,
           "Pounds"
          ],
          [
           "EXXONMOBIL BATON ROUGE CHEMICAL PLANT (PART)",
           1600,
           "Pounds"
          ],
          [
           "AXALTA COATING SYSTEMS USA LLC- FORT MADISON PLANT",
           1375,
           "Pounds"
          ],
          [
           "TRELLEBORG SEALING SOLUTIONS INC",
           6795,
           "Pounds"
          ],
          [
           "EXCEL PATTERN & TOOL LLC",
           359,
           "Pounds"
          ],
          [
           "KAO SPECIALTIES AMERICAS LLC",
           25,
           "Pounds"
          ],
          [
           "MULTI-PLASTICS EXTRUSIONS INC",
           3922,
           "Pounds"
          ],
          [
           "CONTINENTAL STRUCTURAL PLASTICS LLC-SALISBURY",
           7636,
           "Pounds"
          ],
          [
           "ALTEC INDUSTRIES INC",
           4400,
           "Pounds"
          ],
          [
           "LONESTAR FIBERGLASS COMPONENTS LLC",
           5180,
           "Pounds"
          ],
          [
           "CHEMICAL WASTE MANAGEMENT OF THE NORTHWEST INC",
           0,
           "Pounds"
          ],
          [
           "FIBER TECH INDUSTIRES   OHIO",
           1707,
           "Pounds"
          ],
          [
           "ROYAL BATHS MANUFACTURING CO",
           80310,
           "Pounds"
          ],
          [
           "JELD-WEN COMPOSITES-NORTH WILKESBORO",
           0,
           "Pounds"
          ],
          [
           "AS AMERICA INC",
           7380,
           "Pounds"
          ],
          [
           "SUNRISE FIBERGLASS LLC",
           12809.86528,
           "Pounds"
          ],
          [
           "SASOL CHEMICALS (USA) LLC-LAKE CHARLES CHEMICAL COMPLEX",
           1685,
           "Pounds"
          ],
          [
           "GLASFORMS INC",
           750,
           "Pounds"
          ],
          [
           "KEPHACO CORP DBA AS AMERICAN MARBLE INDUSTRIES",
           5794.09,
           "Pounds"
          ],
          [
           "BP AMOCO CHEMICAL COMPANY",
           230,
           "Pounds"
          ],
          [
           "PLASTIC COMPOSITES CO",
           1436,
           "Pounds"
          ],
          [
           "KORAL INDUSTRIES INC",
           107559,
           "Pounds"
          ],
          [
           "PLAS-TANKS INDUSTRIES INC",
           14800,
           "Pounds"
          ],
          [
           "AXALTA COATING SYSTEMS USA LLC-FRONT ROYAL PLANT",
           1178,
           "Pounds"
          ],
          [
           "HOUSTON REFINING LP",
           6,
           "Pounds"
          ],
          [
           "ZOLTEK CORP",
           3980,
           "Pounds"
          ],
          [
           "JASON INTERNATIONAL INC",
           5025.1,
           "Pounds"
          ],
          [
           "BEST BATH SYSTEMS",
           119968,
           "Pounds"
          ],
          [
           "ALL PLASTICS & FIBERGLASS INC",
           2811.18,
           "Pounds"
          ],
          [
           "3M COTTAGE GROVE CENTER",
           0.4,
           "Pounds"
          ],
          [
           "DURA TECHNOLOGIES INC",
           0,
           "Pounds"
          ],
          [
           "ADVANCED MARINE PERFORMANCE LLC",
           6016.7,
           "Pounds"
          ],
          [
           "EDON COMPOSITES",
           6438,
           "Pounds"
          ],
          [
           "ASHLAND LLC",
           26,
           "Pounds"
          ],
          [
           "POLYNT COMPOSITES USA INC - HOUSTON",
           23,
           "Pounds"
          ],
          [
           "ARCELORMITTAL MONESSEN LLC COKE PLANT",
           0,
           "Pounds"
          ],
          [
           "MODERN WELDING CO OF IOWA INC",
           9244.35,
           "Pounds"
          ],
          [
           "WESTPORT LLC WESTPORT",
           5036,
           "Pounds"
          ],
          [
           "AFCO ARCHITECTURAL PRODUCTS",
           0,
           "Pounds"
          ],
          [
           "CF MAIER COMPOSITES INC",
           0,
           "Pounds"
          ],
          [
           "INPRO CORP",
           150,
           "Pounds"
          ],
          [
           "CREATIVE PULTRUSIONS INC",
           11519,
           "Pounds"
          ],
          [
           "MARTIN ENTERPRISES",
           0,
           "Pounds"
          ],
          [
           "MARTECH",
           32116,
           "Pounds"
          ],
          [
           "PENTAIR WATER POOL & SPA INC",
           11000,
           "Pounds"
          ],
          [
           "QUANTUM COMPOSITES INC",
           1347,
           "Pounds"
          ],
          [
           "BETTER WAY PRODUCTS",
           305807,
           "Pounds"
          ],
          [
           "SUPERIOR SOLVENTS & CHEMICALS",
           0,
           "Pounds"
          ],
          [
           "EXXONMOBIL BATON ROUGE CHEMICAL PLANT NORTH",
           0,
           "Pounds"
          ],
          [
           "SHELL NORCO CHEMICAL PLANT",
           569.5,
           "Pounds"
          ],
          [
           "SHELL NORCO CHEMICAL PLANT",
           451.63,
           "Pounds"
          ],
          [
           "SUNSATION PRODUCTS INC",
           6561,
           "Pounds"
          ],
          [
           "XERXES CORP",
           205247,
           "Pounds"
          ],
          [
           "PERMIAN TANK & MANUFACTURING INC FIBERGLASS FACILITY",
           2899,
           "Pounds"
          ],
          [
           "TENCOM LTD",
           6484,
           "Pounds"
          ],
          [
           "FUTURE PIPE INDUSTRIES",
           0,
           "Pounds"
          ],
          [
           "BOWIE INTERNATIONAL LLC",
           5923,
           "Pounds"
          ],
          [
           "CHEVRON PHILLIPS CHEMICAL CO",
           0,
           "Pounds"
          ],
          [
           "WESTLAKE PETROCHEMICALS ETHYLENE",
           5860,
           "Pounds"
          ],
          [
           "POLYNT COMPOSITES USA INC",
           2992,
           "Pounds"
          ],
          [
           "WESTLAKE PETROCHEMICALS ETHYLENE",
           473,
           "Pounds"
          ],
          [
           "SUNDANCE BOATS",
           0,
           "Pounds"
          ],
          [
           "WYNNEWOOD REFINING CO",
           0,
           "Pounds"
          ],
          [
           "STANCHEM INC",
           23.39,
           "Pounds"
          ],
          [
           "CARSTENS INDUSTRIES INC",
           14847.36,
           "Pounds"
          ],
          [
           "CORE MOLDING TECHNOLOGIES",
           0,
           "Pounds"
          ],
          [
           "MCCLARIN PLASTICS LLC",
           137243,
           "Pounds"
          ],
          [
           "CONTENDER BOATS INC",
           54100,
           "Pounds"
          ],
          [
           "AMERICAN ACRYLIC CORP",
           46,
           "Pounds"
          ],
          [
           "COBALT BOATS LLC",
           25678,
           "Pounds"
          ],
          [
           "MILES FIBERGLASS & PLASTICS INC",
           15088,
           "Pounds"
          ],
          [
           "SUPERIOR OIL CO INC",
           0,
           "Pounds"
          ],
          [
           "COMPANION SYSTEMS INC",
           2668.4,
           "Pounds"
          ],
          [
           "TRADEBE TREATMENT & RECYCLING OF TENNESSEE LLC",
           0,
           "Pounds"
          ],
          [
           "AQUATIC CO",
           19100,
           "Pounds"
          ],
          [
           "NORDIC FIBERGLASS INC",
           98932,
           "Pounds"
          ],
          [
           "MARTIN ENTERPRISES",
           0,
           "Pounds"
          ],
          [
           "ACO INC",
           2662,
           "Pounds"
          ],
          [
           "LTA MANUFACTURING LLC",
           36778,
           "Pounds"
          ],
          [
           "SHELL NORCO CHEMICAL PLANT WEST SITE",
           0,
           "Pounds"
          ],
          [
           "EMERALD SERVICES INC",
           37,
           "Pounds"
          ],
          [
           "DELAWARE VALLEY CUSTOM MARBLE INC",
           4372,
           "Pounds"
          ],
          [
           "CHEMICAL SOLVENTS INC--DENISON FACILITY",
           5,
           "Pounds"
          ],
          [
           "SWIM PLATFORMS INC",
           9681,
           "Pounds"
          ],
          [
           "ASHLEY INDUSTRIAL MOLDING INC",
           340,
           "Pounds"
          ],
          [
           "MAR-BAL INC",
           0,
           "Pounds"
          ],
          [
           "INEOS COMPOSITES US LLC",
           4506,
           "Pounds"
          ],
          [
           "NORTH VERNON INDUSTRY CORP",
           9017,
           "Pounds"
          ],
          [
           "ALDRICH CHEMICAL CO LLC TEUTONIA",
           0,
           "Pounds"
          ],
          [
           "K-SOLV CHEMICALS LLC",
           335,
           "Pounds"
          ],
          [
           "SWITZERLAND HILLS INC",
           3732,
           "Pounds"
          ],
          [
           "MOLDED FIBER GLASS NORTH CAROLINA",
           16564,
           "Pounds"
          ],
          [
           "THORPE PLANT SERVICES",
           2109,
           "Pounds"
          ],
          [
           "MOLDED FIBER GLASS COMPANIES/TEXAS",
           17214,
           "Pounds"
          ],
          [
           "SHERWIN-WILLIAMS CO",
           0,
           "Pounds"
          ],
          [
           "MAPEI CORP",
           50,
           "Pounds"
          ],
          [
           "INDULOR AMERICA LP",
           117,
           "Pounds"
          ],
          [
           "TOSHIBA INTERNATIONAL CORP",
           8692.6,
           "Pounds"
          ],
          [
           "PLASTPRO INC",
           0,
           "Pounds"
          ],
          [
           "ARKEMA INC",
           250,
           "Pounds"
          ],
          [
           "SHERWIN-WILLIAMS CO",
           3071,
           "Pounds"
          ],
          [
           "A-1 FIBERGLASS",
           20587.96,
           "Pounds"
          ],
          [
           "ADVANCE COATINGS CO",
           2190,
           "Pounds"
          ],
          [
           "CHEMOIL CORP",
           0.33504,
           "Pounds"
          ],
          [
           "SEMINOLE MARINE INC",
           400,
           "Pounds"
          ],
          [
           "SUNRISE COMPOSITES INC",
           6806,
           "Pounds"
          ],
          [
           "MARINE ELECTRICAL PRODUCTS",
           19375,
           "Pounds"
          ],
          [
           "MCGEAN-ROHCO INC",
           0,
           "Pounds"
          ],
          [
           "POLYGON CO",
           306,
           "Pounds"
          ],
          [
           "RANGER TUGS MONROE R",
           9227,
           "Pounds"
          ],
          [
           "CLEAN HARBORS DEER PARK LLC",
           0.82,
           "Pounds"
          ],
          [
           "E-STONE USA CORP",
           525.64,
           "Pounds"
          ],
          [
           "TRENWYTH INDUSTRIES",
           0,
           "Pounds"
          ],
          [
           "GOODYEAR TIRE & RUBBER CO",
           0,
           "Pounds"
          ],
          [
           "JP INC DBA JASPER PLASTIC SOLUTIONS",
           13939,
           "Pounds"
          ],
          [
           "MALIBU BOATS LLC",
           134030,
           "Pounds"
          ],
          [
           "ALTEC OSCEOLA BODY PLANT",
           51000,
           "Pounds"
          ],
          [
           "INDORAMA VENTURES OLEFINS LLC",
           710,
           "Pounds"
          ],
          [
           "PHILLIPS 66 CO-SANTA MARIA REFINERY",
           1.82,
           "Pounds"
          ],
          [
           "SEASAFE INC",
           3031.24,
           "Pounds"
          ],
          [
           "DADI BATHWARE",
           0,
           "Pounds"
          ],
          [
           "HOOD MANUFACTURING INC",
           17421,
           "Pounds"
          ],
          [
           "CONTEMPORARY PRODUCTS OF TEXAS INC",
           200364,
           "Pounds"
          ],
          [
           "KEY WEST BOATS INC PLANT 1 (RIDGEVILLE)",
           97200,
           "Pounds"
          ],
          [
           "VIRGINIA MARBLE MANUFACTURERS INC",
           62500,
           "Pounds"
          ],
          [
           "DUXBURY COMPOSITE PRODUCTS DBA PLP COMPOSITES",
           4437,
           "Pounds"
          ],
          [
           "LUBRIZOL CORP",
           340,
           "Pounds"
          ],
          [
           "ADVANCED ARCHITECTURAL PRODUCTS",
           16159,
           "Pounds"
          ],
          [
           "INDUSTRIAL MODELS INC",
           0,
           "Pounds"
          ],
          [
           "MINOVA USA INC",
           1700,
           "Pounds"
          ],
          [
           "HK RESEARCH CORP",
           204,
           "Pounds"
          ],
          [
           "D&T FIBERGLASS INC",
           15709,
           "Pounds"
          ],
          [
           "DART POLYMERS INC",
           45238,
           "Pounds"
          ],
          [
           "GEON PERFORMANCE SOLUTIONS",
           250,
           "Pounds"
          ],
          [
           "ERSHIGS INC",
           12923,
           "Pounds"
          ],
          [
           "AMERICAS STYRENICS ALLYNS POINT PLANT",
           7311.18,
           "Pounds"
          ],
          [
           "REICHHOLD LLC 2",
           2100,
           "Pounds"
          ],
          [
           "MAAX SPAS INDUSTRIES CORP",
           75272,
           "Pounds"
          ],
          [
           "MILGARD MANUFACTURING LLC TACOMA PULTRUSION",
           673,
           "Pounds"
          ],
          [
           "BULK MOLDING COMPOUNDS INC",
           14237,
           "Pounds"
          ],
          [
           "ROHM & HAAS CHEMICALS LLC - KNOXVILLE SITE",
           157,
           "Pounds"
          ],
          [
           "ALPHA GENERAL SERVICES INC",
           24575,
           "Pounds"
          ],
          [
           "LPI INC",
           40870,
           "Pounds"
          ],
          [
           "MCCLURE INDUSTRIES INC",
           6174,
           "Pounds"
          ],
          [
           "EVOLVE STONE LLC",
           5997,
           "Pounds"
          ],
          [
           "UNIVAR SOLUTIONS USA INC - CARTERET",
           0,
           "Pounds"
          ],
          [
           "CLOCK SPRING",
           5356,
           "Pounds"
          ],
          [
           "REMEE CASTING",
           1697,
           "Pounds"
          ],
          [
           "II STANLEY CO INC",
           0,
           "Pounds"
          ],
          [
           "INEOS STYROLUTION AMERICA LLC",
           24945,
           "Pounds"
          ],
          [
           "DESIGN TANKS LLC",
           6323.34,
           "Pounds"
          ],
          [
           "MERCER PLANT",
           0,
           "Pounds"
          ],
          [
           "COATINGS & ADHESIVES CORP",
           190,
           "Pounds"
          ],
          [
           "TORRANCE REFINING CO LLC",
           280,
           "Pounds"
          ],
          [
           "BATHCRAFT LLC",
           118629,
           "Pounds"
          ],
          [
           "OCCIDENTAL CHEMICAL CORP",
           2.5,
           "Pounds"
          ],
          [
           "VALERO PARTNERS MCKEE",
           250,
           "Pounds"
          ],
          [
           "PROVIRON INC",
           5,
           "Pounds"
          ],
          [
           "SABIC INNOVATIVE PLASTICS US LLC",
           73388,
           "Pounds"
          ],
          [
           "BASF TOTAL PETROCHEMICALS LLC",
           1061.9,
           "Pounds"
          ],
          [
           "CONTINENTAL STRUCTURAL PLASTICS INC OF OHIO",
           5460,
           "Pounds"
          ],
          [
           "SMC NYE MINE SITE",
           0,
           "Pounds"
          ],
          [
           "CLARKE PRODUCTS INC",
           51316,
           "Pounds"
          ],
          [
           "TESORO LOS ANGELES REFINERY-CARSON OPERATIONS",
           0,
           "Pounds"
          ],
          [
           "DELTECH POLYMERS CORP",
           792,
           "Pounds"
          ],
          [
           "AQUATIC CO",
           155788,
           "Pounds"
          ],
          [
           "TAYLOR INDUSTRIES INC",
           4905,
           "Pounds"
          ],
          [
           "ESSENTIAL INDUSTRIES INC",
           0,
           "Pounds"
          ],
          [
           "TESORO LOS ANGELES REFINERY-CARSON OPERATIONS",
           0,
           "Pounds"
          ],
          [
           "TESORO LOS ANGELES REFINERY-CARSON OPERATIONS",
           0,
           "Pounds"
          ],
          [
           "TPI COMPOSITES INC",
           25011,
           "Pounds"
          ],
          [
           "EMCO WILLIAMS INC",
           220,
           "Pounds"
          ],
          [
           "BEDFORD REINFORCED PLASTICS INC",
           250,
           "Pounds"
          ],
          [
           "CONVENT REFINERY",
           7255,
           "Pounds"
          ],
          [
           "RAVAGO MANUFACTURING AMERICAS",
           0,
           "Pounds"
          ],
          [
           "COBALT BOATS LLC",
           205693,
           "Pounds"
          ],
          [
           "CHARLESTON CORP",
           93446,
           "Pounds"
          ],
          [
           "MAVERICK BOAT CO",
           157700,
           "Pounds"
          ],
          [
           "ASHLEY INDUSTRIAL MOLDING",
           440,
           "Pounds"
          ],
          [
           "ORTEC INC",
           61,
           "Pounds"
          ],
          [
           "FLUID MOTION LLC",
           11507,
           "Pounds"
          ],
          [
           "PROTOTYPE CONCEPTS INC",
           292,
           "Pounds"
          ],
          [
           "CONTINENTAL STRUCTURAL PLASTICS OF LOUISIANA",
           2142,
           "Pounds"
          ],
          [
           "FIBERPRO INC",
           40687,
           "Pounds"
          ],
          [
           "PEXCO LLC",
           0,
           "Pounds"
          ],
          [
           "ORLANDI STATUARY CO",
           1786,
           "Pounds"
          ],
          [
           "TOWER STRUCTURAL LAMINATING",
           139308,
           "Pounds"
          ],
          [
           "TOPP INDUSTRIES INC",
           88820,
           "Pounds"
          ],
          [
           "PREMIX INC A SUBSIDIARY OF A SCHULMAN INC",
           1276,
           "Pounds"
          ],
          [
           "F/G PRODUCTS INC",
           14522.79,
           "Pounds"
          ],
          [
           "UNIFORM COLOR CO",
           0.56,
           "Pounds"
          ],
          [
           "PHILLIPS 66 CO FREEPORT I TERMINAL",
           8,
           "Pounds"
          ],
          [
           "DIVERSIFIED STRUCTURAL COMPOSITES",
           750,
           "Pounds"
          ],
          [
           "PPG INDUSTRIES OHIO INC CIRCLEVILLE OH",
           320,
           "Pounds"
          ],
          [
           "MOTIVA CHEMICALS LLC",
           17,
           "Pounds"
          ],
          [
           "CUYAHOGA MOLDED PLASTICS CORP - EUCLID",
           0,
           "Pounds"
          ],
          [
           "MODERN WELDING CO OF OWENSBORO INC",
           2527.26,
           "Pounds"
          ],
          [
           "VALERO REFINING - MERAUX LLC MERAUX REFINERY",
           11,
           "Pounds"
          ],
          [
           "MT AIRY TERMINAL LLC",
           5,
           "Pounds"
          ],
          [
           "PREMIUM COMPOSITE TECHNOLOGY NA",
           15.51,
           "Pounds"
          ],
          [
           "IDI CARIBE INC",
           10703,
           "Pounds"
          ],
          [
           "DUREZ CORP",
           173,
           "Pounds"
          ],
          [
           "CIGARETTE RACING TEAM LLC",
           0,
           "Pounds"
          ],
          [
           "HUNTSMAN PETROCHEMICAL LLC PORT NECHES FACILITY",
           70,
           "Pounds"
          ],
          [
           "NATIONWIDE TANK & PIPE LLC",
           31782.9,
           "Pounds"
          ],
          [
           "AUGUSTA FIBERGLASS COATINGS INC",
           0,
           "Pounds"
          ],
          [
           "INDUSTRIAL DIELECTRICS INC",
           5025,
           "Pounds"
          ],
          [
           "LACC LLC US/LOTTE CHEMICAL LOUISIANA LLC",
           4,
           "Pounds"
          ],
          [
           "BUZZI UNICEM USA-GREENCASTLE PLANT",
           141.8,
           "Pounds"
          ],
          [
           "REICHHOLD LLC2",
           5252,
           "Pounds"
          ],
          [
           "R2R & D LLC DBA SUPEROD",
           6016,
           "Pounds"
          ],
          [
           "PSI MOLDED PLASTICS FORMERLY KNOWN AS GI PLASTEK",
           0,
           "Pounds"
          ],
          [
           "UNIVAR SOLUTIONS-DORAVILLE",
           1,
           "Pounds"
          ],
          [
           "LNVA-NORTH REGIONAL TREATMENT PLANT",
           0,
           "Pounds"
          ],
          [
           "MIDWEST COMPOSITES LLC",
           2100,
           "Pounds"
          ],
          [
           "NOVA CHEMICALS OLEFINS LLC",
           355,
           "Pounds"
          ],
          [
           "SOUTHERN ILLINOIS STORM SHELTERS",
           8899.8,
           "Pounds"
          ],
          [
           "DIANAL AMERICA INC",
           0,
           "Pounds"
          ],
          [
           "NEWLETT INC D/B/A GEMSTONE",
           0,
           "Pounds"
          ],
          [
           "DIAMOND SHAMROCK REFINING CO LP",
           0.4,
           "Pounds"
          ],
          [
           "ORENCO SYSTEMS INC - SUTHERLIN FACILITY",
           0,
           "Pounds"
          ],
          [
           "HUDSON PRODUCTS CORP",
           13440,
           "Pounds"
          ],
          [
           "SCOUT BOATS INC",
           112,
           "Pounds"
          ],
          [
           "TECHLINE PRODUCTS",
           4735,
           "Pounds"
          ],
          [
           "SEKISUI POLYMER INNOVATIONS LLC",
           1831,
           "Pounds"
          ],
          [
           "VALERO PARTNERS LLC",
           0,
           "Pounds"
          ],
          [
           "REICHHOLD LLC 2",
           4423,
           "Pounds"
          ],
          [
           "CUSTOM PULTRUSIONS INC",
           4013.91,
           "Pounds"
          ],
          [
           "ALBEMARLE US INC",
           0,
           "Pounds"
          ],
          [
           "GB MANUFACTURING INC CALIF ACRYLIC IND INC (DBA CAL SPAS)",
           11363.3,
           "Pounds"
          ],
          [
           "ESTRON CHEMICALS INC",
           356,
           "Pounds"
          ],
          [
           "ENDURANCE LIFT SOLUTIONS LLC",
           13820,
           "Pounds"
          ],
          [
           "ALTEC INDUSTRIES INC",
           4945,
           "Pounds"
          ],
          [
           "FIBERGLASS INNOVATIONS LLC",
           0,
           "Pounds"
          ],
          [
           "WEIDMANN ELECTRICAL TECHNOLOGY INC",
           8046.27,
           "Pounds"
          ],
          [
           "CUTLER HAMMER ELECTRICAL CO",
           0,
           "Pounds"
          ],
          [
           "INEOS COMPOSITES PHILADELPHIA PLANT",
           2115,
           "Pounds"
          ],
          [
           "SEA PRO BOATS",
           101980,
           "Pounds"
          ],
          [
           "STANLEY ELECTRIC US CO INC",
           0,
           "Pounds"
          ],
          [
           "SI GROUP BAYTOWN",
           35.291,
           "Pounds"
          ],
          [
           "FIRESTONE POLYMERS LLC",
           45000,
           "Pounds"
          ],
          [
           "LATHAM POOL PRODUCTS INC D/B/A VIKING POOLS-TN",
           70060,
           "Pounds"
          ],
          [
           "TPC GROUP",
           0,
           "Pounds"
          ],
          [
           "FLORESTONE PRODUCTS CO INC",
           48000,
           "Pounds"
          ],
          [
           "ENGINEERED POLYMER SOLUTIONS INC",
           753,
           "Pounds"
          ],
          [
           "CLEAN HARBORS ENVIRONMENTAL SERVICES INC",
           8.45,
           "Pounds"
          ],
          [
           "KINGSPAN LIGHT + AIR",
           440,
           "Pounds"
          ],
          [
           "THORPE PLANT SERVICES INC",
           1886,
           "Pounds"
          ],
          [
           "FIBERBASIN INC",
           1382,
           "Pounds"
          ],
          [
           "REC BOAT HOLDINGS-CRUISER PLANT",
           109051.71,
           "Pounds"
          ],
          [
           "POLYNT COMPOSITES USA INC",
           8106.6,
           "Pounds"
          ],
          [
           "FLINT HILLS RESOURCES PERU LLC",
           4974,
           "Pounds"
          ],
          [
           "LYONDELL CHEMICAL CO",
           40853,
           "Pounds"
          ],
          [
           "POLYNT COMPOSITES USA INC - ENNIS",
           49.47,
           "Pounds"
          ],
          [
           "PATRICK INDUSTRIES INC,DBA BAYMONT INC BELMONT FACILITY",
           114440,
           "Pounds"
          ],
          [
           "ASHLAND SPECIALTY INGREDIENTS",
           180,
           "Pounds"
          ],
          [
           "DART CONTAINER CORP OF PENNSYLVANIA",
           2537.49,
           "Pounds"
          ],
          [
           "CORE MOLDING TECHNOLOGIES",
           1081.37,
           "Pounds"
          ],
          [
           "BALTIMORE TERMINAL",
           7,
           "Pounds"
          ],
          [
           "HEXA AMERICAS INC",
           0,
           "Pounds"
          ],
          [
           "FIVE STAR MARINE INC",
           18149,
           "Pounds"
          ],
          [
           "STRONGWELL CORP HIGHLANDS DIV",
           0,
           "Pounds"
          ],
          [
           "EMPIRE FIBERGLASS PRODUCTS INC",
           6412,
           "Pounds"
          ],
          [
           "GLOBAL COMPOSITES INC PLANT 4",
           97910.6,
           "Pounds"
          ],
          [
           "3M CO - CORDOVA",
           280,
           "Pounds"
          ],
          [
           "NISSAN NA INC",
           804,
           "Pounds"
          ],
          [
           "MODERN WELDING CO OF GEORGIA,INC",
           6752,
           "Pounds"
          ],
          [
           "MONUMENT CHEMICAL BAYTOWN LLC",
           6,
           "Pounds"
          ],
          [
           "ELLIOTT MANUFACTURED HOMES INC",
           5911,
           "Pounds"
          ],
          [
           "YAMAHA MOTOR MANUFACTURING CORP OF AMERICA",
           284.8025,
           "Pounds"
          ],
          [
           "JOHN L ARMITAGE & CO",
           0,
           "Pounds"
          ],
          [
           "TRUCK ACCESSORIES GROUP LLC DBA TAG EAST",
           77154,
           "Pounds"
          ],
          [
           "SEA RAY BOATS TELLICO FACILITY",
           227204,
           "Pounds"
          ],
          [
           "LAFARGE (INCLUDING SYSTECH ENV CORP)",
           107,
           "Pounds"
          ],
          [
           "CHRISTENSEN SHIPYARDS LLC",
           0,
           "Pounds"
          ],
          [
           "WHITAKER SOLVENTS & CHEMICAL S",
           0,
           "Pounds"
          ],
          [
           "SUPERIOR FIBERGLASS & RESINS",
           0,
           "Pounds"
          ],
          [
           "STRUCTURAL COMPOSITES OF INDIA NA INC",
           141980,
           "Pounds"
          ],
          [
           "ONYX COLLECTION INC",
           663550,
           "Pounds"
          ],
          [
           "SAFETY-KLEEN SYSTEMS INC",
           58,
           "Pounds"
          ],
          [
           "BETTER WAY PRODUCTS",
           0,
           "Pounds"
          ],
          [
           "LYONDELLBASELL ADVANCED POLYMERS INC",
           70698.5,
           "Pounds"
          ],
          [
           "MASSARELLI'S LAWN ORNAMENTS INC",
           0,
           "Pounds"
          ],
          [
           "AEXCEL CORP",
           3206,
           "Pounds"
          ],
          [
           "ROSS INCINERATION SERVICES INC",
           0.006999999999999999,
           "Pounds"
          ],
          [
           "CRANE COMPOSITES INC GOSHEN OPERATIONS",
           5138,
           "Pounds"
          ],
          [
           "RAVEN ANTENNA SYSTEMS (DBA GLOBAL SKYWARE)",
           11830.8,
           "Pounds"
          ],
          [
           "OLDCASTLE INFRASTRUCTURE INC",
           543,
           "Pounds"
          ],
          [
           "REICHHOLD LLC 2",
           305.8,
           "Pounds"
          ],
          [
           "GEORGIA-PACIFIC CHEMICALS LLC",
           56,
           "Pounds"
          ],
          [
           "NORTH AMERICAN LIGHTING",
           3286.6,
           "Pounds"
          ],
          [
           "KAWASAKI MOTORS MANUFACTURING CORP USA",
           727,
           "Pounds"
          ],
          [
           "AQUATIC CO",
           8423,
           "Pounds"
          ],
          [
           "CHEVRON PHILLIPS CHEMICAL CO LP",
           620,
           "Pounds"
          ],
          [
           "CONTINENTAL STRUCTURAL PLASTICS-HUNTINGTON",
           4120,
           "Pounds"
          ],
          [
           "SYSTECH ENVIRONMENTAL CORP",
           5,
           "Pounds"
          ],
          [
           "BP PRODUCTS NA WHITING BUSINESS UNIT",
           0,
           "Pounds"
          ],
          [
           "WINNEBAGO INDUSTRIES INC",
           15900,
           "Pounds"
          ],
          [
           "BECKLIN HOLDINGS INC",
           6451,
           "Pounds"
          ],
          [
           "FLORESTONE PRODUCTS CO INC",
           250,
           "Pounds"
          ],
          [
           "LF MANUFACTURING INC - QFR P PLANT",
           75289.2,
           "Pounds"
          ],
          [
           "MCDONALD TANK & EQUIPMENT CO INC",
           0,
           "Pounds"
          ],
          [
           "CYTEC INDUSTRIES INC",
           189.6,
           "Pounds"
          ],
          [
           "INEOS USA LLC - CHOCOLATE BAYOU PLANT",
           5,
           "Pounds"
          ],
          [
           "FLUID MOTION LLC",
           8749,
           "Pounds"
          ],
          [
           "CARSTIN BRANDS INC",
           34889,
           "Pounds"
          ],
          [
           "TM DEER PARK SERVICES LP",
           9,
           "Pounds"
          ],
          [
           "GREEN COUNTRY MARBLE",
           13422,
           "Pounds"
          ],
          [
           "FALCON BASS BOATS",
           14379.38,
           "Pounds"
          ],
          [
           "CLARION BATHWARE",
           162646,
           "Pounds"
          ],
          [
           "ROHM & HAAS CHEMICALS LLC",
           7,
           "Pounds"
          ],
          [
           "NORTH END COMPOSITES",
           0,
           "Pounds"
          ],
          [
           "LATHAM POOL PRODUCTS INC - DEWITT IA",
           53623,
           "Pounds"
          ],
          [
           "GLOBAL COMPOSITES INC PLANT 6 PANEL DIV",
           52475.06,
           "Pounds"
          ],
          [
           "MAAX US CORP",
           1462,
           "Pounds"
          ],
          [
           "GOLDSHIELD FIBERGLASS INC 43-2",
           149401,
           "Pounds"
          ],
          [
           "KEYSTONE CEMENT CO",
           250,
           "Pounds"
          ],
          [
           "FIBER GLASS SYSTEMS",
           1060,
           "Pounds"
          ],
          [
           "WILSONART LLC TEMPLE NORTH",
           336,
           "Pounds"
          ],
          [
           "SANGER BOATS INC",
           5,
           "Pounds"
          ],
          [
           "CHROMAFLO TECHNOLOGIES CORP",
           338,
           "Pounds"
          ],
          [
           "JONES PERFORMANCE PRODUCTS INC",
           29860,
           "Pounds"
          ],
          [
           "SUN POOLS INC",
           32194,
           "Pounds"
          ],
          [
           "HIGHWATER MARINE LLC DBA RINKER BOAT CO",
           22612.5,
           "Pounds"
          ],
          [
           "COATEX INC",
           0,
           "Pounds"
          ],
          [
           "VALERO DONALDSONVILLE ASPHALT TERMINAL",
           0,
           "Pounds"
          ],
          [
           "KITCHEN & BATH CENTER",
           3425,
           "Pounds"
          ],
          [
           "FUTUREFUEL CHEMICAL CO",
           0,
           "Pounds"
          ],
          [
           "EVAPCO INC",
           76,
           "Pounds"
          ],
          [
           "CONTINENTAL STRUCTURAL PLASTICS-CAREY",
           12605,
           "Pounds"
          ],
          [
           "GLOBAL COMPOSITES INC PLANT 1 & 2",
           52945.407999999996,
           "Pounds"
          ],
          [
           "HASTINGS FIBERGLASS PRODUCTS",
           4645,
           "Pounds"
          ],
          [
           "COMPLETE HOME CONCEPTS INC",
           7912,
           "Pounds"
          ],
          [
           "VALEO NA INC",
           0,
           "Pounds"
          ],
          [
           "CAYMAS BOATS LLC",
           18285,
           "Pounds"
          ],
          [
           "SABIC INNOVATIVE PLASTICS US LLC",
           158,
           "Pounds"
          ],
          [
           "PRECISION TANK & EQUIPMENT",
           21505,
           "Pounds"
          ],
          [
           "UNICELL BODY CO INC",
           43676,
           "Pounds"
          ],
          [
           "VIRGINIA MARBLE MANUFACTURERS INC",
           49720,
           "Pounds"
          ],
          [
           "SKYLINE COMPOSITES",
           3440,
           "Pounds"
          ],
          [
           "SR SMITH LLC",
           0,
           "Pounds"
          ],
          [
           "MAJEK BOAT WORKS",
           16922,
           "Pounds"
          ],
          [
           "SUPERIOR SOLVENTS & CHEMICALS",
           0,
           "Pounds"
          ],
          [
           "BUZZI UNICEM USA-CAPE GIRARDEAU",
           22,
           "Pounds"
          ],
          [
           "CENTRAL MARBLE PRODUCTS INC",
           6515,
           "Pounds"
          ],
          [
           "E PARRELLA CO INC",
           0,
           "Pounds"
          ],
          [
           "DIAMOND FIBERGLASS",
           19849,
           "Pounds"
          ],
          [
           "POLYNT COMPOSITES USA INC",
           904,
           "Pounds"
          ],
          [
           "INTERPLASTIC CORP",
           6830,
           "Pounds"
          ],
          [
           "CF MAIER COMPOSITES INC",
           0,
           "Pounds"
          ],
          [
           "VALMONT COMPOSITE STRUCTURES NEWBERRY",
           103640,
           "Pounds"
          ],
          [
           "PHILLIPS 66 PONCA CITY SITE",
           829,
           "Pounds"
          ],
          [
           "PHILLIPS 66 PONCA CITY SITE",
           0,
           "Pounds"
          ],
          [
           "DYNACHEM INC",
           0,
           "Pounds"
          ],
          [
           "HOLLYFRONTIER TULSA REFINING WEST FACILITY",
           250,
           "Pounds"
          ],
          [
           "ORENCO SYSTEMS INC - WINCHESTER FACILITY",
           0,
           "Pounds"
          ],
          [
           "ALTEC ENGINEERING INC",
           69360,
           "Pounds"
          ],
          [
           "CUTLER HAMMER ELECTRICAL CO",
           0,
           "Pounds"
          ],
          [
           "TRACKER MARINE CLINTON",
           217312,
           "Pounds"
          ],
          [
           "MOLDED FIBER GLASS TRAY CO",
           16705,
           "Pounds"
          ],
          [
           "ACCENT MARBLE INC",
           512,
           "Pounds"
          ],
          [
           "EASTERN BOATS INC",
           0,
           "Pounds"
          ],
          [
           "FIBERGRATE COMPOSITE STRUCTURES INC",
           71449,
           "Pounds"
          ],
          [
           "KCS INTERNATIONAL INC CRUISERS YACHTS DIV PLANT 2",
           2697,
           "Pounds"
          ],
          [
           "SUPERIOR STONE PRODUCTS INC",
           47,
           "Pounds"
          ],
          [
           "SHERWIN-WILLIAMS CO",
           493,
           "Pounds"
          ],
          [
           "VALERO ENERGY PARTNERS LP",
           0,
           "Pounds"
          ],
          [
           "CW OHIO INC",
           8300,
           "Pounds"
          ],
          [
           "STABILIT AMERICA INC",
           35408,
           "Pounds"
          ],
          [
           "EXXONMOBIL ANCHORAGE TANK FARM",
           0,
           "Pounds"
          ],
          [
           "EXXONMOBIL ANCHORAGE TANK FARM",
           0,
           "Pounds"
          ],
          [
           "EXXONMOBIL ANCHORAGE TANK FARM",
           0,
           "Pounds"
          ],
          [
           "CHALMETTE REFINING LLC",
           46,
           "Pounds"
          ],
          [
           "ROBROY ENCLOSURES",
           3360,
           "Pounds"
          ],
          [
           "SHELL CHEMICAL LP (MOBILE SITE )",
           0,
           "Pounds"
          ],
          [
           "DEFIANCE BOATS LLC",
           0,
           "Pounds"
          ],
          [
           "FIBERGLASS ENGINEERING CO",
           0,
           "Pounds"
          ],
          [
           "VALERO CORPUS CHRISTI ASPHALT TERMINAL",
           0,
           "Pounds"
          ],
          [
           "CHEMICAL WASTE MANAGEMENT - LA KE CHARLES FACILITY",
           0,
           "Pounds"
          ],
          [
           "PRECISION TANK & EQUIPMENT CO",
           11833,
           "Pounds"
          ],
          [
           "KCS INTERNATIONAL INC CRUISERS YACHTS  DIV PLANT 1",
           58692,
           "Pounds"
          ],
          [
           "NOVA CHEMICALS",
           5817,
           "Pounds"
          ],
          [
           "REGAL MARINE INDUSTRIES INC",
           157700,
           "Pounds"
          ],
          [
           "CONTINENTAL STRUCTURAL PLASTICS-VAN WERT",
           47420,
           "Pounds"
          ],
          [
           "KRATON POLYMERS US LLC",
           3100,
           "Pounds"
          ],
          [
           "SPA MANUFACTURE INC",
           8906,
           "Pounds"
          ],
          [
           "K2 MARINE INC",
           18067,
           "Pounds"
          ],
          [
           "LUBRIZOL CORP BAYPORT FACILITY",
           115,
           "Pounds"
          ],
          [
           "WARM RAIN CORP",
           79000,
           "Pounds"
          ],
          [
           "FRONTIER PLASTIC FABRICATORS",
           470.82,
           "Pounds"
          ],
          [
           "PLASTICS ENGINEERING CO",
           333,
           "Pounds"
          ],
          [
           "BETTER WAY PRODUCTS",
           153437,
           "Pounds"
          ],
          [
           "ERSHIGS GRAND BAY FACILITY",
           19070,
           "Pounds"
          ],
          [
           "STATEMENT MARINE LLC",
           4975,
           "Pounds"
          ],
          [
           "GRANITE INLINER LLC",
           0,
           "Pounds"
          ],
          [
           "ECO-SERVICES OPERATIONS",
           0.3,
           "Pounds"
          ],
          [
           "FRONT LINE MANUFACTURING",
           131683,
           "Pounds"
          ],
          [
           "BULK MOLDING COMPOUNDS INC",
           36512,
           "Pounds"
          ],
          [
           "NORTH AMERICAN LIGHTING INC",
           2816.91,
           "Pounds"
          ],
          [
           "CHANNELL ROCKWALL TEXAS",
           877.1,
           "Pounds"
          ],
          [
           "HYDRITE CHEMICAL CO",
           5,
           "Pounds"
          ],
          [
           "INTREPID POWERBOATS INC",
           67744,
           "Pounds"
          ],
          [
           "DGP INC",
           12841.09,
           "Pounds"
          ],
          [
           "LATHAM POOL PRODUCTS INC D/B/A VIKING POOLS-NC",
           122854,
           "Pounds"
          ],
          [
           "VON ROLL USA INC",
           7.1,
           "Pounds"
          ],
          [
           "VALERO PARTNERS LA LLC- TERMINAL",
           1,
           "Pounds"
          ],
          [
           "PALMER OF TEXAS TANKS INC",
           27757,
           "Pounds"
          ],
          [
           "MFG/ALABAMA LLC - PLANT 2",
           8436.2,
           "Pounds"
          ],
          [
           "PREMOLD CORP",
           0,
           "Pounds"
          ],
          [
           "AVONTI KITCHEN & BATH INC",
           0,
           "Pounds"
          ],
          [
           "ARCELORMITTAL CLEVELAND LLC DBA ARCELORMITTAL WARREN",
           0,
           "Pounds"
          ],
          [
           "AMERICAS STYRENICS LLC",
           9806,
           "Pounds"
          ],
          [
           "BASF CORP",
           1430,
           "Pounds"
          ],
          [
           "K F FIBERGLASS INC",
           8243,
           "Pounds"
          ],
          [
           "BRANDFX LLC",
           18045,
           "Pounds"
          ],
          [
           "WATER WAY SOUTH",
           61220,
           "Pounds"
          ],
          [
           "AMERICAN COMPOSITES ENGINEERING INC",
           2903,
           "Pounds"
          ],
          [
           "CARFAIR COMPOSITES USA INC - ST CLOUD",
           46452,
           "Pounds"
          ],
          [
           "KILLEEN MARBLE INC",
           5542.08,
           "Pounds"
          ],
          [
           "RYNONE MANUFACTURING CORP",
           20988.72,
           "Pounds"
          ],
          [
           "BLUESTONE COKE",
           13,
           "Pounds"
          ],
          [
           "INVINCIBLE BOAT CO",
           0,
           "Pounds"
          ],
          [
           "CHAPARRAL BOATS INC",
           440092.78,
           "Pounds"
          ],
          [
           "CENTEK INDUSTRIES INC",
           2483,
           "Pounds"
          ],
          [
           "MESA FULLY FORMED LLC-COOLIDGE",
           14653,
           "Pounds"
          ],
          [
           "MACLEAN FIBERGLASS",
           250,
           "Pounds"
          ],
          [
           "EASTMAN CHEMICAL CO TEXAS OPERATIONS",
           1638,
           "Pounds"
          ],
          [
           "ENGINEERED POLYMER SOLUTIONS INC",
           2304,
           "Pounds"
          ],
          [
           "CAMBRIA PLANT",
           35449,
           "Pounds"
          ],
          [
           "BRAINERD CHEMICAL CO INC",
           250,
           "Pounds"
          ],
          [
           "WE-NO-NAH CANOE INC",
           0,
           "Pounds"
          ],
          [
           "LINDSEY MANUFACTURING CO",
           0,
           "Pounds"
          ],
          [
           "MIDWEST COOLING TOWERS INC",
           50092,
           "Pounds"
          ],
          [
           "ZEHRCO GIANCOLA ACQUISITION FOUR",
           2000,
           "Pounds"
          ],
          [
           "CUSTOM MARBLE & ONYX",
           2557,
           "Pounds"
          ],
          [
           "SWAN SURFACES LLC",
           20,
           "Pounds"
          ],
          [
           "MAVERICK MAINTENANCE & SUPPLY LLC",
           7271.7,
           "Pounds"
          ],
          [
           "DELTA MARINE INDUSTRIES INC",
           1122,
           "Pounds"
          ],
          [
           "MOTIVA DORAVILLE TERMINAL",
           3,
           "Pounds"
          ],
          [
           "CRAIG BAKER MARBLE CO INC",
           0,
           "Pounds"
          ],
          [
           "PERFORMANCE MATERIALS NA INC",
           29.86,
           "Pounds"
          ],
          [
           "ONA POLYMERS LLC",
           250,
           "Pounds"
          ],
          [
           "CONTINENTAL STRUCTURAL PLASTIC S-NORTH BALTIMORE",
           5565,
           "Pounds"
          ],
          [
           "CHANCE RIDES MFG",
           393.4,
           "Pounds"
          ],
          [
           "AOC LLC",
           9.81,
           "Pounds"
          ],
          [
           "ARCHITECTURAL FIBERGLASS INC",
           7367,
           "Pounds"
          ],
          [
           "UNIVAR SOLUTIONS USA INC - HAMILTON",
           0,
           "Pounds"
          ],
          [
           "MOTIVA-PORT ARTHUR REFINERY",
           28,
           "Pounds"
          ],
          [
           "3M CO - DECATUR",
           54,
           "Pounds"
          ],
          [
           "JONES-BLAIR CO",
           0,
           "Pounds"
          ],
          [
           "ANDERSON DEVELOPMENT CO",
           71,
           "Pounds"
          ],
          [
           "JUPITER BACH NA",
           97853,
           "Pounds"
          ],
          [
           "GRANITE INLINER LLC - BAYTOWN",
           0,
           "Pounds"
          ],
          [
           "SABRE CORP",
           10694,
           "Pounds"
          ],
          [
           "ALLEN INDUSTRIES LLC",
           0,
           "Pounds"
          ],
          [
           "R3 COMPOSITES CORP",
           0,
           "Pounds"
          ],
          [
           "ENGINEERED COMPOSITES INC",
           17357,
           "Pounds"
          ],
          [
           "PLACID REFINING CO LLC",
           18,
           "Pounds"
          ],
          [
           "PRAXIS COS LLC",
           194767,
           "Pounds"
          ],
          [
           "MARATHON PETROLEUM CO LP",
           4,
           "Pounds"
          ],
          [
           "MELCHER MANUFACTURING CO INC",
           8729,
           "Pounds"
          ],
          [
           "BARRIER REEF POOLS",
           109500,
           "Pounds"
          ],
          [
           "SHELL OIL PRODUCTS US - PUGET SOUND REFINERY",
           186,
           "Pounds"
          ],
          [
           "DESIGN CONCEPTS/MARINE CONCEPTS",
           61311,
           "Pounds"
          ],
          [
           "WESTPORT LLC 50 METER FACILITY",
           4246,
           "Pounds"
          ],
          [
           "KOHLER CO",
           165540,
           "Pounds"
          ],
          [
           "KERRICO CORP",
           14709,
           "Pounds"
          ],
          [
           "SEA FOX BOAT CO INC",
           91924,
           "Pounds"
          ],
          [
           "ITEN INDUSTRIES INC PLANT 3",
           0,
           "Pounds"
          ],
          [
           "ROHM & HAAS CHEMICALS LLC",
           138,
           "Pounds"
          ],
          [
           "AQUAWORX",
           13537,
           "Pounds"
          ],
          [
           "FIVE STAR FABRICATING INC",
           8957,
           "Pounds"
          ],
          [
           "OMNOVA SOLUTIONS INC",
           17.14,
           "Pounds"
          ],
          [
           "MASTER MARBLE INC",
           1463.39,
           "Pounds"
          ],
          [
           "POLAR KING INTERNATIONAL INC",
           0,
           "Pounds"
          ],
          [
           "BRANDFX LLC",
           19412,
           "Pounds"
          ],
          [
           "ATLANTA MARBLE MANUFACTURING INC",
           3560,
           "Pounds"
          ],
          [
           "EXXONMOBIL REFINING & SUPPLY BAYTOWN REFINERY (PART)",
           580,
           "Pounds"
          ],
          [
           "VOPAK LOGISTICS SERVICES USA INC DEER PARK",
           540,
           "Pounds"
          ],
          [
           "AZELIS AMERICAS CASE LLC",
           0,
           "Pounds"
          ],
          [
           "JOHNSON TRUCK BODIES LLC",
           21575,
           "Pounds"
          ],
          [
           "RODDA PAINT CO",
           0,
           "Pounds"
          ],
          [
           "INTERPLASTIC CORP",
           1742,
           "Pounds"
          ],
          [
           "PHILLIPS 66 LOS ANGELES REFINERY WILMINGTON PLANT",
           3,
           "Pounds"
          ],
          [
           "TRUENORTH STEEL - FARGO",
           0,
           "Pounds"
          ],
          [
           "ROCHLING GLASTIC COMPOSITES",
           2957,
           "Pounds"
          ],
          [
           "MICALLINE LLC",
           3465.75,
           "Pounds"
          ],
          [
           "ERGON WEST VIRGINIA INC",
           0,
           "Pounds"
          ],
          [
           "QUESTECH CORP",
           250,
           "Pounds"
          ],
          [
           "BEETLE PLASTICS LLC A MIDWEST COOLING TOWER CO",
           0,
           "Pounds"
          ],
          [
           "CHEM PRUF DOOR",
           29580,
           "Pounds"
          ],
          [
           "SOUTHPORT YACHTS LLC",
           0,
           "Pounds"
          ],
          [
           "WOOD RIVER REFINERY",
           433,
           "Pounds"
          ],
          [
           "DELTECH CORP",
           417,
           "Pounds"
          ],
          [
           "US BATH GROUP LLC - DBA - MPL CO",
           168389,
           "Pounds"
          ],
          [
           "INEOS COMPOSITES US LLC",
           4495,
           "Pounds"
          ],
          [
           "KEY WEST BOATS INC PLANT 2 (SUMMERVILLE)",
           45900,
           "Pounds"
          ],
          [
           "HB FULLER",
           1464,
           "Pounds"
          ],
          [
           "KBK INDUSTRIES LLC",
           0,
           "Pounds"
          ],
          [
           "VERTELLUS INTEGRATED PYRIDINES LLC",
           0,
           "Pounds"
          ],
          [
           "KIVETT'S INC",
           5685,
           "Pounds"
          ],
          [
           "CRANE COMPOSITES INC",
           3679,
           "Pounds"
          ],
          [
           "GRACE COMPOSITES LLC",
           24270,
           "Pounds"
          ],
          [
           "MTI BATHS INC",
           18900,
           "Pounds"
          ],
          [
           "AMERICAS STYRENICS LLC - JOLIET SITE",
           815,
           "Pounds"
          ],
          [
           "ULTRA/GLAS OF LAKEVILLE INC",
           26692,
           "Pounds"
          ],
          [
           "CHEMICAL WASTE MANAGEMENT",
           0,
           "Pounds"
          ],
          [
           "MESA MARBLE & STONE CO INC  DBA MARBLE-CRAFT",
           1487,
           "Pounds"
          ],
          [
           "BADGER METER INC",
           0,
           "Pounds"
          ],
          [
           "CUSTOM CATS MI INC",
           7556,
           "Pounds"
          ],
          [
           "MITSUBISHI ELECTRIC AUTOMOTIVE AMERICA INC",
           1200,
           "Pounds"
          ],
          [
           "MUSKEGON COMPOSITES INC",
           0,
           "Pounds"
          ],
          [
           "VALERO PARTNERS MEMPHIS LLC",
           0,
           "Pounds"
          ],
          [
           "FINELINE INDUSTRIES LLC",
           250,
           "Pounds"
          ],
          [
           "SHERWIN-WILLIAMS CO",
           23,
           "Pounds"
          ],
          [
           "WACO BOOM CO LTD",
           4675,
           "Pounds"
          ],
          [
           "LATHAM POOL PRODUCTS INC D/B/A VIKING POOLS-LA",
           34209,
           "Pounds"
          ],
          [
           "PHILADELPHIA ENERGY SOLUTIONS REFINING PHILADELPHIA REFINERY",
           52.6,
           "Pounds"
          ],
          [
           "ARCELORMITTAL BURNS HARBOR LLC",
           112,
           "Pounds"
          ],
          [
           "EQUISTAR CHEMICALS CLINTON PL ANT",
           299.5,
           "Pounds"
          ],
          [
           "CLUB KIT INC",
           0,
           "Pounds"
          ],
          [
           "AGEAN MARBLE MANUFACTURING INC",
           2960,
           "Pounds"
          ],
          [
           "BASF CORP - FREEPORT SITE",
           37,
           "Pounds"
          ],
          [
           "SEATING CONCEPTS",
           7431,
           "Pounds"
          ],
          [
           "UNIVAR SOLUTIONS USA INC",
           16,
           "Pounds"
          ],
          [
           "NANOGATE NA LLC",
           5,
           "Pounds"
          ],
          [
           "BARTON SOLVENTS INC BETTENDORF",
           0,
           "Pounds"
          ],
          [
           "BREMEN COMPOSITES LLC",
           26175,
           "Pounds"
          ],
          [
           "JANICKI INDUSTRIES INC",
           5592,
           "Pounds"
          ],
          [
           "MIDWESTERN FABRICATORS INC",
           24407,
           "Pounds"
          ],
          [
           "MILES FIBERGLASS & PLASTICS INC OTTY RD",
           20110,
           "Pounds"
          ],
          [
           "INTERNATIONAL MARBLE INDUSTRIE S",
           24278,
           "Pounds"
          ],
          [
           "EVELANDS INC",
           0,
           "Pounds"
          ],
          [
           "DAKOTA FIBERGLASS INC",
           14248,
           "Pounds"
          ],
          [
           "CUSTOM MARBLE INC",
           5084,
           "Pounds"
          ],
          [
           "EXPLORER VAN INC",
           9454,
           "Pounds"
          ],
          [
           "VECTORWORKS MARINE LLC",
           10636,
           "Pounds"
          ],
          [
           "AMERICAS STYRENICS LLC",
           1110,
           "Pounds"
          ],
          [
           "DILLON MANUFACTURING",
           3500,
           "Pounds"
          ],
          [
           "NOVA CHEMICALS INC",
           10275.09,
           "Pounds"
          ],
          [
           "ALAGLASS POOLS",
           0,
           "Pounds"
          ],
          [
           "INEOS COMPOSITES US LLC",
           2090,
           "Pounds"
          ],
          [
           "MARLAM INDUSTRIES INC",
           34343,
           "Pounds"
          ],
          [
           "SANCO INC",
           0,
           "Pounds"
          ],
          [
           "HARTZELL FAN INC",
           3734,
           "Pounds"
          ],
          [
           "EXXONMOBIL BATON ROUGE REFINERY (PART)",
           100,
           "Pounds"
          ],
          [
           "CULLMAN CASTING CORP",
           2518,
           "Pounds"
          ],
          [
           "JX NIPPON CHEMICAL TEXAS INC",
           6.08,
           "Pounds"
          ],
          [
           "SEA RAY BOATS INC MERRITT ISLAND",
           27220,
           "Pounds"
          ],
          [
           "SHELTER WORKS",
           750,
           "Pounds"
          ],
          [
           "DUDICK INC",
           0,
           "Pounds"
          ],
          [
           "MASON FIBERGLASS LLC DBA SCHMIDT PROGRESSIVE",
           6495,
           "Pounds"
          ],
          [
           "OMNOVA SOLUTIONS",
           3,
           "Pounds"
          ],
          [
           "ASHLAND LLC",
           1,
           "Pounds"
          ],
          [
           "MODERN WELDING CO OF TX INC",
           2243,
           "Pounds"
          ],
          [
           "INEOS STYROLUTION AMERICA LLC",
           24146,
           "Pounds"
          ],
          [
           "ANTENNAS FOR COMMUNICATIONS",
           398,
           "Pounds"
          ],
          [
           "BASF CORP",
           250,
           "Pounds"
          ],
          [
           "NEW BOSTON RTM INC",
           5101.1,
           "Pounds"
          ],
          [
           "TRITON BOATS",
           60969,
           "Pounds"
          ],
          [
           "INEOS COMPOSITES",
           5255,
           "Pounds"
          ],
          [
           "GLOBAL COMPOSITES INC PLANT 3",
           18487.54,
           "Pounds"
          ],
          [
           "LM WIND POWER BLADES INC",
           295460,
           "Pounds"
          ],
          [
           "ARISTECH SURFACES LLC",
           1174,
           "Pounds"
          ],
          [
           "NOURYON SURFACE CHEMISTRY LLC",
           0,
           "Pounds"
          ],
          [
           "MASONITE CORP",
           462,
           "Pounds"
          ],
          [
           "THE DOW CHEMICAL CO - LOUISIANA OPERATIONS",
           279,
           "Pounds"
          ],
          [
           "ELECTRI-GLASS INC",
           12170,
           "Pounds"
          ],
          [
           "ISP CHEMICALS LLC",
           361,
           "Pounds"
          ],
          [
           "MOTIVA ENTERPRISES LLC CHARLOTTE NORTH & SOUTH TERMINALS",
           5,
           "Pounds"
          ],
          [
           "ROYAL ADHESIVES & SEALANTS LLC",
           561,
           "Pounds"
          ],
          [
           "TRECORA CHEMICAL INC",
           0,
           "Pounds"
          ],
          [
           "DANA SEALING PRODUCTS LLC",
           0,
           "Pounds"
          ],
          [
           "PB HOLDCO INC",
           89207,
           "Pounds"
          ],
          [
           "GRANITE INLINER LLC",
           0,
           "Pounds"
          ],
          [
           "SABIC INNOVATIVE PLASTICS MT VERNON LLC",
           300,
           "Pounds"
          ],
          [
           "LINDAU CHEMICALS INC",
           12,
           "Pounds"
          ],
          [
           "CLEARSTREAM WASTEWATER SYSTEMS INC",
           24764,
           "Pounds"
          ],
          [
           "SEA RAY BOATS",
           26266,
           "Pounds"
          ],
          [
           "DESIGN CONCEPTS/MARINE CONCEPTS",
           13891,
           "Pounds"
          ],
          [
           "ARKEMA COATING RESINS",
           250,
           "Pounds"
          ],
          [
           "ALLNEX USA INC",
           34.8,
           "Pounds"
          ],
          [
           "V & E COMPONENTS INC",
           115,
           "Pounds"
          ],
          [
           "GEORGIA PACIFIC LEAF RIVER CELLULOSE LLC",
           1732.54,
           "Pounds"
          ],
          [
           "DUPONT ELECTRONIC POLYMERS",
           1,
           "Pounds"
          ],
          [
           "COMPOSITE DESIGNS INC",
           31405,
           "Pounds"
          ],
          [
           "COMFORT LINE LTD",
           441,
           "Pounds"
          ],
          [
           "COS-MAR CO",
           79917,
           "Pounds"
          ],
          [
           "FORTE PRODUCTS",
           13913.235,
           "Pounds"
          ],
          [
           "CLEAN HARBORS EL DORADO LLC",
           0.34,
           "Pounds"
          ],
          [
           "S2 YACHTS INC TIARA YACHTS INC DIV",
           77492,
           "Pounds"
          ],
          [
           "STEPAN CO",
           0,
           "Pounds"
          ],
          [
           "SYN-MAR PRODUCTS INC",
           1121,
           "Pounds"
          ],
          [
           "AQUATIC CO",
           24520,
           "Pounds"
          ],
          [
           "MASTER SPAS INC",
           103720,
           "Pounds"
          ],
          [
           "PREMIER FIBERGLASS",
           33609.76,
           "Pounds"
          ],
          [
           "RPS COMPOSITES OF ALABAMA INC",
           0,
           "Pounds"
          ],
          [
           "POLYSTAR INC",
           5988,
           "Pounds"
          ],
          [
           "US COMPOSITE PIPE SOUTH",
           3404,
           "Pounds"
          ],
          [
           "AMERICAN BLUEGRASS MARBLE CO INC",
           0,
           "Pounds"
          ],
          [
           "MOTIVA ENTERPRISES LLC PASADENA TERMINAL",
           6,
           "Pounds"
          ],
          [
           "ALLNEX USA INC",
           138,
           "Pounds"
          ],
          [
           "MAY-CRAFT FIBERGLASS PRODUCTS INC",
           7900,
           "Pounds"
          ],
          [
           "ABLE MANUFACTURING & ASSEMBLY LLC",
           79683.94,
           "Pounds"
          ],
          [
           "UNIVERSAL PULTRUSIONS E PLANT",
           2290,
           "Pounds"
          ],
          [
           "MET-PRO TECHNOLOGIES DBA FYBROC UNIT",
           530.5,
           "Pounds"
          ],
          [
           "MOTIVA PORT EVERGLADES SOUTH TERMINAL",
           8,
           "Pounds"
          ],
          [
           "LUBRIZOL",
           1,
           "Pounds"
          ],
          [
           "NBHX TRIM CORP",
           117.1,
           "Pounds"
          ],
          [
           "GREAT LAKES CHEMICAL - SOUTH PLANT",
           170,
           "Pounds"
          ],
          [
           "SPUNSTRAND INC",
           22393,
           "Pounds"
          ],
          [
           "HUBBELL LENOIR CITY INC",
           0,
           "Pounds"
          ],
          [
           "ZEON CHEMICALS LP",
           171,
           "Pounds"
          ],
          [
           "ARCOSA MARINE PRODUCTS INC PLT  73",
           0,
           "Pounds"
          ],
          [
           "VALERO REFINING TEXAS LP CORPUS CHRISTI EAST PLANT",
           630,
           "Pounds"
          ],
          [
           "TECTON PRODUCTS LLC",
           2851,
           "Pounds"
          ],
          [
           "LF MANUFACTURING INC - RIDDLEVILLE PLANT",
           10873.7,
           "Pounds"
          ],
          [
           "SHERWIN-WILLIAMS CO",
           340,
           "Pounds"
          ],
          [
           "KMTEX LLC",
           900,
           "Pounds"
          ],
          [
           "NOV FIBER GLASS SYSTEMS - CONTAINMENT SOLUTIONS",
           140000,
           "Pounds"
          ],
          [
           "RED EWALD LLC",
           17343,
           "Pounds"
          ],
          [
           "SALO MANUFACTURING INC",
           61152,
           "Pounds"
          ],
          [
           "FIBERGLASS UNLIMITED INC",
           7601,
           "Pounds"
          ],
          [
           "COMPOSITE TECHNOLOGY ASSEMBLIES LLC",
           228283,
           "Pounds"
          ],
          [
           "GABRIEL PERFORMANCE PRODUCTS LLC",
           0,
           "Pounds"
          ],
          [
           "MANSFIELD PLUMBING PRODUCTS LLC",
           13000,
           "Pounds"
          ],
          [
           "VALERO REFINING-TEXAS LP",
           250,
           "Pounds"
          ],
          [
           "KOPPERS INC",
           168,
           "Pounds"
          ],
          [
           "NEXEO SOLUTIONS LLC",
           0,
           "Pounds"
          ],
          [
           "EBBTIDE HOLDINGS LLC",
           7977,
           "Pounds"
          ],
          [
           "CORE COMPOSITE CINCINNATI",
           8057,
           "Pounds"
          ],
          [
           "K& D CULTURED MARBLE INC",
           6312.73,
           "Pounds"
          ],
          [
           "ULTRAMAR INC WILMINGTON REFINERY",
           0,
           "Pounds"
          ],
          [
           "OWENS CORNING NON-WOVENS - BLYTHEWOOD LLC",
           0,
           "Pounds"
          ],
          [
           "SKIER'S CHOICE INC",
           54928,
           "Pounds"
          ],
          [
           "CONTAINMENT SOLUTIONS INC",
           0,
           "Pounds"
          ],
          [
           "PHILLIPS 66 LOS ANGELES REFINERY CARSON PLANT",
           0,
           "Pounds"
          ],
          [
           "AUGUSTA FIBERGLASS COATINGS INC",
           0,
           "Pounds"
          ],
          [
           "XERXES CORP",
           139573,
           "Pounds"
          ],
          [
           "KOHLER CO",
           33000,
           "Pounds"
          ],
          [
           "MFG ALABAMA LLC",
           37176,
           "Pounds"
          ],
          [
           "RJ DOUGHERTY ASSOCIATES LLC DBA EVERGLADES BOATS",
           48,
           "Pounds"
          ],
          [
           "ALERIS ROLLED PRODUCTS INC",
           108.54,
           "Pounds"
          ],
          [
           "KURARAY AMERICA INC SEPTON BU",
           79,
           "Pounds"
          ],
          [
           "M&W FIBERGLASS INC",
           16241,
           "Pounds"
          ],
          [
           "NORTH PACIFIC PAPER CO LLC LONGVIEW",
           27246,
           "Pounds"
          ],
          [
           "SWIMEX INC",
           3687,
           "Pounds"
          ],
          [
           "FORMOSA PLASTICS CORP TEXAS",
           2772,
           "Pounds"
          ],
          [
           "WACO COMPOSITES",
           14805,
           "Pounds"
          ],
          [
           "SIMS-LOHMAN",
           11900,
           "Pounds"
          ],
          [
           "LYONDELLBASELL ADVANCED POLYMERS INC",
           6997,
           "Pounds"
          ],
          [
           "MESA FULLY FORMED LLC",
           11181,
           "Pounds"
          ],
          [
           "POLYNT COMPOSITES USA INC - MARSHALL",
           337,
           "Pounds"
          ],
          [
           "BELCO MANUFACTURING CO INC",
           116892,
           "Pounds"
          ],
          [
           "APPLETON GROUP LLC",
           750,
           "Pounds"
          ],
          [
           "CATLETTSBURG REFINING LLC",
           149,
           "Pounds"
          ],
          [
           "ARKEMA INC ALTUGLAS DIV",
           250,
           "Pounds"
          ],
          [
           "REC BOAT HOLDINGS LLC-SPORT/ENGINEERING",
           86064,
           "Pounds"
          ],
          [
           "HOLLYFRONTIER WOODS CROSS REFINING LLC",
           5,
           "Pounds"
          ],
          [
           "ETM ENTERPRISES INC",
           1160,
           "Pounds"
          ],
          [
           "GAC CHEMICAL CORP",
           107.3,
           "Pounds"
          ],
          [
           "AVERY DENNISON MILL HALL",
           0,
           "Pounds"
          ],
          [
           "PHILLIPS 66 CO SWEENY REFINERY COMPLEX",
           49,
           "Pounds"
          ],
          [
           "ITW EVERCOAT",
           2190,
           "Pounds"
          ],
          [
           "I-COMPOSITES LLC DBA INDIANA COMPOSITES",
           34395,
           "Pounds"
          ],
          [
           "INEOS STYROLUTION AMERICA LLC",
           3447,
           "Pounds"
          ],
          [
           "GRANITE INLINER LLC",
           0,
           "Pounds"
          ],
          [
           "FIBRE TECH INC",
           18,
           "Pounds"
          ],
          [
           "BRADLEY CORP",
           123,
           "Pounds"
          ],
          [
           "MASTERCRAFT BOAT CO",
           252637,
           "Pounds"
          ],
          [
           "KALWALL CORP FLAT SHEE T DIV",
           1303,
           "Pounds"
          ],
          [
           "EDENTON BOATWORKS LLC",
           0,
           "Pounds"
          ],
          [
           "CSP OF INDIANA LLC",
           17257,
           "Pounds"
          ],
          [
           "PALMER MANUFACTURING & TANK",
           25899,
           "Pounds"
          ],
          [
           "OLIVER FIBERGLASS PRODUCTS",
           88997,
           "Pounds"
          ],
          [
           "LATHAM POOL PRODUCTS INC D/B/A VIKING POOLS-WV",
           181337,
           "Pounds"
          ],
          [
           "THUNDERBIRD PRODUCTS",
           70907,
           "Pounds"
          ],
          [
           "LIBERTY PULTRUSIONS",
           37884.8,
           "Pounds"
          ],
          [
           "WESTLAKE STYRENE LP MARINE TERMINAL FACILITY",
           13887,
           "Pounds"
          ],
          [
           "FIBERDOME INC PLANT 2",
           35068,
           "Pounds"
          ],
          [
           "DEER PARK_TX (ROH)",
           206,
           "Pounds"
          ],
          [
           "ARIZONA ENVIRONMENTAL CONTAINER CORP",
           45411,
           "Pounds"
          ],
          [
           "SHERWIN-WILLIAMS CO",
           393,
           "Pounds"
          ],
          [
           "RANGER TUGS KENT",
           9081,
           "Pounds"
          ],
          [
           "BASS CAT BOATS & YAR-CRAFT BOATS",
           41946,
           "Pounds"
          ],
          [
           "ARLWIN MANUFACTURING CO INC",
           4574.7,
           "Pounds"
          ],
          [
           "JACKEL INC",
           0,
           "Pounds"
          ],
          [
           "POSCO INC",
           0,
           "Pounds"
          ],
          [
           "LEISURE POOLS USA TRADING INC",
           466323,
           "Pounds"
          ],
          [
           "ST CHARLES OPERATIONS (TAFT/STAR) UNION CARBIDE CORP",
           270,
           "Pounds"
          ],
          [
           "EQ DETROIT INC",
           37,
           "Pounds"
          ],
          [
           "SMOKER CRAFT INC",
           1777,
           "Pounds"
          ],
          [
           "MOLDED FIBER GLASS / UNION CITY",
           25540,
           "Pounds"
          ],
          [
           "EMERALD PERFORMANCE MATERIALS",
           24,
           "Pounds"
          ],
          [
           "VIRON INTERNATIONAL CORP",
           12900,
           "Pounds"
          ],
          [
           "TRINSEO LLC-MI OPERATIONS",
           947,
           "Pounds"
          ],
          [
           "E J PAINTING & FIBERGLASS",
           3823,
           "Pounds"
          ],
          [
           "SAMPSON FIBERGLASS INC",
           40967,
           "Pounds"
          ],
          [
           "FIBERGLASS SPECIALTIES INC",
           10999,
           "Pounds"
          ],
          [
           "MOLDED FIBER GLASS COMPOSITE SYSTEMS CO",
           54046,
           "Pounds"
          ],
          [
           "CUSTOM FIBERGLASS MOLDING INC",
           19176.8,
           "Pounds"
          ],
          [
           "GRANITE INLINER LLC",
           0,
           "Pounds"
          ],
          [
           "AQUATIC CO",
           56440,
           "Pounds"
          ],
          [
           "XEROX CORP OKLAHOMA CITY",
           194,
           "Pounds"
          ],
          [
           "EDGEWATER POWER BOATS LLC",
           22459,
           "Pounds"
          ],
          [
           "YAMAHA JET BOAT MANUFACTURING USA INC",
           381760,
           "Pounds"
          ],
          [
           "PUROLITE",
           750,
           "Pounds"
          ],
          [
           "ROEHM AMERICA LLC",
           1049,
           "Pounds"
          ],
          [
           "ECOLOGICAL TANKS INC",
           24,
           "Pounds"
          ],
          [
           "EQUISTAR CHEMICALS LP",
           642,
           "Pounds"
          ],
          [
           "MFG CONSTRUCTION PRODUCTS",
           15172,
           "Pounds"
          ],
          [
           "F&F COMPOSITE GROUP INC",
           1749,
           "Pounds"
          ],
          [
           "INTERPOLYMER CORP",
           1.1,
           "Pounds"
          ],
          [
           "COMPOSITE TECHNOLOGY ASSEMBLIES LLC",
           7311,
           "Pounds"
          ],
          [
           "VALERO REFINING-TEXAS LP CORPUS CHRISTI WEST PLANT",
           93,
           "Pounds"
          ],
          [
           "BERTRAM YACHTS LLC",
           6926,
           "Pounds"
          ],
          [
           "GEOTEK LLC",
           0,
           "Pounds"
          ],
          [
           "BP-HUSKY REFINING LLC",
           74,
           "Pounds"
          ],
          [
           "NAUTIQUE BOAT CO INC",
           202744,
           "Pounds"
          ],
          [
           "MOLDING PRODUCTS LLC",
           49432,
           "Pounds"
          ],
          [
           "INTERNATIONAL PAINT LLC",
           68,
           "Pounds"
          ],
          [
           "EXXONMOBIL OIL CORP CHEMICAL PLANT (PART)",
           79,
           "Pounds"
          ],
          [
           "ARLANXEO",
           1000,
           "Pounds"
          ],
          [
           "MODERN WELDING CO OF TX INC",
           3133,
           "Pounds"
          ],
          [
           "FRONT LINE MANUFACTURING WARSAW",
           4073,
           "Pounds"
          ],
          [
           "APOLLO AEROSOL INDUSTRIES LLC",
           0,
           "Pounds"
          ],
          [
           "INTERPLASTIC CORP",
           7570,
           "Pounds"
          ],
          [
           "US MARINE INC",
           700,
           "Pounds"
          ],
          [
           "WARMINSTER FIBERGLASS CO",
           7092,
           "Pounds"
          ],
          [
           "INEOS STYROLUTION AMERICA LLC",
           448,
           "Pounds"
          ],
          [
           "TRUCK ACCESSORIES GROUP DBA TAG WEST",
           72533,
           "Pounds"
          ],
          [
           "MINCEY MARBLE MANUFACTURING INC",
           170472,
           "Pounds"
          ],
          [
           "US ECOLOGY TEXAS INC",
           3916.03,
           "Pounds"
          ],
          [
           "DYNASTY SPAS",
           49402,
           "Pounds"
          ],
          [
           "CONCEPT PLASTICS INC",
           1578,
           "Pounds"
          ],
          [
           "PHILLIPS 66 SAN FRANCISCO REFINERY",
           23,
           "Pounds"
          ],
          [
           "ASSOCIATED FIBERGLASS ENTERPRISES",
           18875,
           "Pounds"
          ],
          [
           "AMERICAN ENVIRONMENTAL CONTAINER CORP",
           99560,
           "Pounds"
          ],
          [
           "NAUTIQUE BOAT CO INC",
           0,
           "Pounds"
          ],
          [
           "MONUMENT CHEMICAL KENTUCKY LLC",
           40,
           "Pounds"
          ],
          [
           "JOHNSON COUNTY PIPE INC",
           3924.6,
           "Pounds"
          ],
          [
           "FLUID MOTION LLC",
           6256,
           "Pounds"
          ],
          [
           "ERGON TERMINALING INC-CHATTANOOGA",
           80,
           "Pounds"
          ],
          [
           "PARKER OFFSHORE LLC",
           34286,
           "Pounds"
          ],
          [
           "INTERPLASTIC CORP-FORT WRIGHT",
           505,
           "Pounds"
          ],
          [
           "TOTAL PETROCHEMICALS & REFINING USA INC",
           1,
           "Pounds"
          ],
          [
           "MODERN WELDING CO OF OHIO INC",
           3773,
           "Pounds"
          ],
          [
           "SUPERIOR SOLVENTS & CHEMICALS",
           0,
           "Pounds"
          ],
          [
           "A R E ACCESSORIES LLC",
           12375.27,
           "Pounds"
          ],
          [
           "W&W FIBERGLASS TANK CO",
           6287,
           "Pounds"
          ],
          [
           "PANNIER GRAPHICS",
           3166,
           "Pounds"
          ],
          [
           "CUSTOM FIBERGLASS INC",
           0,
           "Pounds"
          ],
          [
           "GPI CORP",
           6000,
           "Pounds"
          ],
          [
           "CAROLINA SKIFF LLC",
           134023,
           "Pounds"
          ],
          [
           "SPECIALTY POLYMERS INC",
           944,
           "Pounds"
          ],
          [
           "ALBEMARLE CORP",
           5,
           "Pounds"
          ],
          [
           "MANSTONE LLC",
           877,
           "Pounds"
          ],
          [
           "MOLDED PLASTIC INDUSTRIES INC",
           1562,
           "Pounds"
          ],
          [
           "JUPITER MARINE INTERNATIONAL INC",
           0,
           "Pounds"
          ],
          [
           "LG HAUSYS AMERICA INC",
           5300,
           "Pounds"
          ],
          [
           "CALLAHAN CHEMICAL CO",
           5,
           "Pounds"
          ],
          [
           "B & D PLASTICS",
           0,
           "Pounds"
          ],
          [
           "FCC COMMERCIAL FURNITURE INC",
           1350,
           "Pounds"
          ],
          [
           "COVESTRO LLC",
           0,
           "Pounds"
          ],
          [
           "BGM AMERICA INC",
           43000,
           "Pounds"
          ],
          [
           "THE GOODYEAR TIRE & RUBBER CO",
           132775,
           "Pounds"
          ],
          [
           "AOC TENNESSEE PLANT",
           9028,
           "Pounds"
          ],
          [
           "OMNOVA SOLUTIONS INC-MOGADORE PLANT",
           252,
           "Pounds"
          ],
          [
           "AOC LLC",
           124.9,
           "Pounds"
          ],
          [
           "PPG INDUSTRIES INC-OAK CREEK",
           628.97,
           "Pounds"
          ],
          [
           "OMNOVA SOLUTIONS PERFORMANCE CHEMICALS GREEN BAY FACILITY",
           1.16,
           "Pounds"
          ],
          [
           "ALLIED MOULDED PRODUCTS INC",
           18752,
           "Pounds"
          ],
          [
           "STI POLYMER INC",
           78,
           "Pounds"
          ],
          [
           "GREAT LAKES COMPOSITES LLC",
           19869,
           "Pounds"
          ],
          [
           "AMERICAS STYRENICS LLC",
           3872,
           "Pounds"
          ],
          [
           "THE DOW CHEMICAL CO",
           56,
           "Pounds"
          ],
          [
           "CAROLINA COMPOSITES",
           54400,
           "Pounds"
          ],
          [
           "TOTAL PETROCHEMICALS & REFINING USA INC (TOTAL CRAY VALLEY)",
           1500,
           "Pounds"
          ],
          [
           "JOHNS MANVILLE",
           33006,
           "Pounds"
          ],
          [
           "TIGE BOATS INC",
           68283.17,
           "Pounds"
          ],
          [
           "RESINALL CORP",
           379.86,
           "Pounds"
          ],
          [
           "PIONEER PLASTICS CORP",
           11909,
           "Pounds"
          ],
          [
           "BASF CORP",
           91,
           "Pounds"
          ],
          [
           "FIBER-TECH INDUSTRIES",
           0,
           "Pounds"
          ],
          [
           "PELLA CORP - MURRAY OPERATIONS",
           0,
           "Pounds"
          ],
          [
           "SIEMENS ENERGY INC",
           1147,
           "Pounds"
          ],
          [
           "SCHNEIDER ELECTRIC USA",
           5,
           "Pounds"
          ],
          [
           "KRATON CHEMICAL LLC",
           4.95,
           "Pounds"
          ],
          [
           "TRUCK ACCESSORIES GROUP LLC DBA TAG MIDWEST",
           64801,
           "Pounds"
          ],
          [
           "SEABRING MARINE INDUSTRIES INC",
           0,
           "Pounds"
          ],
          [
           "TAYLOR MADE PRODUCTS LLC",
           7031,
           "Pounds"
          ],
          [
           "MAAX US CORP",
           277218,
           "Pounds"
          ],
          [
           "ARCOSA MARINE PRODUCTS INC PLT 1245",
           49668.1,
           "Pounds"
          ],
          [
           "JLOK CORP",
           5996,
           "Pounds"
          ],
          [
           "CARFAIR COMPOSITES USA INC - WAUSAUKEE",
           19902,
           "Pounds"
          ],
          [
           "AMERICAN SYNTHETIC RUBBER CO",
           11270,
           "Pounds"
          ],
          [
           "MARTIN ENTERPRISES",
           4388.01,
           "Pounds"
          ],
          [
           "THE GILL CORP",
           15,
           "Pounds"
          ],
          [
           "USS-CLAIRTON PLANT",
           210,
           "Pounds"
          ],
          [
           "OSBORNE INDUSTRIES INC",
           13616,
           "Pounds"
          ],
          [
           "PETROLEUM CONTAINMENT INC",
           21568,
           "Pounds"
          ],
          [
           "SPORTSMAN BOAT MANUFACTURING INC",
           133503,
           "Pounds"
          ],
          [
           "HENTZEN AEROSPACE",
           0,
           "Pounds"
          ],
          [
           "ROHM & HAAS - LOUISVILLE PL ANT",
           106,
           "Pounds"
          ],
          [
           "ITW PERFORMANCE POLYMERS",
           0,
           "Pounds"
          ],
          [
           "GRANITE INLINER LLC",
           0,
           "Pounds"
          ],
          [
           "UNITED FIBERGLASS INC",
           13499.7,
           "Pounds"
          ],
          [
           "TRITON WEST LLC - SHELL DES PLAINES TERMINAL",
           0.2,
           "Pounds"
          ],
          [
           "SUPERIOR HOME PRODUCTS INC",
           16522,
           "Pounds"
          ],
          [
           "MASTERMOLD LLC",
           0,
           "Pounds"
          ],
          [
           "BASF CORP",
           187,
           "Pounds"
          ],
          [
           "FIREBIRD PRODUCTS LLC",
           6095.22,
           "Pounds"
          ],
          [
           "MARBLE PALACE",
           23.23,
           "Pounds"
          ],
          [
           "WYOMING REFINING CO",
           40.1,
           "Pounds"
          ],
          [
           "POLYNT COMPOSITES USA INC",
           3000,
           "Pounds"
          ],
          [
           "CONTINENTAL STRUCTURAL PLASTICS LLC-LENOIR",
           2799,
           "Pounds"
          ],
          [
           "TALON PRODUCTS LLC",
           12927,
           "Pounds"
          ],
          [
           "ERSHIGS INC - ATTBAR DIV",
           14600,
           "Pounds"
          ],
          [
           "AC POLYMERS INC",
           180,
           "Pounds"
          ],
          [
           "MODERN DAY PRODUCTS",
           1195,
           "Pounds"
          ],
          [
           "RUST-OLEUM CORP",
           274.79,
           "Pounds"
          ],
          [
           "CASTING CREATIONS INC DBA AZTEC INDUSTRIES",
           5691,
           "Pounds"
          ],
          [
           "COMPOSITE & METAL PRODUCTS USA INC DBA COMPOSITES USA",
           2599,
           "Pounds"
          ],
          [
           "NORLITE LLC",
           0.58,
           "Pounds"
          ],
          [
           "XERXES CORP",
           165175,
           "Pounds"
          ],
          [
           "THORPE PLANT SERVICES INC",
           43517,
           "Pounds"
          ],
          [
           "THURSDAY POOLS",
           81400,
           "Pounds"
          ],
          [
           "TECHNIPLAS",
           0,
           "Pounds"
          ],
          [
           "MARBLE PRODUCTS CO",
           2034,
           "Pounds"
          ],
          [
           "EDWARDS FIBERGLASS",
           22,
           "Pounds"
          ],
          [
           "PEACH STATE LABORATORIES LLC",
           780,
           "Pounds"
          ],
          [
           "EASTMAN CHEMICAL RESINS INC",
           8327,
           "Pounds"
          ],
          [
           "WATER WAY INC",
           0,
           "Pounds"
          ],
          [
           "LION ELASTOMERS ORANGE LLC",
           625,
           "Pounds"
          ],
          [
           "INEOS USA LLC",
           19000,
           "Pounds"
          ],
          [
           "MAAX US CORP",
           204943,
           "Pounds"
          ],
          [
           "AK INDUSTRIES INC",
           62463,
           "Pounds"
          ],
          [
           "EXXONMOBIL BAYTOWN CHEMICAL PLANT (PART)",
           37,
           "Pounds"
          ],
          [
           "BARBOSA CABINETS",
           5,
           "Pounds"
          ],
          [
           "ORENCO SYSTEMS INC - NORTH BANK FACILITY",
           0,
           "Pounds"
          ],
          [
           "LATHAM POOL PRODUCTS INC D/B/A VIKING POOLS-FL",
           33590,
           "Pounds"
          ],
          [
           "NT MANUFACTURING LLC DBA NOR TECH HIGH PERFORMANCE BOATS",
           27039,
           "Pounds"
          ],
          [
           "SPECIALTY POLYMERS INC",
           821,
           "Pounds"
          ],
          [
           "PRECISION FIBERGLASS PRODUCTS LTD",
           20077,
           "Pounds"
          ],
          [
           "CARFAIR COMPOSITES USA INC - GILLETT",
           8227,
           "Pounds"
          ],
          [
           "VEOLIA ES TECHNICAL SOLUTIONS LLC PORT ARTHUR FACILITY",
           0,
           "Pounds"
          ],
          [
           "DEER PARK REFINING LP",
           37,
           "Pounds"
          ],
          [
           "DELAWARE CITY REFINERY",
           5.61,
           "Pounds"
          ],
          [
           "DELIVERY CONCEPTS INC",
           10711.96,
           "Pounds"
          ],
          [
           "NB COATINGS INC",
           0,
           "Pounds"
          ],
          [
           "SAWYER OILFIELD PRODUCTS",
           49617,
           "Pounds"
          ],
          [
           "MODERN WELDING CO OF CALIFORNIA",
           2218.755,
           "Pounds"
          ],
          [
           "PREMCOR REFINING GROUP INC PORT ARTHUR",
           6522,
           "Pounds"
          ],
          [
           "BRADY WORLDWIDE INC FLORIST AVENUE",
           191,
           "Pounds"
          ],
          [
           "VETRORESINA LLC",
           41717,
           "Pounds"
          ],
          [
           "ELANTAS PDG INC",
           1010.6,
           "Pounds"
          ],
          [
           "LATHAM POOL PRODUCTS INC D/B/A VIKING POOLS-TX",
           73212,
           "Pounds"
          ],
          [
           "CRANE COMPOSITES INC",
           4089,
           "Pounds"
          ],
          [
           "TRI-CITY MARBLE LLC",
           2095,
           "Pounds"
          ],
          [
           "SYNTHOMER USA LLC",
           86.09,
           "Pounds"
          ],
          [
           "PLASTIC DEVELOPMENT CO",
           8374,
           "Pounds"
          ],
          [
           "SABIC INNOVATIVE PLASTICS US LLC",
           4551,
           "Pounds"
          ],
          [
           "MAR-BAL INC",
           4986,
           "Pounds"
          ],
          [
           "HC COMPOSITES LLC",
           74205,
           "Pounds"
          ],
          [
           "PRC COMPOSITES LLC",
           250,
           "Pounds"
          ],
          [
           "TRINSEO",
           5,
           "Pounds"
          ],
          [
           "SAFAS CORP",
           1363,
           "Pounds"
          ],
          [
           "FIBERBASIN INC",
           2927,
           "Pounds"
          ],
          [
           "COBALT BOATS LLC",
           25678,
           "Pounds"
          ],
          [
           "AMERICH CORP",
           23126.07,
           "Pounds"
          ],
          [
           "AXALTA COATING SYSTEMS USA LLC-MOUNT CLEMENS PLANT",
           0,
           "Pounds"
          ],
          [
           "LEHIGH CEMENT CO",
           24,
           "Pounds"
          ],
          [
           "ICONIC MARINE GROUP LLC",
           44800,
           "Pounds"
          ],
          [
           "DRUMMOND CO INC ABC COKE DIV",
           50,
           "Pounds"
          ],
          [
           "COMMERCIAL PATTERN INC",
           4407,
           "Pounds"
          ],
          [
           "COMMUNITY LIGHT & SOUND INC (DBA COMMUNITY PROF LOUDSPKR)",
           0,
           "Pounds"
          ],
          [
           "LION ELASTOMERS LLC",
           91120,
           "Pounds"
          ],
          [
           "CATALINA YACHTS MORGAN DIV",
           10707,
           "Pounds"
          ],
          [
           "FIBERGLASS FABRICATORS INC",
           0,
           "Pounds"
          ],
          [
           "LF MANUFACTURING INC WAYCROSS PLANT",
           33867,
           "Pounds"
          ],
          [
           "ARMORTEX (FORMERLY SAFEGUARD SECURITY SERVICES)",
           9000,
           "Pounds"
          ],
          [
           "THERMA-TRU CORP",
           0,
           "Pounds"
          ],
          [
           "CPJ TECHNOLOGIES",
           0,
           "Pounds"
          ],
          [
           "CUTTING EDGE COMPOSITES",
           19700,
           "Pounds"
          ],
          [
           "FABBRO MARINE",
           25908,
           "Pounds"
          ],
          [
           "CLEAN HARBORS BUTTONWILLOW LLC",
           1e-07,
           "Pounds"
          ],
          [
           "ENDURO COMPOSITES INC-HOUSTON CENTRAL GREEN FACILITY",
           490,
           "Pounds"
          ],
          [
           "XERXES CORP",
           120370,
           "Pounds"
          ],
          [
           "HATTERAS/CABO YACHTS LLC",
           15800,
           "Pounds"
          ],
          [
           "WESTLAKE VINYLS INC",
           5382,
           "Pounds"
          ],
          [
           "INNOVATIVE CHEMICAL TECHNOLOGIES INC",
           0,
           "Pounds"
          ],
          [
           "BLAZER BOATS INC",
           13614,
           "Pounds"
          ],
          [
           "GRADY WHITE BOATS INC",
           141395,
           "Pounds"
          ],
          [
           "MCCLARIN PLASTICS LLC OKLAHOMA DIV",
           17640,
           "Pounds"
          ],
          [
           "MAAX US CORP",
           0,
           "Pounds"
          ],
          [
           "SHELL CHEMICAL LP",
           38,
           "Pounds"
          ],
          [
           "LF MANUFACTURING INC - STANTON PLANT",
           73747,
           "Pounds"
          ],
          [
           "HERITAGE THERMAL SERVICES",
           0.23,
           "Pounds"
          ],
          [
           "POWER PIPE & TANK LLC",
           22466.9,
           "Pounds"
          ],
          [
           "TIDEWATER BOATS LLC",
           139800,
           "Pounds"
          ],
          [
           "BERTCH CABINET MFG INC",
           6825,
           "Pounds"
          ],
          [
           "REICHHOLD LLC 2",
           690,
           "Pounds"
          ],
          [
           "LM WIND POWER BLADES (USA) INC",
           88030,
           "Pounds"
          ],
          [
           "MARQUIS YACHTS LLC",
           33068,
           "Pounds"
          ],
          [
           "ISLAND PACKET & SEAWARD YACHTS",
           2780,
           "Pounds"
          ],
          [
           "COVESTRO NEWARK COMPOUNDING FACILITY",
           61,
           "Pounds"
          ],
          [
           "PHILLIPS 66 LAKE CHARLES REFINERY",
           43.52,
           "Pounds"
          ],
          [
           "SUPERIOR SOLVENTS & CHEMICALS",
           0,
           "Pounds"
          ],
          [
           "POLYNT COMPOSITES USA INC",
           1826.5,
           "Pounds"
          ],
          [
           "COOLING TOWER COMPOSITES & FABRICATION",
           0,
           "Pounds"
          ],
          [
           "HALL TANK CO",
           6959.4,
           "Pounds"
          ],
          [
           "INTERPOLYMER CORP",
           0,
           "Pounds"
          ],
          [
           "ROYAL BATHS MANUFACTURING CO",
           13195,
           "Pounds"
          ],
          [
           "MAVERICK BOAT GROUP INC",
           103238,
           "Pounds"
          ],
          [
           "AQUATIC CO",
           16197,
           "Pounds"
          ],
          [
           "NUPLA CORP LLC",
           0,
           "Pounds"
          ],
          [
           "ST LOUIS MARBLE CO",
           4355,
           "Pounds"
          ],
          [
           "AGCO INC",
           6487,
           "Pounds"
          ],
          [
           "ENGINEERED COMPOSITE SYSTEMS",
           28366,
           "Pounds"
          ],
          [
           "JANCO ENGINEERED PRODUCTS LLC",
           3623,
           "Pounds"
          ],
          [
           "OMEGA LINER CO INC",
           750,
           "Pounds"
          ],
          [
           "ECC CORROSION INC",
           16609,
           "Pounds"
          ],
          [
           "FIBERTECH INC",
           15238,
           "Pounds"
          ],
          [
           "AMERICAS STYRENICS LLC",
           90274,
           "Pounds"
          ],
          [
           "CJBBB INC (DBA PHOENIX BOATS)",
           53791,
           "Pounds"
          ],
          [
           "ECO SERVICES OPERATIONS CORP",
           0.03,
           "Pounds"
          ],
          [
           "NOURYON SURFACE CHEMISTRY LLC",
           21,
           "Pounds"
          ],
          [
           "ARKEMA COATING RESINS PLANT",
           5,
           "Pounds"
          ],
          [
           "CLEAN HARBORS ARAGONITE LLC",
           0.04,
           "Pounds"
          ],
          [
           "GIANT CEMENT CO",
           22,
           "Pounds"
          ],
          [
           "DSM COATINGS",
           134,
           "Pounds"
          ],
          [
           "HOBAS PIPE USA LP",
           21923,
           "Pounds"
          ],
          [
           "RECKLESS INDUSTRIES LLC",
           0,
           "Pounds"
          ],
          [
           "STINGRAY BOATS",
           48600,
           "Pounds"
          ],
          [
           "FIBERGLAS FABRICATORS INC",
           22455,
           "Pounds"
          ],
          [
           "ABC INDUSTRIES INC",
           20932,
           "Pounds"
          ],
          [
           "AMERICH CORP",
           11530,
           "Pounds"
          ],
          [
           "SYNMAR",
           0,
           "Pounds"
          ],
          [
           "NORDIC FIBERGLASS INC",
           29457,
           "Pounds"
          ],
          [
           "FIBERGLASS SPECIALTIES INC",
           1309,
           "Pounds"
          ],
          [
           "CUSTOM PULTRUSIONS INC",
           0,
           "Pounds"
          ],
          [
           "AKZO NOBEL COATINGS INC",
           455.12,
           "Pounds"
          ],
          [
           "EXXONMOBIL OIL BEAUMONT REFINERY (PART)",
           82,
           "Pounds"
          ],
          [
           "HOLCIM (US) INC HOLLY HILL PLANT",
           5900,
           "Pounds"
          ],
          [
           "HIGHWATER MARINE LLC DBA GODFREY MARINE",
           46479,
           "Pounds"
          ],
          [
           "NEWBASIS LLC",
           5508.7,
           "Pounds"
          ],
          [
           "VALERO REFINING CO -OKLAHOMA VALERO ARDMORE REFINERY",
           276,
           "Pounds"
          ],
          [
           "CHRIS CRAFT",
           52231,
           "Pounds"
          ],
          [
           "MUSTANG MOTORCYCLE PRODUCTS LLC",
           2421.2,
           "Pounds"
          ],
          [
           "RIVER POOLS & SPAS",
           38410,
           "Pounds"
          ],
          [
           "KOHLER CO",
           175532,
           "Pounds"
          ],
          [
           "SILVESTRI CALIFORNIA",
           0,
           "Pounds"
          ],
          [
           "LF MANUFACTURING INC - MAI N PLANT",
           47554.8,
           "Pounds"
          ],
          [
           "DEXCO POLYMERS LP",
           891.63,
           "Pounds"
          ],
          [
           "RECREATION UNLIMITED LLC",
           1507,
           "Pounds"
          ],
          [
           "POLYNT COMPOSITES USA INC (FORMERLY PCCR USA)",
           7987,
           "Pounds"
          ],
          [
           "OLDCASTLE PRECAST-ACWORTH",
           5851,
           "Pounds"
          ],
          [
           "ENDURANCE COMPOSITES-PEARLAND",
           0,
           "Pounds"
          ],
          [
           "CYMETECH CORP",
           0,
           "Pounds"
          ],
          [
           "REAL FLEET SOLUTIONS",
           4501.84,
           "Pounds"
          ],
          [
           "VIKING YACHT CO INC",
           43009,
           "Pounds"
          ],
          [
           "MAAX US CORP",
           31580,
           "Pounds"
          ],
          [
           "ARKEMA COATING RESINS",
           250,
           "Pounds"
          ],
          [
           "OLDCASTLE INFRASTRUCTURE INC",
           3,
           "Pounds"
          ],
          [
           "STRONGWELL CORP BRISTOL",
           0,
           "Pounds"
          ],
          [
           "FIBERGLASS SPECIALTIES INC",
           5097,
           "Pounds"
          ],
          [
           "R&D MARBLE INC",
           2737,
           "Pounds"
          ],
          [
           "DANIEL MECHANICAL LLC",
           21582,
           "Pounds"
          ],
          [
           "A-1 FIBERGLASS",
           77258.88,
           "Pounds"
          ],
          [
           "NORTHLAND ALUMINUM PRODUCTS I NC",
           701.905,
           "Pounds"
          ],
          [
           "VECTORWORKS MERRITT ISLAND",
           20296,
           "Pounds"
          ],
          [
           "VIXEN COMPOSITES LLC",
           7716,
           "Pounds"
          ],
          [
           "LCY ELASTOMERS LP",
           0.38,
           "Pounds"
          ],
          [
           "LOGAN CLAY PRODUCTS LLC",
           0,
           "Pounds"
          ],
          [
           "MAR-BAL INC",
           0,
           "Pounds"
          ],
          [
           "CARFAIR COMPOSITES USA INC - ANNISTON",
           33820,
           "Pounds"
          ],
          [
           "CASITA ENTERPRISES INC",
           34085,
           "Pounds"
          ],
          [
           "JL AUDIO INC",
           750,
           "Pounds"
          ],
          [
           "SUPERIOR SOLVENTS & CHEMICALS",
           0,
           "Pounds"
          ],
          [
           "VALMONT COMPOSITE STRUCTURES ESTILL",
           26593,
           "Pounds"
          ],
          [
           "J-LOK CO",
           0,
           "Pounds"
          ],
          [
           "TECTON PRODUCTS LLC",
           424,
           "Pounds"
          ],
          [
           "CONTINENTAL CEMENT CO LLC",
           44.82,
           "Pounds"
          ],
          [
           "AGILYX",
           54,
           "Pounds"
          ],
          [
           "NEVILLE CHEMICAL CO",
           1227,
           "Pounds"
          ],
          [
           "GMR TECHNOLOGY INC",
           829,
           "Pounds"
          ],
          [
           "MINOVA USA INC",
           8100,
           "Pounds"
          ],
          [
           "AN-COR INDUSTRIAL PLASTICS",
           13985,
           "Pounds"
          ],
          [
           "NORTH AMERICAN LIGHTING",
           2378.7,
           "Pounds"
          ],
          [
           "FIBER TRON CORP",
           5476,
           "Pounds"
          ],
          [
           "LTA II MANUFACTURING LLC",
           16900,
           "Pounds"
          ],
          [
           "DDP SPECIALTY ELECTRONIC MATERIALS US INC",
           4000,
           "Pounds"
          ],
          [
           "MOTIVA-PORT ARTHUR TERMINAL",
           0,
           "Pounds"
          ],
          [
           "DUSKY MARINE INC",
           12291,
           "Pounds"
          ],
          [
           "SIKA ADVANCED RESINS US",
           0,
           "Pounds"
          ],
          [
           "MTI BATHS",
           52117,
           "Pounds"
          ],
          [
           "ALBERDINGK BOLEY INC",
           0,
           "Pounds"
          ],
          [
           "DAL-TILE TENNESSEE LLC DBA DAL- TILE TENNESSEE OLD COLUMBIA",
           1918,
           "Pounds"
          ],
          [
           "GRANITE INLINER LLC",
           0,
           "Pounds"
          ],
          [
           "INDUSTRIAL COMPOSITE SYSTEMS DBA INDUSTRIAL PLASTIC SYSTEMS",
           0,
           "Pounds"
          ],
          [
           "KENWAY COMPOSITES",
           10960.34,
           "Pounds"
          ],
          [
           "CAPITAL RESIN CORP",
           0,
           "Pounds"
          ],
          [
           "RPS COMPOSITES OHIO INC",
           200,
           "Pounds"
          ],
          [
           "ACO INC - AZ",
           4470,
           "Pounds"
          ],
          [
           "NIPPON CARBIDE INDUSTRIES",
           4644,
           "Pounds"
          ],
          [
           "SUNOCO LLC-RACE FUELS",
           0,
           "Pounds"
          ],
          [
           "GREENSBORO PLANT",
           0,
           "Pounds"
          ],
          [
           "MARBLEWORKS INC",
           3459,
           "Pounds"
          ],
          [
           "TPI COMPOSITES IOWA II BUS PLANT",
           14947,
           "Pounds"
          ],
          [
           "HINCKLEY CO",
           0,
           "Pounds"
          ],
          [
           "AJ MAES DBA SANDIA MARBLE",
           5331,
           "Pounds"
          ],
          [
           "FRANKLIN-BAY LLC",
           64902,
           "Pounds"
          ],
          [
           "OZARKS CULTURED MARBLE",
           750,
           "Pounds"
          ],
          [
           "CAMBRO MANUFACTURING CO CLAY AVE FACILITY",
           1286,
           "Pounds"
          ],
          [
           "PHILLIPS 66 PIPELINE LLC-BEAUMONT TERMINAL",
           14,
           "Pounds"
          ],
          [
           "BENJAMIN MOORE & CO PELL CITY",
           0,
           "Pounds"
          ],
          [
           "VALERO HOUSTON ASPHALT TERMINAL",
           36.74,
           "Pounds"
          ],
          [
           "OLDCASTLE INFRASTRUCTURE",
           1141,
           "Pounds"
          ],
          [
           "CHEMOIL TERMINALS CORP",
           0.22,
           "Pounds"
          ],
          [
           "ARE ACCESSORIES LLC",
           1816.65,
           "Pounds"
          ],
          [
           "VIKING YACHT CO - MULLICA",
           8528,
           "Pounds"
          ],
          [
           "COVESTRO LLC",
           1085,
           "Pounds"
          ],
          [
           "ALLIED MOLDED PRODUCTS LLC",
           1612,
           "Pounds"
          ],
          [
           "ABT INC",
           250,
           "Pounds"
          ],
          [
           "RESINALL CORP",
           160,
           "Pounds"
          ],
          [
           "MOTIVA PORT TAMPA TERMINAL",
           5,
           "Pounds"
          ],
          [
           "SEABRING MARINE INDUSTRIES INC",
           0,
           "Pounds"
          ],
          [
           "AERO TRANSPORTATION PRODUCTS INC",
           37419,
           "Pounds"
          ],
          [
           "FIBERGLASS PRODUCTS INC",
           13331.91,
           "Pounds"
          ],
          [
           "CARBOLINE CO",
           413,
           "Pounds"
          ],
          [
           "MARQUIS CORP",
           50658,
           "Pounds"
          ],
          [
           "ALLNEX USA INC",
           552,
           "Pounds"
          ],
          [
           "DOW CHEMICAL CO FREEPORT FACILITY",
           339,
           "Pounds"
          ],
          [
           "MAY MANUFACTURING LLC (DBA ARTESIAN SPAS)",
           3394,
           "Pounds"
          ],
          [
           "TRACKER MARINE LLC",
           186478,
           "Pounds"
          ],
          [
           "REDNECK MANUFACTURING LLC",
           24144.72,
           "Pounds"
          ],
          [
           "STEELE PLASTICS INC",
           20200,
           "Pounds"
          ],
          [
           "MASTER COMPOSITES INC",
           2715.7444,
           "Pounds"
          ],
          [
           "MODERN WELDING CO OF FLOR IDA INC",
           4796.02,
           "Pounds"
          ],
          [
           "PRO-TOPS INC",
           4300,
           "Pounds"
          ],
          [
           "DAY INTERNATIONAL INC",
           10200,
           "Pounds"
          ],
          [
           "FLINT HILLS RESOURCES HOUSTON CHEMICAL LLC",
           0,
           "Pounds"
          ],
          [
           "VEOLIA ES TECHNICAL SOLUTIONS LLC",
           1,
           "Pounds"
          ],
          [
           "SR SMITH LLC",
           0,
           "Pounds"
          ],
          [
           "HAIER US APPLIANCE SOLUTIONS INC",
           3100,
           "Pounds"
          ],
          [
           "INTERPLASTIC CORP",
           2479,
           "Pounds"
          ],
          [
           "GOLDSHIELD FIBERGLASS INC 43-1",
           50456,
           "Pounds"
          ],
          [
           "WATCO TANKS INC",
           12846,
           "Pounds"
          ],
          [
           "SKEETER PRODUCTS INC",
           113660,
           "Pounds"
          ],
          [
           "CHEMTRON CORP",
           0,
           "Pounds"
          ],
          [
           "NAUTIC STAR LLC",
           145597,
           "Pounds"
          ],
          [
           "HOLLYFRONTIER TULSA REFINING LLC EAST FACILITY",
           250,
           "Pounds"
          ],
          [
           "LPI INC",
           0,
           "Pounds"
          ],
          [
           "TOTAL PETROCHEMICALS & REFININ USA INC CARVILLE POLYSTYRENE",
           10226,
           "Pounds"
          ],
          [
           "TRADEBE TREATMENT & RECYCLING LLC",
           0,
           "Pounds"
          ],
          [
           "STYLE CREST ENTERPRISES INC",
           8222.055,
           "Pounds"
          ],
          [
           "SHERWIN-WILLIAMS CO",
           921,
           "Pounds"
          ],
          [
           "RPS COMPOSITES VIRGINIA INC",
           5002,
           "Pounds"
          ],
          [
           "MCMILLAN ELECTRIC CO",
           2272,
           "Pounds"
          ],
          [
           "NVENT HOFFMAN",
           2230,
           "Pounds"
          ],
          [
           "OLIN RUSSELLVILLE CELL TECHNOLOGIES LLC",
           2924.42,
           "Pounds"
          ],
          [
           "ROHM & HAAS CHEMICALS LLC",
           8,
           "Pounds"
          ],
          [
           "ALAMO MARBLE LTD",
           4822,
           "Pounds"
          ],
          [
           "BASF CORP",
           756,
           "Pounds"
          ],
          [
           "MALLARD CREEK POLYMERS",
           384.43,
           "Pounds"
          ],
          [
           "YENKIN-MAJESTIC PAINT CORPORAT ION",
           1467,
           "Pounds"
          ],
          [
           "BLUE WATER DYNAMICS LLC DBA DOUGHERTY MANUFACTURING",
           0,
           "Pounds"
          ],
          [
           "WABASH NATIONAL",
           17885,
           "Pounds"
          ],
          [
           "SEEMANN COMPOSITES LLC",
           0,
           "Pounds"
          ],
          [
           "REGULATOR MARINE INC",
           121994.31800000001,
           "Pounds"
          ],
          [
           "MINOVA USA INC",
           7500,
           "Pounds"
          ],
          [
           "REGAL MARINE INDUSTRIES INC",
           38146,
           "Pounds"
          ],
          [
           "HAYSITE REINFORCED PLASTICS LLC",
           0,
           "Pounds"
          ],
          [
           "CHEVRON PHILLIPS CHEMICAL CO LP SWEENY COMPLEX",
           0,
           "Pounds"
          ],
          [
           "LATHAM POOL PRODUCTS INC D/B/A VIKING POOLS-CA",
           84458,
           "Pounds"
          ],
          [
           "EQUISTAR CHEMICALS LP",
           10,
           "Pounds"
          ],
          [
           "SPARTECH LLC",
           750,
           "Pounds"
          ],
          [
           "MCCLARIN PLASTICS LLC",
           28280,
           "Pounds"
          ],
          [
           "MOTIVA ENTERPRISES LLC - PORT EVERGLADES EAST TERMINAL",
           19,
           "Pounds"
          ],
          [
           "HADLOCK PLASTICS LLC A SUBSIDIARY OF A SCHULMAN INC",
           1258,
           "Pounds"
          ],
          [
           "RANGER BOATS",
           209360,
           "Pounds"
          ],
          [
           "ROSLER METAL FINISHING USA LLC",
           5173,
           "Pounds"
          ],
          [
           "CENTRAL PLAINS CEMENT CO",
           0,
           "Pounds"
          ],
          [
           "CURRIES DIV OF AADG INC",
           0,
           "Pounds"
          ],
          [
           "VALERO REFINING CO - TENNESSEE LLC",
           60,
           "Pounds"
          ],
          [
           "AOC LLC",
           5890,
           "Pounds"
          ],
          [
           "NEWPORT LAMINATES INC",
           259,
           "Pounds"
          ],
          [
           "SHAW'S FIBERGLASS & PLASTICS INC",
           11212.38,
           "Pounds"
          ],
          [
           "ROHM & HAAS CHEMICALS LLC",
           73,
           "Pounds"
          ],
          [
           "BRP US INC",
           4428,
           "Pounds"
          ],
          [
           "AMERICAN WHIRLPOOL",
           16730,
           "Pounds"
          ],
          [
           "SUPERIOR OIL CO INC",
           0,
           "Pounds"
          ],
          [
           "STRONGWELL - CHATFIELD DIV",
           24449,
           "Pounds"
          ],
          [
           "FIRESTONE FIBERS & TEXTILES CO",
           609,
           "Pounds"
          ],
          [
           "APPALACHIAN PLASTICS INC",
           28855,
           "Pounds"
          ],
          [
           "GOODRICH LANDING SYSTEMS CARBON OPERATIONS",
           2.3,
           "Pounds"
          ],
          [
           "REICHHOLD LLC 2 - AZUSA PLANT",
           2567,
           "Pounds"
          ],
          [
           "A P NONWEILER CO INC",
           0,
           "Pounds"
          ],
          [
           "CRANE COMPOSITES INC",
           8350,
           "Pounds"
          ],
          [
           "CAESARSTONE TECHNOLOGIES USA",
           4718,
           "Pounds"
          ],
          [
           "HESS SERVICES INC-NORTH YARD",
           9230.4,
           "Pounds"
          ],
          [
           "JETTA CORP",
           5,
           "Pounds"
          ],
          [
           "VALERO REFINING - NEW ORLEANS LLC",
           10,
           "Pounds"
          ],
          [
           "EAGLE US 2 LLC",
           0,
           "Pounds"
          ],
          [
           "G & B FIBERGLASS PRODUCTS CO INC",
           900.53,
           "Pounds"
          ],
          [
           "DOLPHIN INDUSTRIES LTD",
           8614,
           "Pounds"
          ],
          [
           "EASTMAN KODAK CO EASTMAN BUSINESS PARK",
           14,
           "Pounds"
          ],
          [
           "RECLAIMED ENERGY DIV SUPERIOR OIL CO INC",
           5,
           "Pounds"
          ],
          [
           "CPCA MANUFACTURING LLC",
           0,
           "Pounds"
          ],
          [
           "SEA-HUNT BOAT MANUFACTURING CO INC",
           216400,
           "Pounds"
          ],
          [
           "PIEDMONT COMPOSITES & TOOLING LLC",
           16500,
           "Pounds"
          ],
          [
           "NEXEO SOLUTIONS LLC",
           1,
           "Pounds"
          ],
          [
           "CLASSIC CULTURED MARBLE INC",
           2131,
           "Pounds"
          ],
          [
           "SCHMELZER INDS INC",
           0,
           "Pounds"
          ],
          [
           "REMA TIP TOP/NA",
           916.48,
           "Pounds"
          ],
          [
           "ROYAL SPA CORP",
           3910,
           "Pounds"
          ],
          [
           "ATHENA CORP",
           5593,
           "Pounds"
          ],
          [
           "THE GOODYEAR TIRE & RUBBER CO BAYPORT CHEMICAL PLANT",
           0,
           "Pounds"
          ],
          [
           "HOMECREST OUTDOOR LIVING - WADENA",
           2654,
           "Pounds"
          ],
          [
           "RESEARCH SOLUTIONS GROUP INC",
           5,
           "Pounds"
          ],
          [
           "INEOS COMPOSITES US LLC",
           8473,
           "Pounds"
          ],
          [
           "PHILLIPS 66 FERNDALE REFINERY",
           152.2,
           "Pounds"
          ],
          [
           "JCL INVESTMENT HOLDINGS LLC",
           12080,
           "Pounds"
          ],
          [
           "ROYAL BATHS MANUFACTURING CO",
           9942,
           "Pounds"
          ],
          [
           "BOSTON WHALER INC",
           277159,
           "Pounds"
          ],
          [
           "PPG INDUSTRIESINC-SPRINGDALE COMPLEX",
           13.02,
           "Pounds"
          ],
          [
           "COMPOSITE AQUATIC INNOVATIONS INC DBA STARK BULKHEADS",
           0,
           "Pounds"
          ],
          [
           "JACUZZI LUXURY BATH",
           100974,
           "Pounds"
          ],
          [
           "TARHEEL MARBLE CO INC",
           2856,
           "Pounds"
          ],
          [
           "CONCEPTUAL CREATIONS LLC",
           4135,
           "Pounds"
          ],
          [
           "ZEHRCO-GIANCOLA COMPOSITES INC",
           21550,
           "Pounds"
          ],
          [
           "EQUISTAR CHEMICALS LP",
           452.05,
           "Pounds"
          ],
          [
           "MAR-BAL PULTRUSION INC",
           2294,
           "Pounds"
          ],
          [
           "HAMILTON BATHWARE",
           237175,
           "Pounds"
          ],
          [
           "ENGINEERED POLYMER SOLUTIONS INC",
           208,
           "Pounds"
          ],
          [
           "R J DOUGHERTY LLC, DBA EVERGLADES BOATS - EAST",
           0,
           "Pounds"
          ],
          [
           "MOLDED FIBER GLASS CO - WEST",
           29110,
           "Pounds"
          ],
          [
           "GRANITE INLINER LLC",
           0,
           "Pounds"
          ],
          [
           "ADVANCED FIBERMOLDING INC",
           735,
           "Pounds"
          ],
          [
           "JUSTIN TANKS LLC",
           8880,
           "Pounds"
          ],
          [
           "ALTEC ENGINEERING LLC",
           3720,
           "Pounds"
          ],
          [
           "STONCOR GROUP INC",
           0,
           "Pounds"
          ],
          [
           "BRANDFX LLC",
           16267,
           "Pounds"
          ],
          [
           "VALERO REFINING - TEXAS LP HOUSTON REFINERY",
           2,
           "Pounds"
          ],
          [
           "ARKEMA INC",
           250,
           "Pounds"
          ],
          [
           "CUSTOM FIBREGLASS MANUFACTURING CO",
           33541,
           "Pounds"
          ],
          [
           "EXXONMOBIL CHEMICAL CO BAYTOWN OLEFINS PLANT (PART)",
           260,
           "Pounds"
          ],
          [
           "BELDING TANK TECHNOLOGIES",
           61818,
           "Pounds"
          ],
          [
           "NEENAH INC NEENAH MILL",
           79,
           "Pounds"
          ],
          [
           "ENGINEERED COMPOSITES",
           31300,
           "Pounds"
          ],
          [
           "PPG INDUSTRIES OHIO INC - DELAWARE",
           82.14,
           "Pounds"
          ],
          [
           "HOLLYFRONTIER EL DORADO REFINING LLC",
           67,
           "Pounds"
          ],
          [
           "KANEKA NORTH AMERICA LLC",
           5330,
           "Pounds"
          ],
          [
           "G&G FIBERGLASS",
           2486,
           "Pounds"
          ]
         ],
         "hovertemplate": "Emissions (lbs)=%{customdata[1]}<br>LATITUDE=%{lat}<br>LONGITUDE=%{lon}<br>FACILITY NAME=%{customdata[0]}<br>UNIT OF MEASURE=%{customdata[2]}<extra></extra>",
         "lat": [
          null,
          43.8034,
          37.873781,
          38.601110999999996,
          40.210775,
          30.495769,
          40.631667,
          42.013969,
          42.98152,
          35.92307,
          40.93829,
          35.719429999999996,
          39.756640999999995,
          29.655511999999998,
          45.61513,
          39.53572,
          29.929040000000004,
          36.191642,
          40.89613,
          45.32569,
          30.2588,
          33.635098,
          40.83505,
          29.361045,
          41.15753,
          32.317820000000005,
          39.33723,
          38.981035999999996,
          29.7125,
          38.807970000000005,
          34.822018,
          43.665182,
          30.70494,
          44.789444,
          34.05222,
          36.278357,
          40.204105,
          34.72611,
          29.672040000000003,
          40.1632,
          40.82593,
          46.904621999999996,
          33.60423,
          39.781802,
          42.896073,
          40.18217,
          32.63658,
          32.49869,
          35.50352,
          43.59044,
          41.466142,
          39.32077,
          30.502665000000004,
          30.000964,
          30.000964,
          42.6218,
          39.6209,
          31.925556,
          41.61673,
          30.35543,
          42.26383,
          29.850396000000003,
          30.179916,
          41.45214,
          30.179916,
          31.2703,
          34.6289,
          41.62,
          45.674859999999995,
          35.105540000000005,
          46.461477,
          25.452162,
          40.719159999999995,
          37.421659999999996,
          45.363135,
          35.021570000000004,
          40.8461,
          35.27547,
          32.612970000000004,
          48.10974,
          32.63712,
          41.70389,
          41.65486,
          30.0053,
          47.269940999999996,
          39.81123,
          41.4517,
          33.41695,
          41.524885,
          37.0841,
          33.983333,
          39.041062,
          43.126490000000004,
          29.76833,
          38.8585,
          35.72082,
          29.58698,
          33.66462,
          33.65842,
          41.891834,
          36.08125,
          29.86307,
          41.8514,
          42.93843,
          40.765859999999996,
          40.87103,
          42.552405,
          33.751629,
          30.8683,
          40.56772,
          37.663222,
          41.446944,
          41.468066,
          47.866557,
          29.73028,
          27.455882,
          40.04992,
          29.981246999999996,
          41.42204,
          35.761959999999995,
          41.02528,
          30.190568,
          35.038889000000005,
          30.1537,
          40.72875,
          33.71155,
          30.739340000000002,
          33.113459999999996,
          36.95794,
          42.763999999999996,
          39.763889,
          42.665939,
          33.642911,
          39.098055,
          35.722654,
          38.52207,
          37.795833,
          36.10293,
          48.768895,
          41.441953999999996,
          41.38888,
          33.21391,
          47.230213,
          41.913903999999995,
          35.961110999999995,
          27.488979999999998,
          36.308659999999996,
          45.458219,
          39.21817,
          40.578374,
          29.989859999999997,
          42.65634,
          42.31281,
          29.377496999999998,
          43.56646,
          41.174665000000005,
          34.25396,
          33.854966999999995,
          30.80012,
          27.883611,
          35.95177,
          39.475889,
          41.334533,
          29.951649,
          41.936859999999996,
          45.384918,
          31.568932,
          33.8099,
          40.025755,
          36.668403999999995,
          40.210243,
          43.1575,
          33.8099,
          33.8099,
          41.739167,
          35.883759999999995,
          40.103629999999995,
          30.108459999999997,
          35.43704,
          37.4361,
          41.45175,
          27.489297999999998,
          42.66431,
          34.834610999999995,
          48.158571,
          39.51024,
          32.956804,
          43.876515999999995,
          47.228888,
          41.91403,
          41.4777,
          41.0698,
          41.919,
          45.46992,
          42.76348,
          29.072278000000004,
          39.0556,
          39.55713,
          29.892778000000003,
          41.590540000000004,
          37.765390000000004,
          29.930278,
          30.05392,
          39.508361,
          17.972777999999998,
          40.620914,
          25.890033,
          29.990147999999998,
          29.670609999999996,
          33.338840000000005,
          40.042287,
          30.214191999999997,
          39.616615,
          30.407231,
          32.254155,
          43.605129999999996,
          33.902857,
          30.063425,
          40.56239,
          30.233183,
          38.015693,
          29.614165999999997,
          41.68052,
          35.951944,
          43.379357,
          29.480339,
          33.040087,
          43.20129,
          42.752340000000004,
          29.930278,
          30.326893,
          43.45041,
          35.99815,
          34.051944,
          37.043639,
          32.229214,
          39.747279999999996,
          42.246111,
          44.48239,
          18.174623999999998,
          39.909557,
          34.494094,
          39.89739,
          29.771017999999998,
          30.186144,
          35.162890000000004,
          29.964146000000003,
          36.99044,
          42.263109,
          41.154424,
          33.711459999999995,
          30.2572,
          41.768578999999995,
          44.266909999999996,
          33.614444,
          41.325309999999995,
          29.816653999999996,
          32.35549,
          34.51169,
          40.88273,
          40.08933,
          39.9686,
          39.235479999999995,
          40.27218,
          34.774782,
          36.746159999999996,
          43.03561,
          41.649556,
          41.755,
          35.2278,
          33.4669,
          29.763056,
          34.247446999999994,
          33.398984000000006,
          36.384609999999995,
          40.943929,
          35.612846000000005,
          41.1809,
          45.616345,
          28.561977000000002,
          41.729620000000004,
          41.4737,
          39.215232,
          38.43196,
          30.804087,
          41.350446999999996,
          39.666363,
          41.67001,
          41.324166999999996,
          41.549935,
          35.51218,
          36.945370000000004,
          38.550114,
          36.429167,
          39.582808,
          40.877992,
          40.1624,
          29.826,
          40.863715,
          37.507728,
          41.663055,
          43.24921,
          42.426521,
          33.785472,
          30.18525,
          38.34353,
          35.5249,
          29.413774,
          47.8669,
          39.720447,
          29.734270000000002,
          35.9333,
          34.27471,
          41.3118,
          41.137132,
          44.09147,
          41.810488,
          41.66059,
          39.497487,
          40.824729999999995,
          40.7159,
          36.136315,
          31.097156,
          36.700540000000004,
          41.877140000000004,
          41.1771,
          36.75196,
          41.419579999999996,
          34.70649,
          30.099,
          30.415002,
          35.722567,
          38.991482,
          40.9504,
          41.667992,
          42.642959999999995,
          39.1754,
          38.931049,
          36.2277,
          30.216056,
          41.475590000000004,
          42.883253,
          36.963374,
          41.70382,
          32.18841,
          27.64845,
          37.229099,
          37.2676,
          45.72016,
          42.13872,
          28.765905,
          36.773148,
          45.04671,
          38.10103,
          34.317104,
          36.6821,
          36.6821,
          40.005559999999996,
          36.1396,
          43.299988,
          41.656245,
          18.450057,
          38.385471,
          41.65599,
          37.11258,
          43.469023,
          32.22189,
          44.89208,
          42.80859,
          39.20747,
          29.718390000000003,
          41.94093,
          35.063280999999996,
          30.47467,
          30.47467,
          30.47467,
          29.936411,
          43.09366,
          30.797420000000002,
          47.504082000000004,
          38.59185,
          27.81679,
          30.120440000000002,
          42.73894,
          44.8854,
          41.75891,
          28.449014000000002,
          40.846468,
          39.281071999999995,
          27.892309,
          35.386689000000004,
          29.63914,
          47.16632,
          36.082640000000005,
          43.774167,
          41.453699,
          30.498379999999997,
          27.82722,
          45.18546,
          30.507912,
          41.2747,
          41.546079999999996,
          38.667896999999996,
          32.921904,
          43.0777,
          27.878528000000003,
          43.323688,
          34.964220000000005,
          42.804258000000004,
          29.981281,
          32.341875,
          31.255403,
          43.123611,
          33.682990000000004,
          41.211242,
          39.3732,
          35.045668,
          33.939,
          42.748329999999996,
          34.816556,
          29.386801000000002,
          45.4874,
          31.101667,
          41.98509,
          33.557464,
          25.89339,
          31.211109999999998,
          30.86125,
          32.96707,
          34.28541,
          32.438056,
          39.598457,
          44.492696,
          36.17371,
          44.02475,
          34.13519,
          34.99309,
          41.86679,
          37.605340000000005,
          38.49857,
          28.882695000000002,
          47.517509999999994,
          33.914706,
          29.7596,
          30.054796000000003,
          32.891791999999995,
          41.17921,
          37.67233,
          41.445209999999996,
          41.46695,
          39.340340000000005,
          29.883333,
          34.641667,
          32.831944,
          41.893611,
          30.52347,
          29.772070000000003,
          43.910133,
          38.620424,
          41.21577,
          42.869723,
          30.475803000000003,
          35.163070000000005,
          30.061320000000002,
          47.671434999999995,
          34.20584,
          48.472836,
          27.420461,
          48.12298,
          31.665259999999996,
          40.8074,
          33.101,
          41.86868,
          35.262444,
          27.86678,
          42.5456,
          34.695555999999996,
          38.7512,
          41.06888,
          43.38496,
          33.78131,
          29.739444,
          29.741093,
          33.42579,
          45.494690000000006,
          45.625803999999995,
          33.920359999999995,
          33.774469,
          46.87636,
          41.54315,
          33.945078,
          40.6111,
          43.59451,
          34.30471,
          25.945811,
          44.184020000000004,
          38.840401,
          30.553364000000002,
          39.58886,
          27.897546999999996,
          33.03503,
          33.617778,
          38.482337,
          39.740281,
          34.98646,
          38.97528,
          34.801583,
          34.192206,
          41.397778,
          41.52906,
          32.804207,
          30.64392,
          43.1779,
          28.274691999999998,
          39.37872,
          43.20552,
          35.08683,
          37.29468,
          39.90338,
          31.500559999999997,
          30.314020000000003,
          39.9147,
          41.63399999999999,
          41.806999999999995,
          27.811675,
          39.31358,
          29.002075,
          41.504061,
          41.291305,
          40.77715,
          41.52476,
          41.44959,
          48.515249,
          40.74211,
          45.4518,
          34.12214,
          46.8248,
          45.344511,
          38.452627,
          41.26761,
          28.622302,
          38.575,
          32.217359,
          40.655278,
          33.70794,
          35.336110999999995,
          33.425067,
          34.70991,
          40.13305,
          30.484917,
          34.137514,
          29.608611,
          29.495833,
          38.59878,
          41.2732,
          39.43861,
          42.552184999999994,
          41.637367,
          33.05511,
          41.412533,
          29.164240000000003,
          40.098611,
          42.1636,
          36.379020000000004,
          34.882638,
          41.66984,
          47.90491,
          34.604459999999996,
          35.087711,
          31.678058,
          30.320903,
          35.61108,
          37.047737,
          35.27994,
          34.7134,
          29.63692,
          36.30746,
          27.481192999999998,
          40.037420000000004,
          37.9072,
          33.972163,
          30.354694,
          36.17538,
          26.637459999999997,
          41.666457,
          33.521667,
          35.924137,
          31.244428999999997,
          39.733992,
          41.328340999999995,
          41.718270000000004,
          30.225083,
          37.276920000000004,
          33.2044,
          42.76205,
          33.999886,
          41.87242,
          46.948746,
          41.086090000000006,
          41.694536,
          30.70494,
          41.19082,
          30.6283,
          38.221109999999996,
          29.71247,
          38.180278,
          35.459179999999996,
          37.081322,
          35.913059999999994,
          40.33432,
          26.087329999999998,
          35.20132,
          43.07268,
          33.110306,
          47.48087,
          35.784794,
          38.221946,
          36.228451,
          27.810775,
          46.89728,
          28.90205,
          37.720278,
          29.829276,
          40.36436,
          28.855789,
          46.73406,
          33.131640000000004,
          41.35157,
          40.34395,
          32.1783,
          29.369166999999997,
          41.82027,
          41.746272,
          36.1118,
          39.06431,
          33.970333000000004,
          33.7783,
          34.18078,
          35.75931,
          36.235061,
          33.8048,
          33.351516,
          33.85922,
          34.92685,
          31.25933,
          28.982134999999996,
          39.729279999999996,
          29.619459999999997,
          45.271809999999995,
          46.118735,
          41.75147,
          28.6753,
          31.536717,
          39.19332,
          41.02928,
          33.39502,
          32.54481,
          31.052,
          34.485443,
          38.377246,
          40.132690000000004,
          44.264326000000004,
          40.886022,
          42.7615,
          44.4684,
          41.1153,
          29.070846999999997,
          39.26853,
          41.29546,
          34.630259,
          39.351620000000004,
          27.895692999999998,
          43.183071999999996,
          35.61375,
          43.14775,
          36.01155,
          41.21637,
          37.986959999999996,
          35.56204,
          39.101391,
          40.826879999999996,
          40.33874,
          30.148938,
          43.081692,
          29.73,
          32.75869,
          32.905556,
          47.37064,
          36.367360999999995,
          39.78515,
          41.65059,
          42.604163,
          35.949094,
          29.9829,
          42.36591,
          41.5064,
          41.89643,
          41.045666,
          31.13229,
          43.617297,
          39.89145,
          41.68311,
          44.885659999999994,
          41.874744,
          44.2916,
          28.803967999999998,
          41.93265,
          35.468294,
          28.987481,
          35.60583,
          40.0044,
          41.435833,
          32.54668,
          41.412896999999994,
          37.231190000000005,
          32.943544,
          38.15087,
          41.35934,
          27.81775,
          27.887998,
          43.86606,
          41.679167,
          28.432131,
          41.657605,
          41.382709999999996,
          30.061002000000002,
          30.047146,
          29.77556,
          41.262232,
          34.709949,
          36.236509999999996,
          30.432910999999997,
          31.98968,
          29.598883,
          38.6845,
          34.235,
          27.730759999999997,
          35.46451,
          35.953146000000004,
          38.0436,
          32.79578,
          28.017020000000002,
          28.441409999999998,
          38.002596999999994,
          32.41063,
          47.3407,
          35.07502,
          34.810966,
          39.04495,
          29.726111,
          40.048179,
          38.4307,
          40.766059999999996,
          35.529713,
          40.631403000000006,
          42.8705,
          44.92349,
          31.245790000000003,
          45.155578000000006,
          30.49375,
          38.87993,
          42.6513,
          27.523289000000002,
          34.4251,
          39.99791,
          30.441229999999997,
          43.3173,
          29.7575,
          34.17156,
          29.704390999999998,
          35.041758,
          41.045663,
          33.83098,
          42.84874,
          44.588889,
          41.47647,
          35.549708,
          42.99257,
          33.84641,
          43.6003,
          32.9357,
          39.08733,
          39.535965000000004,
          32.4307,
          31.293778999999997,
          36.24615,
          35.093058,
          47.686871000000004,
          36.645157,
          34.409772,
          40.766,
          30.143939000000003,
          41.648270000000004,
          29.395283000000003,
          43.032,
          41.348234000000005,
          37.018667,
          37.27715,
          45.3769,
          38.209317,
          33.83331,
          34.08291,
          40.305088,
          39.439586,
          30.20695,
          33.052189,
          34.740629999999996,
          38.2123,
          27.878425,
          42.224631,
          35.17637,
          42.054469,
          38.81818,
          43.076190000000004,
          40.660554,
          33.52451,
          37.946,
          43.851259999999996,
          39.176102,
          35.885455,
          41.729636,
          45.809231,
          34.870253000000005,
          32.16543,
          40.535292,
          36.180336,
          39.62125,
          42.7555,
          29.59198,
          36.246194,
          39.934324,
          43.101048,
          37.656690000000005,
          38.711586,
          34.340990000000005,
          40.265833,
          34.956825,
          30.04209,
          39.1347,
          30.801109999999998,
          41.351929999999996,
          29.739340000000002,
          37.75428,
          43.310241,
          28.252672999999998,
          26.721349,
          34.721389,
          45.1526,
          44.8918,
          29.853056,
          29.722222,
          39.591,
          41.6598,
          41.584934999999994,
          31.6717,
          36.79717,
          29.868333000000003,
          43.126462,
          34.74181,
          38.67945,
          31.909190000000002,
          35.807501,
          40.57696,
          34.876111,
          41.23373,
          42.575416,
          38.051520000000004,
          35.8876,
          34.04748,
          34.632591999999995,
          40.87918,
          41.74225,
          37.43026,
          35.1222,
          42.614329999999995,
          40.734521,
          35.553000000000004,
          33.580769000000004,
          37.618320000000004,
          39.852169,
          29.987664000000002,
          27.865821999999998,
          41.915240000000004,
          31.241529999999997,
          29.599987,
          41.423536,
          34.91386,
          33.05786,
          30.647691,
          35.403061,
          29.96183,
          41.76478,
          35.13847,
          37.051111,
          34.140417,
          30.52342,
          35.649613,
          35.50783,
          41.450590000000005,
          29.722222,
          32.214166,
          40.631622,
          35.16056,
          33.962156,
          42.44808,
          29.76543,
          34.707028,
          44.66472,
          27.899034000000004,
          39.97221,
          30.242155,
          36.27898,
          28.418027000000002,
          35.058709,
          34.757497,
          42.157819,
          29.929493,
          27.483959999999996,
          36.68803,
          34.24044,
          38.5352,
          33.961834,
          31.051546000000002,
          41.656259999999996,
          43.304262,
          44.404740000000004,
          42.770137,
          30.08013,
          35.19562,
          29.718139,
          35.6322,
          33.855598,
          40.7344,
          33.242778,
          40.279256,
          29.99744,
          35.650003999999996,
          34.37395,
          44.3817,
          39.06238,
          34.20793,
          33.51661,
          48.186583,
          35.97081,
          41.28303,
          41.372271999999995,
          30.065833,
          33.27738,
          41.683267,
          33.98802,
          34.205690000000004,
          27.395714,
          42.179590000000005,
          37.965506,
          34.66795,
          33.965379,
          30.18525,
          30.317014,
          32.05335,
          42.117976,
          34.05705,
          29.581290000000003,
          37.046288,
          28.3657,
          39.590258,
          48.781591,
          29.985529999999997,
          35.049378999999995,
          36.600805,
          32.175795,
          30.40464,
          34.55767,
          40.56498,
          44.943836,
          28.40555,
          41.730540000000005,
          29.772089,
          39.5368,
          41.716770000000004,
          33.61848,
          32.210149,
          25.984167000000003,
          38.201389,
          32.7468,
          40.475,
          37.263740000000006,
          39.67913,
          45.424312,
          40.502778,
          41.86342,
          38.19877,
          43.059709999999995,
          34.72938,
          41.666389,
          38.638615,
          43.60096,
          29.831111,
          26.05477,
          42.492490000000004,
          34.085328999999994,
          36.00477,
          36.04913,
          38.622034,
          27.997594,
          44.358540000000005,
          39.912778,
          39.52981,
          32.947562,
          34.75676,
          39.814609000000004,
          36.05822,
          42.004179,
          41.71712,
          44.447777,
          35.09733,
          41.666940000000004,
          37.25371,
          33.682990000000004,
          29.997801000000003,
          33.59194,
          29.732551,
          35.63694,
          33.80542,
          40.6848,
          39.597916999999995,
          38.368066,
          27.524201,
          35.71755,
          36.512899,
          27.857662,
          29.365559,
          39.106941,
          40.87386,
          44.51075,
          44.8614,
          38.60185,
          28.9792,
          36.24555,
          36.921031,
          37.476888,
          35.061115,
          46.32798,
          28.522340000000003,
          35.06697,
          35.46199,
          29.706248,
          38.59452,
          45.2549,
          34.589904,
          44.85371,
          40.824511,
          29.256110999999997,
          32.405409999999996,
          41.471540000000005,
          33.996666999999995,
          36.1184,
          27.827052000000002,
          30.219059,
          41.633441,
          41.372,
          40.7115,
          38.92395,
          44.9488,
          45.19935,
          35.2369,
          37.628889,
          29.588657,
          42.2215,
          35.350334000000004,
          39.98644,
          28.98759,
          45.98346,
          30.42979,
          36.08254,
          37.291636,
          30.8023,
          42.08408,
          29.070846999999997,
          39.14128,
          29.717471000000003,
          40.08889,
          39.792479,
          26.090104,
          41.805547,
          36.28775,
          42.331579999999995,
          36.1941,
          43.165009999999995,
          35.085843,
          28.100831,
          33.712920000000004,
          45.441915,
          40.09384,
          35.91219,
          35.383967,
          39.737770000000005,
          43.83579,
          35.25885,
          36.77297,
          47.583604,
          34.119659999999996,
          44.070884,
          41.460296,
          31.875961,
          38.942015000000005,
          35.6287,
          29.985278000000005,
          30.2235,
          33.91628,
          39.594390000000004,
          43.197788,
          39.65162,
          39.761955,
          33.961209999999994,
          35.91724,
          35.2511,
          26.798152,
          39.804209,
          33.605,
          39.68566,
          32.26356,
          29.6469,
          46.43273,
          33.297051,
          40.497609999999995,
          48.830141999999995,
          34.248259999999995,
          32.795833,
          28.922814000000002,
          40.536826,
          48.181538,
          30.80013,
          35.24606,
          33.47914,
          41.864329999999995,
          27.81,
          41.650095,
          34.11033,
          33.987111,
          28.99454,
          34.54295,
          41.772483,
          44.017074,
          38.69384,
          41.729655,
          41.04653,
          43.56463,
          29.722274,
          30.979166999999997,
          33.78886,
          29.756256,
          43.10004,
          44.188072999999996,
          33.970191,
          40.283836,
          37.794007,
          29.621647999999997,
          30.8405
         ],
         "lon": [
          null,
          -90.09968,
          -88.934771,
          -83.274167,
          -75.137546,
          -91.17311099999999,
          -91.36361099999999,
          -88.150326,
          -84.15099000000001,
          -80.02965,
          -75.96678,
          -80.60148000000001,
          -94.9276,
          -97.744546,
          -120.23382,
          -83.40217,
          -95.36381999999999,
          -81.088877,
          -80.85679,
          -93.0015,
          -93.2937,
          -86.731604,
          -81.335,
          -94.930351,
          -85.10734000000001,
          -96.61367,
          -84.51231,
          -78.174118,
          -95.235833,
          -90.64211,
          -92.320913,
          -116.707098,
          -88.23505,
          -92.908333,
          -117.37458000000001,
          -92.607861,
          -75.138535,
          -82.446667,
          -95.39161999999999,
          -79.8861,
          -91.14355,
          -124.10886299999999,
          -86.26281,
          -105.18478400000001,
          -88.149726,
          -78.61066,
          -97.23418000000001,
          -96.98890300000001,
          -79.17889,
          -83.99982,
          -85.83821800000001,
          -84.48315,
          -91.173395,
          -90.403863,
          -90.403863,
          -82.5709,
          -77.80124,
          -102.43555500000001,
          -83.71167,
          -91.04656,
          -94.72654,
          -93.977222,
          -93.359229,
          -82.68961,
          -93.359229,
          -82.2751,
          -97.1685,
          -72.713889,
          -94.803345,
          -81.60101999999999,
          -120.427899,
          -80.420284,
          -73.33733000000001,
          -95.68760999999999,
          -122.60007,
          -81.78709,
          -111.92662,
          -89.94309,
          -96.74059,
          -98.859943,
          -97.236999,
          -81.30043,
          -86.01451999999999,
          -90.42299999999999,
          -122.390147,
          -75.87474,
          -81.6847,
          -111.99973999999999,
          -85.06849100000001,
          -80.67399,
          -118.13333300000001,
          -85.626018,
          -87.95184,
          -95.1036,
          -84.8554,
          -81.75862,
          -95.42325,
          -97.15144000000001,
          -86.71513,
          -88.235403,
          -79.38037,
          -95.60591,
          -80.8523,
          -85.67562,
          -81.5129,
          -98.0396,
          -71.869697,
          -118.20884199999999,
          -84.1779,
          -98.27829,
          -92.634333,
          -81.66583299999999,
          -86.494618,
          -121.983733,
          -95.08981,
          -81.347507,
          -76.7166,
          -94.214028,
          -85.75276,
          -84.32824000000001,
          -93.7832,
          -93.325823,
          -120.589722,
          -91.99571999999999,
          -111.94065,
          -117.87123000000001,
          -97.57894,
          -80.30759,
          -78.12420300000001,
          -72.152,
          -75.42277800000001,
          -85.99215,
          -97.19698299999999,
          -108.625,
          -81.318599,
          -121.3716,
          -87.146389,
          -84.12101,
          -122.519272,
          -72.07885300000001,
          -88.30116,
          -111.84111999999999,
          -122.33231699999999,
          -88.235682,
          -83.941389,
          -81.41807,
          -82.33372,
          -122.608599,
          -78.14853000000001,
          -74.21441800000001,
          -95.4145,
          -77.05824,
          -85.27223000000001,
          -94.90244799999999,
          -96.7354,
          -80.232179,
          -78.0711,
          -118.33690700000001,
          -83.27844,
          -97.241383,
          -101.87371,
          -81.10122199999999,
          -88.755775,
          -93.887272,
          -80.60365999999999,
          -109.871901,
          -97.102265,
          -118.2383,
          -84.201045,
          -78.930964,
          -75.591537,
          -88.3125,
          -118.2383,
          -118.2383,
          -71.273889,
          -83.58265,
          -78.5297,
          -90.89676999999999,
          -86.0245,
          -95.6859,
          -86.11752,
          -80.35481999999999,
          -91.90905,
          -82.623583,
          -122.14643600000001,
          -119.757446,
          -93.455663,
          -91.16153299999999,
          -122.337769,
          -87.71623000000001,
          -85.6042,
          -86.1943,
          -80.66558,
          -91.74205,
          -86.08348000000001,
          -95.744703,
          -84.62163000000001,
          -82.94526,
          -93.973333,
          -81.50959,
          -87.09421,
          -89.943889,
          -90.64395999999999,
          -86.054861,
          -66.231944,
          -83.622568,
          -80.272037,
          -93.946735,
          -98.1592,
          -81.28408,
          -86.01519,
          -93.30859,
          -86.86863199999999,
          -87.241979,
          -101.429686,
          -71.212805,
          -84.242506,
          -94.061066,
          -84.19073,
          -91.051,
          -88.912695,
          -95.057777,
          -85.97636999999999,
          -101.873889,
          -123.332474,
          -95.959556,
          -80.207762,
          -86.26666,
          -86.09668,
          -89.943889,
          -81.745758,
          -89.73149000000001,
          -87.98127,
          -117.72783500000001,
          -88.354639,
          -101.506935,
          -94.771568,
          -89.092038,
          -72.01343,
          -65.873515,
          -75.130454,
          -81.596135,
          -83.41636,
          -95.018456,
          -93.331209,
          -86.54326999999999,
          -93.930138,
          -120.10398,
          -88.612888,
          -103.65899999999999,
          -117.86398999999999,
          -91.07231999999999,
          -88.279271,
          -85.416692,
          -84.38638900000001,
          -89.11270999999999,
          -95.107603,
          -96.64333,
          -88.187252,
          -82.32295,
          -76.17814,
          -83.1369,
          -76.5648,
          -84.18773,
          -88.91658699999999,
          -81.88902,
          -74.86779,
          -86.019805,
          -90.28416700000001,
          -86.05318,
          -81.93864,
          -95.0225,
          -97.966973,
          -84.735046,
          -86.42385999999999,
          -76.855117,
          -84.261543,
          -84.6048,
          -122.62538700000002,
          -81.547297,
          -85.98956,
          -85.60372,
          -96.176369,
          -85.23487,
          -83.277491,
          -86.321626,
          -74.859163,
          -81.35916999999999,
          -82.034722,
          -85.797174,
          -78.3057,
          -120.07403000000001,
          -90.487472,
          -77.223611,
          -87.692818,
          -96.75842800000001,
          -76.65679,
          -94.92191700000001,
          -85.52981700000001,
          -95.82413299999999,
          -87.47964300000001,
          -93.6436,
          -123.270421,
          -96.554459,
          -96.95631,
          -98.8523,
          -87.2431,
          -95.263726,
          -121.9967,
          -88.467821,
          -95.08986,
          -96.0141,
          -81.5916,
          -79.4485,
          -87.842238,
          -69.117875,
          -90.53795799999999,
          -86.02249,
          -77.950366,
          -84.94543,
          -75.3985,
          -96.10841500000001,
          -97.365466,
          -119.7693,
          -80.80601999999999,
          -80.4586,
          -85.10431,
          -85.75189,
          -81.14095,
          -90.91781999999999,
          -86.670998,
          -91.524977,
          -88.15025200000001,
          -83.3995,
          -86.022111,
          -85.30627,
          -94.64955,
          -85.910892,
          -87.01179,
          -89.575417,
          -85.59473,
          -78.832909,
          -78.12419799999999,
          -71.16343,
          -110.90921999999999,
          -97.372827,
          -93.255997,
          -89.5385,
          -94.19081,
          -71.47634000000001,
          -97.089636,
          -79.411912,
          -93.05159,
          -102.61294000000001,
          -81.634547,
          -97.0895,
          -97.0895,
          -87.643266,
          -96.0149,
          -123.34651000000001,
          -86.008071,
          -66.656901,
          -93.761551,
          -80.40656,
          -84.07283000000001,
          -70.99458,
          -98.18386,
          -87.89421999999999,
          -85.67513000000001,
          -84.48108,
          -95.25343000000001,
          -80.58815,
          -89.374489,
          -91.214563,
          -91.214563,
          -91.214563,
          -89.972954,
          -85.23366,
          -88.08354,
          -122.750727,
          -77.70846999999999,
          -97.49643,
          -93.40128,
          -94.2321,
          -87.8748,
          -81.23075,
          -81.35179699999999,
          -84.594852,
          -81.637901,
          -82.718964,
          -93.35555500000001,
          -95.04694,
          -88.5114,
          -96.04329,
          -87.728889,
          -86.133553,
          -88.32763,
          -82.69485,
          -92.98572,
          -91.181783,
          -85.87188,
          -83.64246,
          -88.461671,
          -96.43650500000001,
          -89.1976,
          -82.746732,
          -83.081097,
          -79.8091,
          -73.985333,
          -90.392747,
          -102.5556,
          -86.251336,
          -88.531362,
          -112.08635,
          -80.81681999999999,
          -81.50851999999999,
          -85.192299,
          -118.13573999999998,
          -94.69586,
          -88.20647199999999,
          -82.425925,
          -94.13887,
          -97.670833,
          -76.51235,
          -86.79967099999999,
          -80.2759,
          -83.23278,
          -84.00163,
          -111.5486,
          -81.63854,
          -94.69,
          -77.799523,
          -93.871625,
          -95.97559,
          -91.60991,
          -117.91833999999999,
          -97.92356,
          -80.79101999999999,
          -120.99196,
          -89.1382,
          -97.900132,
          -122.31175,
          -84.268982,
          -95.7042,
          -93.753863,
          -96.673052,
          -83.66378,
          -97.39251999999999,
          -87.01731,
          -81.62865,
          -84.51101,
          -93.958333,
          -87.038611,
          -96.845833,
          -84.017219,
          -87.19403,
          -95.01573,
          -70.508116,
          -93.245149,
          -84.96076,
          -78.81506,
          -91.208107,
          -88.2284,
          -90.59353,
          -117.324849,
          -80.01925,
          -122.560194,
          -82.544341,
          -123.44617,
          -99.0004,
          -76.9075,
          -80.02995,
          -80.79989,
          -80.76052800000001,
          -82.72893,
          -88.25471999999999,
          -81.196667,
          -93.9894,
          -85.08074,
          -94.30839,
          -84.27098000000001,
          -95.00694399999999,
          -95.094145,
          -112.06736000000001,
          -91.7305,
          -122.734848,
          -118.31783,
          -118.290696,
          -96.85757,
          -81.52865,
          -80.937711,
          -80.630833,
          -72.97916,
          -97.02884,
          -97.439031,
          -69.75685,
          -90.070774,
          -91.202428,
          -85.86705,
          -81.89830400000001,
          -80.20629,
          -83.831389,
          -99.308835,
          -86.218331,
          -78.32223,
          -84.62371,
          -92.013194,
          -83.448688,
          -88.216944,
          -86.275317,
          -88.312353,
          -96.37416,
          -87.96739000000001,
          -80.69407,
          -84.30335,
          -86.27635,
          -90.07365,
          -120.52032,
          -82.93879,
          -97.20213000000001,
          -91.86843,
          -75.2005,
          -87.131,
          -90.296,
          -82.67548599999999,
          -84.4646,
          -95.399777,
          -88.118459,
          -81.45451700000001,
          -82.50918,
          -90.48279000000001,
          -86.17055,
          -122.213824,
          -111.95801999999999,
          -122.57911000000001,
          -84.51205999999999,
          -94.5033,
          -97.524914,
          -90.088466,
          -85.8954,
          -80.811042,
          -82.791667,
          -95.853431,
          -80.35638900000001,
          -80.9193,
          -94.428611,
          -112.061853,
          -84.9568,
          -84.23742,
          -91.17392,
          -86.830874,
          -95.05194399999999,
          -81.149722,
          -90.20443,
          -81.32838000000001,
          -84.22459,
          -71.84844,
          -87.567131,
          -97.47266,
          -88.197281,
          -82.21869000000001,
          -84.610556,
          -83.39395999999999,
          -92.45234,
          -92.13883100000001,
          -86.03374000000001,
          -97.09903,
          -106.73615,
          -85.25779,
          -89.130303,
          -91.23901500000001,
          -88.91298,
          -88.35866,
          -80.93817,
          -82.23299999999999,
          -95.04698,
          -88.25990999999999,
          -80.363185,
          -83.14503,
          -87.9271,
          -81.031547,
          -94.10423,
          -82.83546,
          -82.02589,
          -87.716767,
          -81.845,
          -79.970763,
          -89.045353,
          -84.22010300000001,
          -85.846082,
          -83.51931,
          -91.069424,
          -95.5565,
          -92.6308,
          -86.07236999999999,
          -83.78540100000001,
          -72.48716,
          -122.59810900000001,
          -85.2327,
          -86.014368,
          -88.23953,
          -81.44606999999999,
          -91.2382,
          -85.78094,
          -95.22496,
          -85.75361099999999,
          -78.38705,
          -94.549797,
          -92.63557,
          -75.32323000000001,
          -80.13091899999999,
          -81.20716,
          -85.6961,
          -92.672944,
          -115.93609,
          -84.26631,
          -85.827115,
          -89.701149,
          -97.436658,
          -96.86095999999999,
          -97.90243000000001,
          -84.285833,
          -93.966729,
          -77.86449,
          -97.886602,
          -95.09898000000001,
          -85.35946,
          -86.32413000000001,
          -79.66008000000001,
          -94.8067,
          -94.911111,
          -87.75163,
          -87.877057,
          -87.26236,
          -84.09822,
          -89.679,
          -118.2351,
          -80.96251,
          -84.01838000000001,
          -95.866413,
          -118.2431,
          -81.27300699999999,
          -117.83853,
          -81.85119,
          -86.23328000000001,
          -80.92805,
          -82.96726,
          -95.03844000000001,
          -123.02345,
          -122.96808200000001,
          -71.1182,
          -96.5495,
          -97.149783,
          -84.49081,
          -81.47986999999999,
          -111.82762,
          -94.28919,
          -97.43783,
          -85.82588,
          -82.597162,
          -74.83006999999999,
          -85.422997,
          -111.90475900000001,
          -84.7397,
          -68.8844,
          -77.468133,
          -95.75036300000001,
          -84.3632,
          -86.1236,
          -87.017268,
          -104.5167,
          -82.751251,
          -88.087958,
          -84.26295999999999,
          -71.48759,
          -76.56456999999999,
          -84.9626,
          -100.91221,
          -87.53048000000001,
          -80.40139,
          -84.95274,
          -79.89903000000001,
          -93.338815,
          -88.894954,
          -95.102778,
          -111.57642,
          -96.666389,
          -122.30276,
          -92.450972,
          -98.77675,
          -86.16375,
          -71.162666,
          -83.844698,
          -90.4437,
          -83.04774,
          -85.8296,
          -79.85184,
          -81.541763,
          -97.35257,
          -84.20004499999999,
          -104.86868,
          -86.14824,
          -97.0929,
          -80.80079,
          -88.9336,
          -81.294315,
          -85.64453,
          -97.71953,
          -80.924406,
          -84.25416,
          -75.1145,
          -72.835278,
          -92.387672,
          -88.329773,
          -95.71885,
          -97.257357,
          -85.89474,
          -86.31917,
          -97.482552,
          -82.537056,
          -92.48998,
          -83.449722,
          -81.15718299999999,
          -86.283101,
          -81.85715,
          -94.068815,
          -93.769768,
          -95.31352,
          -85.894049,
          -84.955383,
          -95.27664,
          -89.031204,
          -95.27226,
          -95.01360600000001,
          -121.74323000000001,
          -83.817044,
          -97.65202,
          -84.65352,
          -79.969818,
          -122.2532,
          -97.24715,
          -81.87881,
          -81.38888,
          -86.11790500000001,
          -97.15391,
          -122.2289,
          -85.337627,
          -76.672133,
          -84.51196,
          -95.08945,
          -82.425299,
          -90.351776,
          -81.51439,
          -100.98965,
          -79.883989,
          -106.425,
          -89.60205,
          -82.42078000000001,
          -122.838124,
          -91.17874,
          -104.82418,
          -84.5123,
          -82.552848,
          -84.9227,
          -75.031763,
          -88.69984000000001,
          -123.3453,
          -94.903056,
          -79.42336,
          -95.255214,
          -89.62508100000001,
          -81.391134,
          -117.26156999999999,
          -87.93297,
          -88.072778,
          -84.53644,
          -79.18197099999999,
          -84.20639,
          -118.32878000000001,
          -84.2234,
          -80.6931,
          -108.604156,
          -122.09801999999999,
          -99.6817,
          -89.273512,
          -83.20489,
          -85.258925,
          -117.1919,
          -88.300054,
          -85.729364,
          -96.69498,
          -85.61892399999999,
          -86.01914000000001,
          -82.449078,
          -74.355,
          -86.330347,
          -88.494917,
          -87.487822,
          -87.94704,
          -85.847511,
          -117.11688000000001,
          -118.06062,
          -79.87691099999999,
          -98.686611,
          -81.56145,
          -80.225131,
          -82.37526,
          -85.8481,
          -82.708499,
          -83.318986,
          -101.70697,
          -87.998088,
          -90.832031,
          -88.76893000000001,
          -80.347521,
          -112.17371000000001,
          -121.28525,
          -104.21504,
          -94.570908,
          -81.52678900000001,
          -85.800597,
          -122.68831000000002,
          -89.66900600000001,
          -110.90579,
          -74.54091899999999,
          -95.858096,
          -75.95498,
          -73.705667,
          -97.99965,
          -93.137889,
          -85.837121,
          -88.412389,
          -97.37401,
          -93.191633,
          -85.07544,
          -79.901111,
          -88.205158,
          -93.83247,
          -84.7122,
          -83.27805,
          -86.33478000000001,
          -95.02240400000001,
          -121.39441000000001,
          -123.33988000000001,
          -82.152274,
          -81.82865100000001,
          -81.131111,
          -94.6801,
          -88.2989,
          -94.09527800000001,
          -95.126944,
          -75.634,
          -86.0283,
          -87.548243,
          -98.99051999999999,
          -119.86241000000001,
          -93.968333,
          -87.939868,
          -82.36820999999999,
          -90.20496999999999,
          -102.22066,
          -90.574986,
          -75.55435,
          -81.97166700000001,
          -77.09272,
          -73.853563,
          -91.39854,
          -77.55041,
          -117.64165,
          -84.92766800000001,
          -74.12225,
          -88.34116,
          -95.69736999999999,
          -80.95766,
          -82.88835999999999,
          -86.433441,
          -77.0291,
          -86.781281,
          -122.1021,
          -75.354897,
          -93.94497199999999,
          -82.740876,
          -71.51853,
          -82.41982,
          -98.281927,
          -84.863845,
          -82.33265,
          -80.23496,
          -86.95495600000001,
          -119.615756,
          -95.37606,
          -91.1352,
          -77.07087,
          -88.33416700000001,
          -84.84613900000001,
          -87.19456,
          -77.34405,
          -97.58885,
          -86.15889,
          -95.126944,
          -101.741388,
          -80.54632,
          -101.84640999999999,
          -81.23082099999999,
          -92.29904,
          -95.17896,
          -92.181917,
          -88.2249,
          -82.753483,
          -82.47312,
          -93.27438599999999,
          -86.67007,
          -81.387027,
          -97.959685,
          -92.245041,
          -71.115941,
          -95.370232,
          -80.37217,
          -114.62055,
          -118.39217,
          -90.44905,
          -84.175742,
          -97.436189,
          -86.16011,
          -96.57301,
          -89.76995,
          -87.956786,
          -90.916,
          -86.08008000000001,
          -95.26875,
          -80.5412,
          -118.34998999999999,
          -112.9681,
          -80.442222,
          -86.56430999999999,
          -95.38429000000001,
          -84.132896,
          -80.060416,
          -93.73857,
          -108.55236000000001,
          -118.42105,
          -84.37593000000001,
          -96.76719399999999,
          -114.85898,
          -81.34607,
          -82.541562,
          -94.071388,
          -80.43013499999999,
          -85.906836,
          -117.35721000000001,
          -97.10417,
          -82.545511,
          -72.36674599999999,
          -76.780518,
          -86.74941,
          -118.242108,
          -96.95631,
          -91.24377700000001,
          -84.204034,
          -88.288061,
          -84.63786,
          -95.44738000000001,
          -88.325437,
          -80.79715,
          -74.438911,
          -122.44732900000001,
          -90.44728,
          -94.62463199999999,
          -82.190403,
          -94.809925,
          -95.47310999999999,
          -117.44775,
          -98.3125,
          -93.343622,
          -80.67676999999999,
          -85.99689000000001,
          -95.019464,
          -82.4043,
          -81.26919000000001,
          -85.79555,
          -96.478679,
          -80.28416700000001,
          -85.861944,
          -81.24219000000001,
          -78.5793,
          -80.16653000000001,
          -91.31424,
          -122.761402,
          -80.09916700000001,
          -80.7669,
          -84.54531,
          -78.8394,
          -87.61164000000001,
          -86.041496,
          -95.258481,
          -84.20769,
          -93.957222,
          -80.15601,
          -84.65134,
          -84.042178,
          -79.90460999999999,
          -87.34741,
          -86.4556,
          -82.03123199999999,
          -69.73987,
          -82.987222,
          -84.28979,
          -111.768409,
          -82.36086999999999,
          -75.42227,
          -79.84236,
          -88.300945,
          -93.04055,
          -68.375596,
          -106.64553000000001,
          -85.98988,
          -93.21498000000001,
          -117.9966,
          -93.983184,
          -86.24258,
          -95.256835,
          -84.43536,
          -118.22565,
          -81.6733,
          -74.598083,
          -81.686216,
          -82.550978,
          -80.88641,
          -77.189712,
          -82.54399599999999,
          -82.47398299999999,
          -94.366783,
          -98.02141,
          -87.98285,
          -123.1918,
          -90.132696,
          -95.3549,
          -115.07995,
          -94.881332,
          -94.299113,
          -92.42789,
          -95.441419,
          -81.38311,
          -80.63452,
          -82.52031,
          -95.251079,
          -90.18551,
          -122.7046,
          -86.950879,
          -93.24043,
          -84.952383,
          -98.091667,
          -94.85082,
          -82.01677,
          -88.499306,
          -96.0011,
          -82.693852,
          -91.075784,
          -87.461568,
          -83.1107,
          -80.2885,
          -78.1897,
          -92.28408,
          -93.37317,
          -93.1521,
          -122.127222,
          -98.58223199999999,
          -83.1472,
          -80.71484699999999,
          -82.95285,
          -80.90969,
          -94.3688,
          -89.0506,
          -76.59151999999999,
          -81.098826,
          -83.2789,
          -80.05502,
          -95.75036300000001,
          -122.13503,
          -95.06800799999999,
          -84.59234000000001,
          -76.997984,
          -80.127101,
          -80.951134,
          -92.59880600000001,
          -85.29449,
          -95.8117,
          -93.22789,
          -90.08338499999999,
          -82.00971899999999,
          -117.91173,
          -122.4751,
          -74.87413000000001,
          -82.0906,
          -87.999188,
          -86.16453,
          -92.16726,
          -81.1989,
          -81.778,
          -117.56851100000002,
          -117.93488,
          -88.527861,
          -88.183927,
          -81.350367,
          -99.354196,
          -97.4907,
          -90.392778,
          -93.2869,
          -116.86203,
          -74.54943,
          -77.629836,
          -85.13884,
          -84.2265,
          -80.98831,
          -81.14515,
          -80.8855,
          -80.092433,
          -82.211484,
          -83.46,
          -86.19582,
          -81.05481,
          -95.0479,
          -95.13664,
          -86.81974,
          -80.09127,
          -122.69211399999999,
          -84.47008000000001,
          -97.2275,
          -80.868248,
          -79.785659,
          -122.13856899999999,
          -83.27768,
          -80.58716,
          -112.12138999999999,
          -80.80252,
          -97.593611,
          -81.40323199999999,
          -87.98925,
          -118.165944,
          -80.91589,
          -117.45688,
          -87.74834,
          -85.558497,
          -75.35199,
          -86.00979,
          -85.18081,
          -94.77407,
          -95.254401,
          -88.02883299999999,
          -118.21051000000001,
          -95.011032,
          -85.21301,
          -88.460072,
          -81.00698100000001,
          -83.097351,
          -96.87414,
          -95.08512900000001,
          -100.6286
         ],
         "name": "",
         "radius": 10,
         "subplot": "mapbox",
         "type": "densitymapbox",
         "z": [
          5565,
          0,
          0,
          340,
          140,
          1600,
          1375,
          6795,
          359,
          25,
          3922,
          7636,
          4400,
          5180,
          0,
          1707,
          80310,
          0,
          7380,
          12809.86528,
          1685,
          750,
          5794.09,
          230,
          1436,
          107559,
          14800,
          1178,
          6,
          3980,
          5025.1,
          119968,
          2811.18,
          0.4,
          0,
          6016.7,
          6438,
          26,
          23,
          0,
          9244.35,
          5036,
          0,
          0,
          150,
          11519,
          0,
          32116,
          11000,
          1347,
          305807,
          0,
          0,
          569.5,
          451.63,
          6561,
          205247,
          2899,
          6484,
          0,
          5923,
          0,
          5860,
          2992,
          473,
          0,
          0,
          23.39,
          14847.36,
          0,
          137243,
          54100,
          46,
          25678,
          15088,
          0,
          2668.4,
          0,
          19100,
          98932,
          0,
          2662,
          36778,
          0,
          37,
          4372,
          5,
          9681,
          340,
          0,
          4506,
          9017,
          0,
          335,
          3732,
          16564,
          2109,
          17214,
          0,
          50,
          117,
          8692.6,
          0,
          250,
          3071,
          20587.96,
          2190,
          0.33504,
          400,
          6806,
          19375,
          0,
          306,
          9227,
          0.82,
          525.64,
          0,
          0,
          13939,
          134030,
          51000,
          710,
          1.82,
          3031.24,
          0,
          17421,
          200364,
          97200,
          62500,
          4437,
          340,
          16159,
          0,
          1700,
          204,
          15709,
          45238,
          250,
          12923,
          7311.18,
          2100,
          75272,
          673,
          14237,
          157,
          24575,
          40870,
          6174,
          5997,
          0,
          5356,
          1697,
          0,
          24945,
          6323.34,
          0,
          190,
          280,
          118629,
          2.5,
          250,
          5,
          73388,
          1061.9,
          5460,
          0,
          51316,
          0,
          792,
          155788,
          4905,
          0,
          0,
          0,
          25011,
          220,
          250,
          7255,
          0,
          205693,
          93446,
          157700,
          440,
          61,
          11507,
          292,
          2142,
          40687,
          0,
          1786,
          139308,
          88820,
          1276,
          14522.79,
          0.56,
          8,
          750,
          320,
          17,
          0,
          2527.26,
          11,
          5,
          15.51,
          10703,
          173,
          0,
          70,
          31782.9,
          0,
          5025,
          4,
          141.8,
          5252,
          6016,
          0,
          1,
          0,
          2100,
          355,
          8899.8,
          0,
          0,
          0.4,
          0,
          13440,
          112,
          4735,
          1831,
          0,
          4423,
          4013.91,
          0,
          11363.3,
          356,
          13820,
          4945,
          0,
          8046.27,
          0,
          2115,
          101980,
          0,
          35.291,
          45000,
          70060,
          0,
          48000,
          753,
          8.45,
          440,
          1886,
          1382,
          109051.71,
          8106.6,
          4974,
          40853,
          49.47,
          114440,
          180,
          2537.49,
          1081.37,
          7,
          0,
          18149,
          0,
          6412,
          97910.6,
          280,
          804,
          6752,
          6,
          5911,
          284.8025,
          0,
          77154,
          227204,
          107,
          0,
          0,
          0,
          141980,
          663550,
          58,
          0,
          70698.5,
          0,
          3206,
          0.006999999999999999,
          5138,
          11830.8,
          543,
          305.8,
          56,
          3286.6,
          727,
          8423,
          620,
          4120,
          5,
          0,
          15900,
          6451,
          250,
          75289.2,
          0,
          189.6,
          5,
          8749,
          34889,
          9,
          13422,
          14379.38,
          162646,
          7,
          0,
          53623,
          52475.06,
          1462,
          149401,
          250,
          1060,
          336,
          5,
          338,
          29860,
          32194,
          22612.5,
          0,
          0,
          3425,
          0,
          76,
          12605,
          52945.407999999996,
          4645,
          7912,
          0,
          18285,
          158,
          21505,
          43676,
          49720,
          3440,
          0,
          16922,
          0,
          22,
          6515,
          0,
          19849,
          904,
          6830,
          0,
          103640,
          829,
          0,
          0,
          250,
          0,
          69360,
          0,
          217312,
          16705,
          512,
          0,
          71449,
          2697,
          47,
          493,
          0,
          8300,
          35408,
          0,
          0,
          0,
          46,
          3360,
          0,
          0,
          0,
          0,
          0,
          11833,
          58692,
          5817,
          157700,
          47420,
          3100,
          8906,
          18067,
          115,
          79000,
          470.82,
          333,
          153437,
          19070,
          4975,
          0,
          0.3,
          131683,
          36512,
          2816.91,
          877.1,
          5,
          67744,
          12841.09,
          122854,
          7.1,
          1,
          27757,
          8436.2,
          0,
          0,
          0,
          9806,
          1430,
          8243,
          18045,
          61220,
          2903,
          46452,
          5542.08,
          20988.72,
          13,
          0,
          440092.78,
          2483,
          14653,
          250,
          1638,
          2304,
          35449,
          250,
          0,
          0,
          50092,
          2000,
          2557,
          20,
          7271.7,
          1122,
          3,
          0,
          29.86,
          250,
          5565,
          393.4,
          9.81,
          7367,
          0,
          28,
          54,
          0,
          71,
          97853,
          0,
          10694,
          0,
          0,
          17357,
          18,
          194767,
          4,
          8729,
          109500,
          186,
          61311,
          4246,
          165540,
          14709,
          91924,
          0,
          138,
          13537,
          8957,
          17.14,
          1463.39,
          0,
          19412,
          3560,
          580,
          540,
          0,
          21575,
          0,
          1742,
          3,
          0,
          2957,
          3465.75,
          0,
          250,
          0,
          29580,
          0,
          433,
          417,
          168389,
          4495,
          45900,
          1464,
          0,
          0,
          5685,
          3679,
          24270,
          18900,
          815,
          26692,
          0,
          1487,
          0,
          7556,
          1200,
          0,
          0,
          250,
          23,
          4675,
          34209,
          52.6,
          112,
          299.5,
          0,
          2960,
          37,
          7431,
          16,
          5,
          0,
          26175,
          5592,
          24407,
          20110,
          24278,
          0,
          14248,
          5084,
          9454,
          10636,
          1110,
          3500,
          10275.09,
          0,
          2090,
          34343,
          0,
          3734,
          100,
          2518,
          6.08,
          27220,
          750,
          0,
          6495,
          3,
          1,
          2243,
          24146,
          398,
          250,
          5101.1,
          60969,
          5255,
          18487.54,
          295460,
          1174,
          0,
          462,
          279,
          12170,
          361,
          5,
          561,
          0,
          0,
          89207,
          0,
          300,
          12,
          24764,
          26266,
          13891,
          250,
          34.8,
          115,
          1732.54,
          1,
          31405,
          441,
          79917,
          13913.235,
          0.34,
          77492,
          0,
          1121,
          24520,
          103720,
          33609.76,
          0,
          5988,
          3404,
          0,
          6,
          138,
          7900,
          79683.94,
          2290,
          530.5,
          8,
          1,
          117.1,
          170,
          22393,
          0,
          171,
          0,
          630,
          2851,
          10873.7,
          340,
          900,
          140000,
          17343,
          61152,
          7601,
          228283,
          0,
          13000,
          250,
          168,
          0,
          7977,
          8057,
          6312.73,
          0,
          0,
          54928,
          0,
          0,
          0,
          139573,
          33000,
          37176,
          48,
          108.54,
          79,
          16241,
          27246,
          3687,
          2772,
          14805,
          11900,
          6997,
          11181,
          337,
          116892,
          750,
          149,
          250,
          86064,
          5,
          1160,
          107.3,
          0,
          49,
          2190,
          34395,
          3447,
          0,
          18,
          123,
          252637,
          1303,
          0,
          17257,
          25899,
          88997,
          181337,
          70907,
          37884.8,
          13887,
          35068,
          206,
          45411,
          393,
          9081,
          41946,
          4574.7,
          0,
          0,
          466323,
          270,
          37,
          1777,
          25540,
          24,
          12900,
          947,
          3823,
          40967,
          10999,
          54046,
          19176.8,
          0,
          56440,
          194,
          22459,
          381760,
          750,
          1049,
          24,
          642,
          15172,
          1749,
          1.1,
          7311,
          93,
          6926,
          0,
          74,
          202744,
          49432,
          68,
          79,
          1000,
          3133,
          4073,
          0,
          7570,
          700,
          7092,
          448,
          72533,
          170472,
          3916.03,
          49402,
          1578,
          23,
          18875,
          99560,
          0,
          40,
          3924.6,
          6256,
          80,
          34286,
          505,
          1,
          3773,
          0,
          12375.27,
          6287,
          3166,
          0,
          6000,
          134023,
          944,
          5,
          877,
          1562,
          0,
          5300,
          5,
          0,
          1350,
          0,
          43000,
          132775,
          9028,
          252,
          124.9,
          628.97,
          1.16,
          18752,
          78,
          19869,
          3872,
          56,
          54400,
          1500,
          33006,
          68283.17,
          379.86,
          11909,
          91,
          0,
          0,
          1147,
          5,
          4.95,
          64801,
          0,
          7031,
          277218,
          49668.1,
          5996,
          19902,
          11270,
          4388.01,
          15,
          210,
          13616,
          21568,
          133503,
          0,
          106,
          0,
          0,
          13499.7,
          0.2,
          16522,
          0,
          187,
          6095.22,
          23.23,
          40.1,
          3000,
          2799,
          12927,
          14600,
          180,
          1195,
          274.79,
          5691,
          2599,
          0.58,
          165175,
          43517,
          81400,
          0,
          2034,
          22,
          780,
          8327,
          0,
          625,
          19000,
          204943,
          62463,
          37,
          5,
          0,
          33590,
          27039,
          821,
          20077,
          8227,
          0,
          37,
          5.61,
          10711.96,
          0,
          49617,
          2218.755,
          6522,
          191,
          41717,
          1010.6,
          73212,
          4089,
          2095,
          86.09,
          8374,
          4551,
          4986,
          74205,
          250,
          5,
          1363,
          2927,
          25678,
          23126.07,
          0,
          24,
          44800,
          50,
          4407,
          0,
          91120,
          10707,
          0,
          33867,
          9000,
          0,
          0,
          19700,
          25908,
          1e-07,
          490,
          120370,
          15800,
          5382,
          0,
          13614,
          141395,
          17640,
          0,
          38,
          73747,
          0.23,
          22466.9,
          139800,
          6825,
          690,
          88030,
          33068,
          2780,
          61,
          43.52,
          0,
          1826.5,
          0,
          6959.4,
          0,
          13195,
          103238,
          16197,
          0,
          4355,
          6487,
          28366,
          3623,
          750,
          16609,
          15238,
          90274,
          53791,
          0.03,
          21,
          5,
          0.04,
          22,
          134,
          21923,
          0,
          48600,
          22455,
          20932,
          11530,
          0,
          29457,
          1309,
          0,
          455.12,
          82,
          5900,
          46479,
          5508.7,
          276,
          52231,
          2421.2,
          38410,
          175532,
          0,
          47554.8,
          891.63,
          1507,
          7987,
          5851,
          0,
          0,
          4501.84,
          43009,
          31580,
          250,
          3,
          0,
          5097,
          2737,
          21582,
          77258.88,
          701.905,
          20296,
          7716,
          0.38,
          0,
          0,
          33820,
          34085,
          750,
          0,
          26593,
          0,
          424,
          44.82,
          54,
          1227,
          829,
          8100,
          13985,
          2378.7,
          5476,
          16900,
          4000,
          0,
          12291,
          0,
          52117,
          0,
          1918,
          0,
          0,
          10960.34,
          0,
          200,
          4470,
          4644,
          0,
          0,
          3459,
          14947,
          0,
          5331,
          64902,
          750,
          1286,
          14,
          0,
          36.74,
          1141,
          0.22,
          1816.65,
          8528,
          1085,
          1612,
          250,
          160,
          5,
          0,
          37419,
          13331.91,
          413,
          50658,
          552,
          339,
          3394,
          186478,
          24144.72,
          20200,
          2715.7444,
          4796.02,
          4300,
          10200,
          0,
          1,
          0,
          3100,
          2479,
          50456,
          12846,
          113660,
          0,
          145597,
          250,
          0,
          10226,
          0,
          8222.055,
          921,
          5002,
          2272,
          2230,
          2924.42,
          8,
          4822,
          756,
          384.43,
          1467,
          0,
          17885,
          0,
          121994.31800000001,
          7500,
          38146,
          0,
          0,
          84458,
          10,
          750,
          28280,
          19,
          1258,
          209360,
          5173,
          0,
          0,
          60,
          5890,
          259,
          11212.38,
          73,
          4428,
          16730,
          0,
          24449,
          609,
          28855,
          2.3,
          2567,
          0,
          8350,
          4718,
          9230.4,
          5,
          10,
          0,
          900.53,
          8614,
          14,
          5,
          0,
          216400,
          16500,
          1,
          2131,
          0,
          916.48,
          3910,
          5593,
          0,
          2654,
          5,
          8473,
          152.2,
          12080,
          9942,
          277159,
          13.02,
          0,
          100974,
          2856,
          4135,
          21550,
          452.05,
          2294,
          237175,
          208,
          0,
          29110,
          0,
          735,
          8880,
          3720,
          0,
          16267,
          2,
          250,
          33541,
          260,
          61818,
          79,
          31300,
          82.14,
          67,
          5330,
          2486
         ]
        }
       ],
       "layout": {
        "coloraxis": {
         "colorbar": {
          "title": {
           "text": "Emissions (lbs)"
          }
         },
         "colorscale": [
          [
           0,
           "#0d0887"
          ],
          [
           0.1111111111111111,
           "#46039f"
          ],
          [
           0.2222222222222222,
           "#7201a8"
          ],
          [
           0.3333333333333333,
           "#9c179e"
          ],
          [
           0.4444444444444444,
           "#bd3786"
          ],
          [
           0.5555555555555556,
           "#d8576b"
          ],
          [
           0.6666666666666666,
           "#ed7953"
          ],
          [
           0.7777777777777778,
           "#fb9f3a"
          ],
          [
           0.8888888888888888,
           "#fdca26"
          ],
          [
           1,
           "#f0f921"
          ]
         ]
        },
        "legend": {
         "tracegroupgap": 0
        },
        "mapbox": {
         "center": {
          "lat": 0,
          "lon": 0
         },
         "domain": {
          "x": [
           0,
           1
          ],
          "y": [
           0,
           1
          ]
         },
         "style": "stamen-terrain",
         "zoom": 0
        },
        "margin": {
         "t": 60
        },
        "template": {
         "data": {
          "bar": [
           {
            "error_x": {
             "color": "#2a3f5f"
            },
            "error_y": {
             "color": "#2a3f5f"
            },
            "marker": {
             "line": {
              "color": "#E5ECF6",
              "width": 0.5
             }
            },
            "type": "bar"
           }
          ],
          "barpolar": [
           {
            "marker": {
             "line": {
              "color": "#E5ECF6",
              "width": 0.5
             }
            },
            "type": "barpolar"
           }
          ],
          "carpet": [
           {
            "aaxis": {
             "endlinecolor": "#2a3f5f",
             "gridcolor": "white",
             "linecolor": "white",
             "minorgridcolor": "white",
             "startlinecolor": "#2a3f5f"
            },
            "baxis": {
             "endlinecolor": "#2a3f5f",
             "gridcolor": "white",
             "linecolor": "white",
             "minorgridcolor": "white",
             "startlinecolor": "#2a3f5f"
            },
            "type": "carpet"
           }
          ],
          "choropleth": [
           {
            "colorbar": {
             "outlinewidth": 0,
             "ticks": ""
            },
            "type": "choropleth"
           }
          ],
          "contour": [
           {
            "colorbar": {
             "outlinewidth": 0,
             "ticks": ""
            },
            "colorscale": [
             [
              0,
              "#0d0887"
             ],
             [
              0.1111111111111111,
              "#46039f"
             ],
             [
              0.2222222222222222,
              "#7201a8"
             ],
             [
              0.3333333333333333,
              "#9c179e"
             ],
             [
              0.4444444444444444,
              "#bd3786"
             ],
             [
              0.5555555555555556,
              "#d8576b"
             ],
             [
              0.6666666666666666,
              "#ed7953"
             ],
             [
              0.7777777777777778,
              "#fb9f3a"
             ],
             [
              0.8888888888888888,
              "#fdca26"
             ],
             [
              1,
              "#f0f921"
             ]
            ],
            "type": "contour"
           }
          ],
          "contourcarpet": [
           {
            "colorbar": {
             "outlinewidth": 0,
             "ticks": ""
            },
            "type": "contourcarpet"
           }
          ],
          "heatmap": [
           {
            "colorbar": {
             "outlinewidth": 0,
             "ticks": ""
            },
            "colorscale": [
             [
              0,
              "#0d0887"
             ],
             [
              0.1111111111111111,
              "#46039f"
             ],
             [
              0.2222222222222222,
              "#7201a8"
             ],
             [
              0.3333333333333333,
              "#9c179e"
             ],
             [
              0.4444444444444444,
              "#bd3786"
             ],
             [
              0.5555555555555556,
              "#d8576b"
             ],
             [
              0.6666666666666666,
              "#ed7953"
             ],
             [
              0.7777777777777778,
              "#fb9f3a"
             ],
             [
              0.8888888888888888,
              "#fdca26"
             ],
             [
              1,
              "#f0f921"
             ]
            ],
            "type": "heatmap"
           }
          ],
          "heatmapgl": [
           {
            "colorbar": {
             "outlinewidth": 0,
             "ticks": ""
            },
            "colorscale": [
             [
              0,
              "#0d0887"
             ],
             [
              0.1111111111111111,
              "#46039f"
             ],
             [
              0.2222222222222222,
              "#7201a8"
             ],
             [
              0.3333333333333333,
              "#9c179e"
             ],
             [
              0.4444444444444444,
              "#bd3786"
             ],
             [
              0.5555555555555556,
              "#d8576b"
             ],
             [
              0.6666666666666666,
              "#ed7953"
             ],
             [
              0.7777777777777778,
              "#fb9f3a"
             ],
             [
              0.8888888888888888,
              "#fdca26"
             ],
             [
              1,
              "#f0f921"
             ]
            ],
            "type": "heatmapgl"
           }
          ],
          "histogram": [
           {
            "marker": {
             "colorbar": {
              "outlinewidth": 0,
              "ticks": ""
             }
            },
            "type": "histogram"
           }
          ],
          "histogram2d": [
           {
            "colorbar": {
             "outlinewidth": 0,
             "ticks": ""
            },
            "colorscale": [
             [
              0,
              "#0d0887"
             ],
             [
              0.1111111111111111,
              "#46039f"
             ],
             [
              0.2222222222222222,
              "#7201a8"
             ],
             [
              0.3333333333333333,
              "#9c179e"
             ],
             [
              0.4444444444444444,
              "#bd3786"
             ],
             [
              0.5555555555555556,
              "#d8576b"
             ],
             [
              0.6666666666666666,
              "#ed7953"
             ],
             [
              0.7777777777777778,
              "#fb9f3a"
             ],
             [
              0.8888888888888888,
              "#fdca26"
             ],
             [
              1,
              "#f0f921"
             ]
            ],
            "type": "histogram2d"
           }
          ],
          "histogram2dcontour": [
           {
            "colorbar": {
             "outlinewidth": 0,
             "ticks": ""
            },
            "colorscale": [
             [
              0,
              "#0d0887"
             ],
             [
              0.1111111111111111,
              "#46039f"
             ],
             [
              0.2222222222222222,
              "#7201a8"
             ],
             [
              0.3333333333333333,
              "#9c179e"
             ],
             [
              0.4444444444444444,
              "#bd3786"
             ],
             [
              0.5555555555555556,
              "#d8576b"
             ],
             [
              0.6666666666666666,
              "#ed7953"
             ],
             [
              0.7777777777777778,
              "#fb9f3a"
             ],
             [
              0.8888888888888888,
              "#fdca26"
             ],
             [
              1,
              "#f0f921"
             ]
            ],
            "type": "histogram2dcontour"
           }
          ],
          "mesh3d": [
           {
            "colorbar": {
             "outlinewidth": 0,
             "ticks": ""
            },
            "type": "mesh3d"
           }
          ],
          "parcoords": [
           {
            "line": {
             "colorbar": {
              "outlinewidth": 0,
              "ticks": ""
             }
            },
            "type": "parcoords"
           }
          ],
          "pie": [
           {
            "automargin": true,
            "type": "pie"
           }
          ],
          "scatter": [
           {
            "marker": {
             "colorbar": {
              "outlinewidth": 0,
              "ticks": ""
             }
            },
            "type": "scatter"
           }
          ],
          "scatter3d": [
           {
            "line": {
             "colorbar": {
              "outlinewidth": 0,
              "ticks": ""
             }
            },
            "marker": {
             "colorbar": {
              "outlinewidth": 0,
              "ticks": ""
             }
            },
            "type": "scatter3d"
           }
          ],
          "scattercarpet": [
           {
            "marker": {
             "colorbar": {
              "outlinewidth": 0,
              "ticks": ""
             }
            },
            "type": "scattercarpet"
           }
          ],
          "scattergeo": [
           {
            "marker": {
             "colorbar": {
              "outlinewidth": 0,
              "ticks": ""
             }
            },
            "type": "scattergeo"
           }
          ],
          "scattergl": [
           {
            "marker": {
             "colorbar": {
              "outlinewidth": 0,
              "ticks": ""
             }
            },
            "type": "scattergl"
           }
          ],
          "scattermapbox": [
           {
            "marker": {
             "colorbar": {
              "outlinewidth": 0,
              "ticks": ""
             }
            },
            "type": "scattermapbox"
           }
          ],
          "scatterpolar": [
           {
            "marker": {
             "colorbar": {
              "outlinewidth": 0,
              "ticks": ""
             }
            },
            "type": "scatterpolar"
           }
          ],
          "scatterpolargl": [
           {
            "marker": {
             "colorbar": {
              "outlinewidth": 0,
              "ticks": ""
             }
            },
            "type": "scatterpolargl"
           }
          ],
          "scatterternary": [
           {
            "marker": {
             "colorbar": {
              "outlinewidth": 0,
              "ticks": ""
             }
            },
            "type": "scatterternary"
           }
          ],
          "surface": [
           {
            "colorbar": {
             "outlinewidth": 0,
             "ticks": ""
            },
            "colorscale": [
             [
              0,
              "#0d0887"
             ],
             [
              0.1111111111111111,
              "#46039f"
             ],
             [
              0.2222222222222222,
              "#7201a8"
             ],
             [
              0.3333333333333333,
              "#9c179e"
             ],
             [
              0.4444444444444444,
              "#bd3786"
             ],
             [
              0.5555555555555556,
              "#d8576b"
             ],
             [
              0.6666666666666666,
              "#ed7953"
             ],
             [
              0.7777777777777778,
              "#fb9f3a"
             ],
             [
              0.8888888888888888,
              "#fdca26"
             ],
             [
              1,
              "#f0f921"
             ]
            ],
            "type": "surface"
           }
          ],
          "table": [
           {
            "cells": {
             "fill": {
              "color": "#EBF0F8"
             },
             "line": {
              "color": "white"
             }
            },
            "header": {
             "fill": {
              "color": "#C8D4E3"
             },
             "line": {
              "color": "white"
             }
            },
            "type": "table"
           }
          ]
         },
         "layout": {
          "annotationdefaults": {
           "arrowcolor": "#2a3f5f",
           "arrowhead": 0,
           "arrowwidth": 1
          },
          "autotypenumbers": "strict",
          "coloraxis": {
           "colorbar": {
            "outlinewidth": 0,
            "ticks": ""
           }
          },
          "colorscale": {
           "diverging": [
            [
             0,
             "#8e0152"
            ],
            [
             0.1,
             "#c51b7d"
            ],
            [
             0.2,
             "#de77ae"
            ],
            [
             0.3,
             "#f1b6da"
            ],
            [
             0.4,
             "#fde0ef"
            ],
            [
             0.5,
             "#f7f7f7"
            ],
            [
             0.6,
             "#e6f5d0"
            ],
            [
             0.7,
             "#b8e186"
            ],
            [
             0.8,
             "#7fbc41"
            ],
            [
             0.9,
             "#4d9221"
            ],
            [
             1,
             "#276419"
            ]
           ],
           "sequential": [
            [
             0,
             "#0d0887"
            ],
            [
             0.1111111111111111,
             "#46039f"
            ],
            [
             0.2222222222222222,
             "#7201a8"
            ],
            [
             0.3333333333333333,
             "#9c179e"
            ],
            [
             0.4444444444444444,
             "#bd3786"
            ],
            [
             0.5555555555555556,
             "#d8576b"
            ],
            [
             0.6666666666666666,
             "#ed7953"
            ],
            [
             0.7777777777777778,
             "#fb9f3a"
            ],
            [
             0.8888888888888888,
             "#fdca26"
            ],
            [
             1,
             "#f0f921"
            ]
           ],
           "sequentialminus": [
            [
             0,
             "#0d0887"
            ],
            [
             0.1111111111111111,
             "#46039f"
            ],
            [
             0.2222222222222222,
             "#7201a8"
            ],
            [
             0.3333333333333333,
             "#9c179e"
            ],
            [
             0.4444444444444444,
             "#bd3786"
            ],
            [
             0.5555555555555556,
             "#d8576b"
            ],
            [
             0.6666666666666666,
             "#ed7953"
            ],
            [
             0.7777777777777778,
             "#fb9f3a"
            ],
            [
             0.8888888888888888,
             "#fdca26"
            ],
            [
             1,
             "#f0f921"
            ]
           ]
          },
          "colorway": [
           "#636efa",
           "#EF553B",
           "#00cc96",
           "#ab63fa",
           "#FFA15A",
           "#19d3f3",
           "#FF6692",
           "#B6E880",
           "#FF97FF",
           "#FECB52"
          ],
          "font": {
           "color": "#2a3f5f"
          },
          "geo": {
           "bgcolor": "white",
           "lakecolor": "white",
           "landcolor": "#E5ECF6",
           "showlakes": true,
           "showland": true,
           "subunitcolor": "white"
          },
          "hoverlabel": {
           "align": "left"
          },
          "hovermode": "closest",
          "mapbox": {
           "style": "light"
          },
          "paper_bgcolor": "white",
          "plot_bgcolor": "#E5ECF6",
          "polar": {
           "angularaxis": {
            "gridcolor": "white",
            "linecolor": "white",
            "ticks": ""
           },
           "bgcolor": "#E5ECF6",
           "radialaxis": {
            "gridcolor": "white",
            "linecolor": "white",
            "ticks": ""
           }
          },
          "scene": {
           "xaxis": {
            "backgroundcolor": "#E5ECF6",
            "gridcolor": "white",
            "gridwidth": 2,
            "linecolor": "white",
            "showbackground": true,
            "ticks": "",
            "zerolinecolor": "white"
           },
           "yaxis": {
            "backgroundcolor": "#E5ECF6",
            "gridcolor": "white",
            "gridwidth": 2,
            "linecolor": "white",
            "showbackground": true,
            "ticks": "",
            "zerolinecolor": "white"
           },
           "zaxis": {
            "backgroundcolor": "#E5ECF6",
            "gridcolor": "white",
            "gridwidth": 2,
            "linecolor": "white",
            "showbackground": true,
            "ticks": "",
            "zerolinecolor": "white"
           }
          },
          "shapedefaults": {
           "line": {
            "color": "#2a3f5f"
           }
          },
          "ternary": {
           "aaxis": {
            "gridcolor": "white",
            "linecolor": "white",
            "ticks": ""
           },
           "baxis": {
            "gridcolor": "white",
            "linecolor": "white",
            "ticks": ""
           },
           "bgcolor": "#E5ECF6",
           "caxis": {
            "gridcolor": "white",
            "linecolor": "white",
            "ticks": ""
           }
          },
          "title": {
           "x": 0.05
          },
          "xaxis": {
           "automargin": true,
           "gridcolor": "white",
           "linecolor": "white",
           "ticks": "",
           "title": {
            "standoff": 15
           },
           "zerolinecolor": "white",
           "zerolinewidth": 2
          },
          "yaxis": {
           "automargin": true,
           "gridcolor": "white",
           "linecolor": "white",
           "ticks": "",
           "title": {
            "standoff": 15
           },
           "zerolinecolor": "white",
           "zerolinewidth": 2
          }
         }
        }
       }
      },
      "text/html": [
       "<div>                            <div id=\"8700c432-5ecd-4932-a096-b5c9990fee04\" class=\"plotly-graph-div\" style=\"height:525px; width:100%;\"></div>            <script type=\"text/javascript\">                require([\"plotly\"], function(Plotly) {                    window.PLOTLYENV=window.PLOTLYENV || {};                                    if (document.getElementById(\"8700c432-5ecd-4932-a096-b5c9990fee04\")) {                    Plotly.newPlot(                        \"8700c432-5ecd-4932-a096-b5c9990fee04\",                        [{\"coloraxis\": \"coloraxis\", \"customdata\": [[\"SUN DRILLING PRODUCTS CORP\", 5565.0, \"Pounds\"], [\"MASTERMOLD LLC\", 0.0, \"Pounds\"], [\"CROWNLINE BOATS\", 0.0, \"Pounds\"], [\"SUPERIOR COMPOSITES CO LLC\", 340.0, \"Pounds\"], [\"WARMINSTER FIBERGLASS CO\", 140.0, \"Pounds\"], [\"EXXONMOBIL BATON ROUGE CHEMICAL PLANT (PART)\", 1600.0, \"Pounds\"], [\"AXALTA COATING SYSTEMS USA LLC- FORT MADISON PLANT\", 1375.0, \"Pounds\"], [\"TRELLEBORG SEALING SOLUTIONS INC\", 6795.0, \"Pounds\"], [\"EXCEL PATTERN & TOOL LLC\", 359.0, \"Pounds\"], [\"KAO SPECIALTIES AMERICAS LLC\", 25.0, \"Pounds\"], [\"MULTI-PLASTICS EXTRUSIONS INC\", 3922.0, \"Pounds\"], [\"CONTINENTAL STRUCTURAL PLASTICS LLC-SALISBURY\", 7636.0, \"Pounds\"], [\"ALTEC INDUSTRIES INC\", 4400.0, \"Pounds\"], [\"LONESTAR FIBERGLASS COMPONENTS LLC\", 5180.0, \"Pounds\"], [\"CHEMICAL WASTE MANAGEMENT OF THE NORTHWEST INC\", 0.0, \"Pounds\"], [\"FIBER TECH INDUSTIRES   OHIO\", 1707.0, \"Pounds\"], [\"ROYAL BATHS MANUFACTURING CO\", 80310.0, \"Pounds\"], [\"JELD-WEN COMPOSITES-NORTH WILKESBORO\", 0.0, \"Pounds\"], [\"AS AMERICA INC\", 7380.0, \"Pounds\"], [\"SUNRISE FIBERGLASS LLC\", 12809.86528, \"Pounds\"], [\"SASOL CHEMICALS (USA) LLC-LAKE CHARLES CHEMICAL COMPLEX\", 1685.0, \"Pounds\"], [\"GLASFORMS INC\", 750.0, \"Pounds\"], [\"KEPHACO CORP DBA AS AMERICAN MARBLE INDUSTRIES\", 5794.09, \"Pounds\"], [\"BP AMOCO CHEMICAL COMPANY\", 230.0, \"Pounds\"], [\"PLASTIC COMPOSITES CO\", 1436.0, \"Pounds\"], [\"KORAL INDUSTRIES INC\", 107559.0, \"Pounds\"], [\"PLAS-TANKS INDUSTRIES INC\", 14800.0, \"Pounds\"], [\"AXALTA COATING SYSTEMS USA LLC-FRONT ROYAL PLANT\", 1178.0, \"Pounds\"], [\"HOUSTON REFINING LP\", 6.0, \"Pounds\"], [\"ZOLTEK CORP\", 3980.0, \"Pounds\"], [\"JASON INTERNATIONAL INC\", 5025.1, \"Pounds\"], [\"BEST BATH SYSTEMS\", 119968.0, \"Pounds\"], [\"ALL PLASTICS & FIBERGLASS INC\", 2811.18, \"Pounds\"], [\"3M COTTAGE GROVE CENTER\", 0.4, \"Pounds\"], [\"DURA TECHNOLOGIES INC\", 0.0, \"Pounds\"], [\"ADVANCED MARINE PERFORMANCE LLC\", 6016.7, \"Pounds\"], [\"EDON COMPOSITES\", 6438.0, \"Pounds\"], [\"ASHLAND LLC\", 26.0, \"Pounds\"], [\"POLYNT COMPOSITES USA INC - HOUSTON\", 23.0, \"Pounds\"], [\"ARCELORMITTAL MONESSEN LLC COKE PLANT\", 0.0, \"Pounds\"], [\"MODERN WELDING CO OF IOWA INC\", 9244.35, \"Pounds\"], [\"WESTPORT LLC WESTPORT\", 5036.0, \"Pounds\"], [\"AFCO ARCHITECTURAL PRODUCTS\", 0.0, \"Pounds\"], [\"CF MAIER COMPOSITES INC\", 0.0, \"Pounds\"], [\"INPRO CORP\", 150.0, \"Pounds\"], [\"CREATIVE PULTRUSIONS INC\", 11519.0, \"Pounds\"], [\"MARTIN ENTERPRISES\", 0.0, \"Pounds\"], [\"MARTECH\", 32116.0, \"Pounds\"], [\"PENTAIR WATER POOL & SPA INC\", 11000.0, \"Pounds\"], [\"QUANTUM COMPOSITES INC\", 1347.0, \"Pounds\"], [\"BETTER WAY PRODUCTS\", 305807.0, \"Pounds\"], [\"SUPERIOR SOLVENTS & CHEMICALS\", 0.0, \"Pounds\"], [\"EXXONMOBIL BATON ROUGE CHEMICAL PLANT NORTH\", 0.0, \"Pounds\"], [\"SHELL NORCO CHEMICAL PLANT\", 569.5, \"Pounds\"], [\"SHELL NORCO CHEMICAL PLANT\", 451.63, \"Pounds\"], [\"SUNSATION PRODUCTS INC\", 6561.0, \"Pounds\"], [\"XERXES CORP\", 205247.0, \"Pounds\"], [\"PERMIAN TANK & MANUFACTURING INC FIBERGLASS FACILITY\", 2899.0, \"Pounds\"], [\"TENCOM LTD\", 6484.0, \"Pounds\"], [\"FUTURE PIPE INDUSTRIES\", 0.0, \"Pounds\"], [\"BOWIE INTERNATIONAL LLC\", 5923.0, \"Pounds\"], [\"CHEVRON PHILLIPS CHEMICAL CO\", 0.0, \"Pounds\"], [\"WESTLAKE PETROCHEMICALS ETHYLENE\", 5860.0, \"Pounds\"], [\"POLYNT COMPOSITES USA INC\", 2992.0, \"Pounds\"], [\"WESTLAKE PETROCHEMICALS ETHYLENE\", 473.0, \"Pounds\"], [\"SUNDANCE BOATS\", 0.0, \"Pounds\"], [\"WYNNEWOOD REFINING CO\", 0.0, \"Pounds\"], [\"STANCHEM INC\", 23.39, \"Pounds\"], [\"CARSTENS INDUSTRIES INC\", 14847.36, \"Pounds\"], [\"CORE MOLDING TECHNOLOGIES\", 0.0, \"Pounds\"], [\"MCCLARIN PLASTICS LLC\", 137243.0, \"Pounds\"], [\"CONTENDER BOATS INC\", 54100.0, \"Pounds\"], [\"AMERICAN ACRYLIC CORP\", 46.0, \"Pounds\"], [\"COBALT BOATS LLC\", 25678.0, \"Pounds\"], [\"MILES FIBERGLASS & PLASTICS INC\", 15088.0, \"Pounds\"], [\"SUPERIOR OIL CO INC\", 0.0, \"Pounds\"], [\"COMPANION SYSTEMS INC\", 2668.4, \"Pounds\"], [\"TRADEBE TREATMENT & RECYCLING OF TENNESSEE LLC\", 0.0, \"Pounds\"], [\"AQUATIC CO\", 19100.0, \"Pounds\"], [\"NORDIC FIBERGLASS INC\", 98932.0, \"Pounds\"], [\"MARTIN ENTERPRISES\", 0.0, \"Pounds\"], [\"ACO INC\", 2662.0, \"Pounds\"], [\"LTA MANUFACTURING LLC\", 36778.0, \"Pounds\"], [\"SHELL NORCO CHEMICAL PLANT WEST SITE\", 0.0, \"Pounds\"], [\"EMERALD SERVICES INC\", 37.0, \"Pounds\"], [\"DELAWARE VALLEY CUSTOM MARBLE INC\", 4372.0, \"Pounds\"], [\"CHEMICAL SOLVENTS INC--DENISON FACILITY\", 5.0, \"Pounds\"], [\"SWIM PLATFORMS INC\", 9681.0, \"Pounds\"], [\"ASHLEY INDUSTRIAL MOLDING INC\", 340.0, \"Pounds\"], [\"MAR-BAL INC\", 0.0, \"Pounds\"], [\"INEOS COMPOSITES US LLC\", 4506.0, \"Pounds\"], [\"NORTH VERNON INDUSTRY CORP\", 9017.0, \"Pounds\"], [\"ALDRICH CHEMICAL CO LLC TEUTONIA\", 0.0, \"Pounds\"], [\"K-SOLV CHEMICALS LLC\", 335.0, \"Pounds\"], [\"SWITZERLAND HILLS INC\", 3732.0, \"Pounds\"], [\"MOLDED FIBER GLASS NORTH CAROLINA\", 16564.0, \"Pounds\"], [\"THORPE PLANT SERVICES\", 2109.0, \"Pounds\"], [\"MOLDED FIBER GLASS COMPANIES/TEXAS\", 17214.0, \"Pounds\"], [\"SHERWIN-WILLIAMS CO\", 0.0, \"Pounds\"], [\"MAPEI CORP\", 50.0, \"Pounds\"], [\"INDULOR AMERICA LP\", 117.0, \"Pounds\"], [\"TOSHIBA INTERNATIONAL CORP\", 8692.6, \"Pounds\"], [\"PLASTPRO INC\", 0.0, \"Pounds\"], [\"ARKEMA INC\", 250.0, \"Pounds\"], [\"SHERWIN-WILLIAMS CO\", 3071.0, \"Pounds\"], [\"A-1 FIBERGLASS\", 20587.96, \"Pounds\"], [\"ADVANCE COATINGS CO\", 2190.0, \"Pounds\"], [\"CHEMOIL CORP\", 0.33504, \"Pounds\"], [\"SEMINOLE MARINE INC\", 400.0, \"Pounds\"], [\"SUNRISE COMPOSITES INC\", 6806.0, \"Pounds\"], [\"MARINE ELECTRICAL PRODUCTS\", 19375.0, \"Pounds\"], [\"MCGEAN-ROHCO INC\", 0.0, \"Pounds\"], [\"POLYGON CO\", 306.0, \"Pounds\"], [\"RANGER TUGS MONROE R\", 9227.0, \"Pounds\"], [\"CLEAN HARBORS DEER PARK LLC\", 0.82, \"Pounds\"], [\"E-STONE USA CORP\", 525.64, \"Pounds\"], [\"TRENWYTH INDUSTRIES\", 0.0, \"Pounds\"], [\"GOODYEAR TIRE & RUBBER CO\", 0.0, \"Pounds\"], [\"JP INC DBA JASPER PLASTIC SOLUTIONS\", 13939.0, \"Pounds\"], [\"MALIBU BOATS LLC\", 134030.0, \"Pounds\"], [\"ALTEC OSCEOLA BODY PLANT\", 51000.0, \"Pounds\"], [\"INDORAMA VENTURES OLEFINS LLC\", 710.0, \"Pounds\"], [\"PHILLIPS 66 CO-SANTA MARIA REFINERY\", 1.82, \"Pounds\"], [\"SEASAFE INC\", 3031.24, \"Pounds\"], [\"DADI BATHWARE\", 0.0, \"Pounds\"], [\"HOOD MANUFACTURING INC\", 17421.0, \"Pounds\"], [\"CONTEMPORARY PRODUCTS OF TEXAS INC\", 200364.0, \"Pounds\"], [\"KEY WEST BOATS INC PLANT 1 (RIDGEVILLE)\", 97200.0, \"Pounds\"], [\"VIRGINIA MARBLE MANUFACTURERS INC\", 62500.0, \"Pounds\"], [\"DUXBURY COMPOSITE PRODUCTS DBA PLP COMPOSITES\", 4437.0, \"Pounds\"], [\"LUBRIZOL CORP\", 340.0, \"Pounds\"], [\"ADVANCED ARCHITECTURAL PRODUCTS\", 16159.0, \"Pounds\"], [\"INDUSTRIAL MODELS INC\", 0.0, \"Pounds\"], [\"MINOVA USA INC\", 1700.0, \"Pounds\"], [\"HK RESEARCH CORP\", 204.0, \"Pounds\"], [\"D&T FIBERGLASS INC\", 15709.0, \"Pounds\"], [\"DART POLYMERS INC\", 45238.0, \"Pounds\"], [\"GEON PERFORMANCE SOLUTIONS\", 250.0, \"Pounds\"], [\"ERSHIGS INC\", 12923.0, \"Pounds\"], [\"AMERICAS STYRENICS ALLYNS POINT PLANT\", 7311.18, \"Pounds\"], [\"REICHHOLD LLC 2\", 2100.0, \"Pounds\"], [\"MAAX SPAS INDUSTRIES CORP\", 75272.0, \"Pounds\"], [\"MILGARD MANUFACTURING LLC TACOMA PULTRUSION\", 673.0, \"Pounds\"], [\"BULK MOLDING COMPOUNDS INC\", 14237.0, \"Pounds\"], [\"ROHM & HAAS CHEMICALS LLC - KNOXVILLE SITE\", 157.0, \"Pounds\"], [\"ALPHA GENERAL SERVICES INC\", 24575.0, \"Pounds\"], [\"LPI INC\", 40870.0, \"Pounds\"], [\"MCCLURE INDUSTRIES INC\", 6174.0, \"Pounds\"], [\"EVOLVE STONE LLC\", 5997.0, \"Pounds\"], [\"UNIVAR SOLUTIONS USA INC - CARTERET\", 0.0, \"Pounds\"], [\"CLOCK SPRING\", 5356.0, \"Pounds\"], [\"REMEE CASTING\", 1697.0, \"Pounds\"], [\"II STANLEY CO INC\", 0.0, \"Pounds\"], [\"INEOS STYROLUTION AMERICA LLC\", 24945.0, \"Pounds\"], [\"DESIGN TANKS LLC\", 6323.34, \"Pounds\"], [\"MERCER PLANT\", 0.0, \"Pounds\"], [\"COATINGS & ADHESIVES CORP\", 190.0, \"Pounds\"], [\"TORRANCE REFINING CO LLC\", 280.0, \"Pounds\"], [\"BATHCRAFT LLC\", 118629.0, \"Pounds\"], [\"OCCIDENTAL CHEMICAL CORP\", 2.5, \"Pounds\"], [\"VALERO PARTNERS MCKEE\", 250.0, \"Pounds\"], [\"PROVIRON INC\", 5.0, \"Pounds\"], [\"SABIC INNOVATIVE PLASTICS US LLC\", 73388.0, \"Pounds\"], [\"BASF TOTAL PETROCHEMICALS LLC\", 1061.9, \"Pounds\"], [\"CONTINENTAL STRUCTURAL PLASTICS INC OF OHIO\", 5460.0, \"Pounds\"], [\"SMC NYE MINE SITE\", 0.0, \"Pounds\"], [\"CLARKE PRODUCTS INC\", 51316.0, \"Pounds\"], [\"TESORO LOS ANGELES REFINERY-CARSON OPERATIONS\", 0.0, \"Pounds\"], [\"DELTECH POLYMERS CORP\", 792.0, \"Pounds\"], [\"AQUATIC CO\", 155788.0, \"Pounds\"], [\"TAYLOR INDUSTRIES INC\", 4905.0, \"Pounds\"], [\"ESSENTIAL INDUSTRIES INC\", 0.0, \"Pounds\"], [\"TESORO LOS ANGELES REFINERY-CARSON OPERATIONS\", 0.0, \"Pounds\"], [\"TESORO LOS ANGELES REFINERY-CARSON OPERATIONS\", 0.0, \"Pounds\"], [\"TPI COMPOSITES INC\", 25011.0, \"Pounds\"], [\"EMCO WILLIAMS INC\", 220.0, \"Pounds\"], [\"BEDFORD REINFORCED PLASTICS INC\", 250.0, \"Pounds\"], [\"CONVENT REFINERY\", 7255.0, \"Pounds\"], [\"RAVAGO MANUFACTURING AMERICAS\", 0.0, \"Pounds\"], [\"COBALT BOATS LLC\", 205693.0, \"Pounds\"], [\"CHARLESTON CORP\", 93446.0, \"Pounds\"], [\"MAVERICK BOAT CO\", 157700.0, \"Pounds\"], [\"ASHLEY INDUSTRIAL MOLDING\", 440.0, \"Pounds\"], [\"ORTEC INC\", 61.0, \"Pounds\"], [\"FLUID MOTION LLC\", 11507.0, \"Pounds\"], [\"PROTOTYPE CONCEPTS INC\", 292.0, \"Pounds\"], [\"CONTINENTAL STRUCTURAL PLASTICS OF LOUISIANA\", 2142.0, \"Pounds\"], [\"FIBERPRO INC\", 40687.0, \"Pounds\"], [\"PEXCO LLC\", 0.0, \"Pounds\"], [\"ORLANDI STATUARY CO\", 1786.0, \"Pounds\"], [\"TOWER STRUCTURAL LAMINATING\", 139308.0, \"Pounds\"], [\"TOPP INDUSTRIES INC\", 88820.0, \"Pounds\"], [\"PREMIX INC A SUBSIDIARY OF A SCHULMAN INC\", 1276.0, \"Pounds\"], [\"F/G PRODUCTS INC\", 14522.79, \"Pounds\"], [\"UNIFORM COLOR CO\", 0.56, \"Pounds\"], [\"PHILLIPS 66 CO FREEPORT I TERMINAL\", 8.0, \"Pounds\"], [\"DIVERSIFIED STRUCTURAL COMPOSITES\", 750.0, \"Pounds\"], [\"PPG INDUSTRIES OHIO INC CIRCLEVILLE OH\", 320.0, \"Pounds\"], [\"MOTIVA CHEMICALS LLC\", 17.0, \"Pounds\"], [\"CUYAHOGA MOLDED PLASTICS CORP - EUCLID\", 0.0, \"Pounds\"], [\"MODERN WELDING CO OF OWENSBORO INC\", 2527.26, \"Pounds\"], [\"VALERO REFINING - MERAUX LLC MERAUX REFINERY\", 11.0, \"Pounds\"], [\"MT AIRY TERMINAL LLC\", 5.0, \"Pounds\"], [\"PREMIUM COMPOSITE TECHNOLOGY NA\", 15.51, \"Pounds\"], [\"IDI CARIBE INC\", 10703.0, \"Pounds\"], [\"DUREZ CORP\", 173.0, \"Pounds\"], [\"CIGARETTE RACING TEAM LLC\", 0.0, \"Pounds\"], [\"HUNTSMAN PETROCHEMICAL LLC PORT NECHES FACILITY\", 70.0, \"Pounds\"], [\"NATIONWIDE TANK & PIPE LLC\", 31782.9, \"Pounds\"], [\"AUGUSTA FIBERGLASS COATINGS INC\", 0.0, \"Pounds\"], [\"INDUSTRIAL DIELECTRICS INC\", 5025.0, \"Pounds\"], [\"LACC LLC US/LOTTE CHEMICAL LOUISIANA LLC\", 4.0, \"Pounds\"], [\"BUZZI UNICEM USA-GREENCASTLE PLANT\", 141.8, \"Pounds\"], [\"REICHHOLD LLC2\", 5252.0, \"Pounds\"], [\"R2R & D LLC DBA SUPEROD\", 6016.0, \"Pounds\"], [\"PSI MOLDED PLASTICS FORMERLY KNOWN AS GI PLASTEK\", 0.0, \"Pounds\"], [\"UNIVAR SOLUTIONS-DORAVILLE\", 1.0, \"Pounds\"], [\"LNVA-NORTH REGIONAL TREATMENT PLANT\", 0.0, \"Pounds\"], [\"MIDWEST COMPOSITES LLC\", 2100.0, \"Pounds\"], [\"NOVA CHEMICALS OLEFINS LLC\", 355.0, \"Pounds\"], [\"SOUTHERN ILLINOIS STORM SHELTERS\", 8899.8, \"Pounds\"], [\"DIANAL AMERICA INC\", 0.0, \"Pounds\"], [\"NEWLETT INC D/B/A GEMSTONE\", 0.0, \"Pounds\"], [\"DIAMOND SHAMROCK REFINING CO LP\", 0.4, \"Pounds\"], [\"ORENCO SYSTEMS INC - SUTHERLIN FACILITY\", 0.0, \"Pounds\"], [\"HUDSON PRODUCTS CORP\", 13440.0, \"Pounds\"], [\"SCOUT BOATS INC\", 112.0, \"Pounds\"], [\"TECHLINE PRODUCTS\", 4735.0, \"Pounds\"], [\"SEKISUI POLYMER INNOVATIONS LLC\", 1831.0, \"Pounds\"], [\"VALERO PARTNERS LLC\", 0.0, \"Pounds\"], [\"REICHHOLD LLC 2\", 4423.0, \"Pounds\"], [\"CUSTOM PULTRUSIONS INC\", 4013.91, \"Pounds\"], [\"ALBEMARLE US INC\", 0.0, \"Pounds\"], [\"GB MANUFACTURING INC CALIF ACRYLIC IND INC (DBA CAL SPAS)\", 11363.3, \"Pounds\"], [\"ESTRON CHEMICALS INC\", 356.0, \"Pounds\"], [\"ENDURANCE LIFT SOLUTIONS LLC\", 13820.0, \"Pounds\"], [\"ALTEC INDUSTRIES INC\", 4945.0, \"Pounds\"], [\"FIBERGLASS INNOVATIONS LLC\", 0.0, \"Pounds\"], [\"WEIDMANN ELECTRICAL TECHNOLOGY INC\", 8046.27, \"Pounds\"], [\"CUTLER HAMMER ELECTRICAL CO\", 0.0, \"Pounds\"], [\"INEOS COMPOSITES PHILADELPHIA PLANT\", 2115.0, \"Pounds\"], [\"SEA PRO BOATS\", 101980.0, \"Pounds\"], [\"STANLEY ELECTRIC US CO INC\", 0.0, \"Pounds\"], [\"SI GROUP BAYTOWN\", 35.291, \"Pounds\"], [\"FIRESTONE POLYMERS LLC\", 45000.0, \"Pounds\"], [\"LATHAM POOL PRODUCTS INC D/B/A VIKING POOLS-TN\", 70060.0, \"Pounds\"], [\"TPC GROUP\", 0.0, \"Pounds\"], [\"FLORESTONE PRODUCTS CO INC\", 48000.0, \"Pounds\"], [\"ENGINEERED POLYMER SOLUTIONS INC\", 753.0, \"Pounds\"], [\"CLEAN HARBORS ENVIRONMENTAL SERVICES INC\", 8.45, \"Pounds\"], [\"KINGSPAN LIGHT + AIR\", 440.0, \"Pounds\"], [\"THORPE PLANT SERVICES INC\", 1886.0, \"Pounds\"], [\"FIBERBASIN INC\", 1382.0, \"Pounds\"], [\"REC BOAT HOLDINGS-CRUISER PLANT\", 109051.71, \"Pounds\"], [\"POLYNT COMPOSITES USA INC\", 8106.6, \"Pounds\"], [\"FLINT HILLS RESOURCES PERU LLC\", 4974.0, \"Pounds\"], [\"LYONDELL CHEMICAL CO\", 40853.0, \"Pounds\"], [\"POLYNT COMPOSITES USA INC - ENNIS\", 49.47, \"Pounds\"], [\"PATRICK INDUSTRIES INC,DBA BAYMONT INC BELMONT FACILITY\", 114440.0, \"Pounds\"], [\"ASHLAND SPECIALTY INGREDIENTS\", 180.0, \"Pounds\"], [\"DART CONTAINER CORP OF PENNSYLVANIA\", 2537.49, \"Pounds\"], [\"CORE MOLDING TECHNOLOGIES\", 1081.37, \"Pounds\"], [\"BALTIMORE TERMINAL\", 7.0, \"Pounds\"], [\"HEXA AMERICAS INC\", 0.0, \"Pounds\"], [\"FIVE STAR MARINE INC\", 18149.0, \"Pounds\"], [\"STRONGWELL CORP HIGHLANDS DIV\", 0.0, \"Pounds\"], [\"EMPIRE FIBERGLASS PRODUCTS INC\", 6412.0, \"Pounds\"], [\"GLOBAL COMPOSITES INC PLANT 4\", 97910.6, \"Pounds\"], [\"3M CO - CORDOVA\", 280.0, \"Pounds\"], [\"NISSAN NA INC\", 804.0, \"Pounds\"], [\"MODERN WELDING CO OF GEORGIA,INC\", 6752.0, \"Pounds\"], [\"MONUMENT CHEMICAL BAYTOWN LLC\", 6.0, \"Pounds\"], [\"ELLIOTT MANUFACTURED HOMES INC\", 5911.0, \"Pounds\"], [\"YAMAHA MOTOR MANUFACTURING CORP OF AMERICA\", 284.8025, \"Pounds\"], [\"JOHN L ARMITAGE & CO\", 0.0, \"Pounds\"], [\"TRUCK ACCESSORIES GROUP LLC DBA TAG EAST\", 77154.0, \"Pounds\"], [\"SEA RAY BOATS TELLICO FACILITY\", 227204.0, \"Pounds\"], [\"LAFARGE (INCLUDING SYSTECH ENV CORP)\", 107.0, \"Pounds\"], [\"CHRISTENSEN SHIPYARDS LLC\", 0.0, \"Pounds\"], [\"WHITAKER SOLVENTS & CHEMICAL S\", 0.0, \"Pounds\"], [\"SUPERIOR FIBERGLASS & RESINS\", 0.0, \"Pounds\"], [\"STRUCTURAL COMPOSITES OF INDIA NA INC\", 141980.0, \"Pounds\"], [\"ONYX COLLECTION INC\", 663550.0, \"Pounds\"], [\"SAFETY-KLEEN SYSTEMS INC\", 58.0, \"Pounds\"], [\"BETTER WAY PRODUCTS\", 0.0, \"Pounds\"], [\"LYONDELLBASELL ADVANCED POLYMERS INC\", 70698.5, \"Pounds\"], [\"MASSARELLI'S LAWN ORNAMENTS INC\", 0.0, \"Pounds\"], [\"AEXCEL CORP\", 3206.0, \"Pounds\"], [\"ROSS INCINERATION SERVICES INC\", 0.006999999999999999, \"Pounds\"], [\"CRANE COMPOSITES INC GOSHEN OPERATIONS\", 5138.0, \"Pounds\"], [\"RAVEN ANTENNA SYSTEMS (DBA GLOBAL SKYWARE)\", 11830.8, \"Pounds\"], [\"OLDCASTLE INFRASTRUCTURE INC\", 543.0, \"Pounds\"], [\"REICHHOLD LLC 2\", 305.8, \"Pounds\"], [\"GEORGIA-PACIFIC CHEMICALS LLC\", 56.0, \"Pounds\"], [\"NORTH AMERICAN LIGHTING\", 3286.6, \"Pounds\"], [\"KAWASAKI MOTORS MANUFACTURING CORP USA\", 727.0, \"Pounds\"], [\"AQUATIC CO\", 8423.0, \"Pounds\"], [\"CHEVRON PHILLIPS CHEMICAL CO LP\", 620.0, \"Pounds\"], [\"CONTINENTAL STRUCTURAL PLASTICS-HUNTINGTON\", 4120.0, \"Pounds\"], [\"SYSTECH ENVIRONMENTAL CORP\", 5.0, \"Pounds\"], [\"BP PRODUCTS NA WHITING BUSINESS UNIT\", 0.0, \"Pounds\"], [\"WINNEBAGO INDUSTRIES INC\", 15900.0, \"Pounds\"], [\"BECKLIN HOLDINGS INC\", 6451.0, \"Pounds\"], [\"FLORESTONE PRODUCTS CO INC\", 250.0, \"Pounds\"], [\"LF MANUFACTURING INC - QFR P PLANT\", 75289.2, \"Pounds\"], [\"MCDONALD TANK & EQUIPMENT CO INC\", 0.0, \"Pounds\"], [\"CYTEC INDUSTRIES INC\", 189.6, \"Pounds\"], [\"INEOS USA LLC - CHOCOLATE BAYOU PLANT\", 5.0, \"Pounds\"], [\"FLUID MOTION LLC\", 8749.0, \"Pounds\"], [\"CARSTIN BRANDS INC\", 34889.0, \"Pounds\"], [\"TM DEER PARK SERVICES LP\", 9.0, \"Pounds\"], [\"GREEN COUNTRY MARBLE\", 13422.0, \"Pounds\"], [\"FALCON BASS BOATS\", 14379.38, \"Pounds\"], [\"CLARION BATHWARE\", 162646.0, \"Pounds\"], [\"ROHM & HAAS CHEMICALS LLC\", 7.0, \"Pounds\"], [\"NORTH END COMPOSITES\", 0.0, \"Pounds\"], [\"LATHAM POOL PRODUCTS INC - DEWITT IA\", 53623.0, \"Pounds\"], [\"GLOBAL COMPOSITES INC PLANT 6 PANEL DIV\", 52475.06, \"Pounds\"], [\"MAAX US CORP\", 1462.0, \"Pounds\"], [\"GOLDSHIELD FIBERGLASS INC 43-2\", 149401.0, \"Pounds\"], [\"KEYSTONE CEMENT CO\", 250.0, \"Pounds\"], [\"FIBER GLASS SYSTEMS\", 1060.0, \"Pounds\"], [\"WILSONART LLC TEMPLE NORTH\", 336.0, \"Pounds\"], [\"SANGER BOATS INC\", 5.0, \"Pounds\"], [\"CHROMAFLO TECHNOLOGIES CORP\", 338.0, \"Pounds\"], [\"JONES PERFORMANCE PRODUCTS INC\", 29860.0, \"Pounds\"], [\"SUN POOLS INC\", 32194.0, \"Pounds\"], [\"HIGHWATER MARINE LLC DBA RINKER BOAT CO\", 22612.5, \"Pounds\"], [\"COATEX INC\", 0.0, \"Pounds\"], [\"VALERO DONALDSONVILLE ASPHALT TERMINAL\", 0.0, \"Pounds\"], [\"KITCHEN & BATH CENTER\", 3425.0, \"Pounds\"], [\"FUTUREFUEL CHEMICAL CO\", 0.0, \"Pounds\"], [\"EVAPCO INC\", 76.0, \"Pounds\"], [\"CONTINENTAL STRUCTURAL PLASTICS-CAREY\", 12605.0, \"Pounds\"], [\"GLOBAL COMPOSITES INC PLANT 1 & 2\", 52945.407999999996, \"Pounds\"], [\"HASTINGS FIBERGLASS PRODUCTS\", 4645.0, \"Pounds\"], [\"COMPLETE HOME CONCEPTS INC\", 7912.0, \"Pounds\"], [\"VALEO NA INC\", 0.0, \"Pounds\"], [\"CAYMAS BOATS LLC\", 18285.0, \"Pounds\"], [\"SABIC INNOVATIVE PLASTICS US LLC\", 158.0, \"Pounds\"], [\"PRECISION TANK & EQUIPMENT\", 21505.0, \"Pounds\"], [\"UNICELL BODY CO INC\", 43676.0, \"Pounds\"], [\"VIRGINIA MARBLE MANUFACTURERS INC\", 49720.0, \"Pounds\"], [\"SKYLINE COMPOSITES\", 3440.0, \"Pounds\"], [\"SR SMITH LLC\", 0.0, \"Pounds\"], [\"MAJEK BOAT WORKS\", 16922.0, \"Pounds\"], [\"SUPERIOR SOLVENTS & CHEMICALS\", 0.0, \"Pounds\"], [\"BUZZI UNICEM USA-CAPE GIRARDEAU\", 22.0, \"Pounds\"], [\"CENTRAL MARBLE PRODUCTS INC\", 6515.0, \"Pounds\"], [\"E PARRELLA CO INC\", 0.0, \"Pounds\"], [\"DIAMOND FIBERGLASS\", 19849.0, \"Pounds\"], [\"POLYNT COMPOSITES USA INC\", 904.0, \"Pounds\"], [\"INTERPLASTIC CORP\", 6830.0, \"Pounds\"], [\"CF MAIER COMPOSITES INC\", 0.0, \"Pounds\"], [\"VALMONT COMPOSITE STRUCTURES NEWBERRY\", 103640.0, \"Pounds\"], [\"PHILLIPS 66 PONCA CITY SITE\", 829.0, \"Pounds\"], [\"PHILLIPS 66 PONCA CITY SITE\", 0.0, \"Pounds\"], [\"DYNACHEM INC\", 0.0, \"Pounds\"], [\"HOLLYFRONTIER TULSA REFINING WEST FACILITY\", 250.0, \"Pounds\"], [\"ORENCO SYSTEMS INC - WINCHESTER FACILITY\", 0.0, \"Pounds\"], [\"ALTEC ENGINEERING INC\", 69360.0, \"Pounds\"], [\"CUTLER HAMMER ELECTRICAL CO\", 0.0, \"Pounds\"], [\"TRACKER MARINE CLINTON\", 217312.0, \"Pounds\"], [\"MOLDED FIBER GLASS TRAY CO\", 16705.0, \"Pounds\"], [\"ACCENT MARBLE INC\", 512.0, \"Pounds\"], [\"EASTERN BOATS INC\", 0.0, \"Pounds\"], [\"FIBERGRATE COMPOSITE STRUCTURES INC\", 71449.0, \"Pounds\"], [\"KCS INTERNATIONAL INC CRUISERS YACHTS DIV PLANT 2\", 2697.0, \"Pounds\"], [\"SUPERIOR STONE PRODUCTS INC\", 47.0, \"Pounds\"], [\"SHERWIN-WILLIAMS CO\", 493.0, \"Pounds\"], [\"VALERO ENERGY PARTNERS LP\", 0.0, \"Pounds\"], [\"CW OHIO INC\", 8300.0, \"Pounds\"], [\"STABILIT AMERICA INC\", 35408.0, \"Pounds\"], [\"EXXONMOBIL ANCHORAGE TANK FARM\", 0.0, \"Pounds\"], [\"EXXONMOBIL ANCHORAGE TANK FARM\", 0.0, \"Pounds\"], [\"EXXONMOBIL ANCHORAGE TANK FARM\", 0.0, \"Pounds\"], [\"CHALMETTE REFINING LLC\", 46.0, \"Pounds\"], [\"ROBROY ENCLOSURES\", 3360.0, \"Pounds\"], [\"SHELL CHEMICAL LP (MOBILE SITE )\", 0.0, \"Pounds\"], [\"DEFIANCE BOATS LLC\", 0.0, \"Pounds\"], [\"FIBERGLASS ENGINEERING CO\", 0.0, \"Pounds\"], [\"VALERO CORPUS CHRISTI ASPHALT TERMINAL\", 0.0, \"Pounds\"], [\"CHEMICAL WASTE MANAGEMENT - LA KE CHARLES FACILITY\", 0.0, \"Pounds\"], [\"PRECISION TANK & EQUIPMENT CO\", 11833.0, \"Pounds\"], [\"KCS INTERNATIONAL INC CRUISERS YACHTS  DIV PLANT 1\", 58692.0, \"Pounds\"], [\"NOVA CHEMICALS\", 5817.0, \"Pounds\"], [\"REGAL MARINE INDUSTRIES INC\", 157700.0, \"Pounds\"], [\"CONTINENTAL STRUCTURAL PLASTICS-VAN WERT\", 47420.0, \"Pounds\"], [\"KRATON POLYMERS US LLC\", 3100.0, \"Pounds\"], [\"SPA MANUFACTURE INC\", 8906.0, \"Pounds\"], [\"K2 MARINE INC\", 18067.0, \"Pounds\"], [\"LUBRIZOL CORP BAYPORT FACILITY\", 115.0, \"Pounds\"], [\"WARM RAIN CORP\", 79000.0, \"Pounds\"], [\"FRONTIER PLASTIC FABRICATORS\", 470.82, \"Pounds\"], [\"PLASTICS ENGINEERING CO\", 333.0, \"Pounds\"], [\"BETTER WAY PRODUCTS\", 153437.0, \"Pounds\"], [\"ERSHIGS GRAND BAY FACILITY\", 19070.0, \"Pounds\"], [\"STATEMENT MARINE LLC\", 4975.0, \"Pounds\"], [\"GRANITE INLINER LLC\", 0.0, \"Pounds\"], [\"ECO-SERVICES OPERATIONS\", 0.3, \"Pounds\"], [\"FRONT LINE MANUFACTURING\", 131683.0, \"Pounds\"], [\"BULK MOLDING COMPOUNDS INC\", 36512.0, \"Pounds\"], [\"NORTH AMERICAN LIGHTING INC\", 2816.91, \"Pounds\"], [\"CHANNELL ROCKWALL TEXAS\", 877.1, \"Pounds\"], [\"HYDRITE CHEMICAL CO\", 5.0, \"Pounds\"], [\"INTREPID POWERBOATS INC\", 67744.0, \"Pounds\"], [\"DGP INC\", 12841.09, \"Pounds\"], [\"LATHAM POOL PRODUCTS INC D/B/A VIKING POOLS-NC\", 122854.0, \"Pounds\"], [\"VON ROLL USA INC\", 7.1, \"Pounds\"], [\"VALERO PARTNERS LA LLC- TERMINAL\", 1.0, \"Pounds\"], [\"PALMER OF TEXAS TANKS INC\", 27757.0, \"Pounds\"], [\"MFG/ALABAMA LLC - PLANT 2\", 8436.2, \"Pounds\"], [\"PREMOLD CORP\", 0.0, \"Pounds\"], [\"AVONTI KITCHEN & BATH INC\", 0.0, \"Pounds\"], [\"ARCELORMITTAL CLEVELAND LLC DBA ARCELORMITTAL WARREN\", 0.0, \"Pounds\"], [\"AMERICAS STYRENICS LLC\", 9806.0, \"Pounds\"], [\"BASF CORP\", 1430.0, \"Pounds\"], [\"K F FIBERGLASS INC\", 8243.0, \"Pounds\"], [\"BRANDFX LLC\", 18045.0, \"Pounds\"], [\"WATER WAY SOUTH\", 61220.0, \"Pounds\"], [\"AMERICAN COMPOSITES ENGINEERING INC\", 2903.0, \"Pounds\"], [\"CARFAIR COMPOSITES USA INC - ST CLOUD\", 46452.0, \"Pounds\"], [\"KILLEEN MARBLE INC\", 5542.08, \"Pounds\"], [\"RYNONE MANUFACTURING CORP\", 20988.72, \"Pounds\"], [\"BLUESTONE COKE\", 13.0, \"Pounds\"], [\"INVINCIBLE BOAT CO\", 0.0, \"Pounds\"], [\"CHAPARRAL BOATS INC\", 440092.78, \"Pounds\"], [\"CENTEK INDUSTRIES INC\", 2483.0, \"Pounds\"], [\"MESA FULLY FORMED LLC-COOLIDGE\", 14653.0, \"Pounds\"], [\"MACLEAN FIBERGLASS\", 250.0, \"Pounds\"], [\"EASTMAN CHEMICAL CO TEXAS OPERATIONS\", 1638.0, \"Pounds\"], [\"ENGINEERED POLYMER SOLUTIONS INC\", 2304.0, \"Pounds\"], [\"CAMBRIA PLANT\", 35449.0, \"Pounds\"], [\"BRAINERD CHEMICAL CO INC\", 250.0, \"Pounds\"], [\"WE-NO-NAH CANOE INC\", 0.0, \"Pounds\"], [\"LINDSEY MANUFACTURING CO\", 0.0, \"Pounds\"], [\"MIDWEST COOLING TOWERS INC\", 50092.0, \"Pounds\"], [\"ZEHRCO GIANCOLA ACQUISITION FOUR\", 2000.0, \"Pounds\"], [\"CUSTOM MARBLE & ONYX\", 2557.0, \"Pounds\"], [\"SWAN SURFACES LLC\", 20.0, \"Pounds\"], [\"MAVERICK MAINTENANCE & SUPPLY LLC\", 7271.7, \"Pounds\"], [\"DELTA MARINE INDUSTRIES INC\", 1122.0, \"Pounds\"], [\"MOTIVA DORAVILLE TERMINAL\", 3.0, \"Pounds\"], [\"CRAIG BAKER MARBLE CO INC\", 0.0, \"Pounds\"], [\"PERFORMANCE MATERIALS NA INC\", 29.86, \"Pounds\"], [\"ONA POLYMERS LLC\", 250.0, \"Pounds\"], [\"CONTINENTAL STRUCTURAL PLASTIC S-NORTH BALTIMORE\", 5565.0, \"Pounds\"], [\"CHANCE RIDES MFG\", 393.4, \"Pounds\"], [\"AOC LLC\", 9.81, \"Pounds\"], [\"ARCHITECTURAL FIBERGLASS INC\", 7367.0, \"Pounds\"], [\"UNIVAR SOLUTIONS USA INC - HAMILTON\", 0.0, \"Pounds\"], [\"MOTIVA-PORT ARTHUR REFINERY\", 28.0, \"Pounds\"], [\"3M CO - DECATUR\", 54.0, \"Pounds\"], [\"JONES-BLAIR CO\", 0.0, \"Pounds\"], [\"ANDERSON DEVELOPMENT CO\", 71.0, \"Pounds\"], [\"JUPITER BACH NA\", 97853.0, \"Pounds\"], [\"GRANITE INLINER LLC - BAYTOWN\", 0.0, \"Pounds\"], [\"SABRE CORP\", 10694.0, \"Pounds\"], [\"ALLEN INDUSTRIES LLC\", 0.0, \"Pounds\"], [\"R3 COMPOSITES CORP\", 0.0, \"Pounds\"], [\"ENGINEERED COMPOSITES INC\", 17357.0, \"Pounds\"], [\"PLACID REFINING CO LLC\", 18.0, \"Pounds\"], [\"PRAXIS COS LLC\", 194767.0, \"Pounds\"], [\"MARATHON PETROLEUM CO LP\", 4.0, \"Pounds\"], [\"MELCHER MANUFACTURING CO INC\", 8729.0, \"Pounds\"], [\"BARRIER REEF POOLS\", 109500.0, \"Pounds\"], [\"SHELL OIL PRODUCTS US - PUGET SOUND REFINERY\", 186.0, \"Pounds\"], [\"DESIGN CONCEPTS/MARINE CONCEPTS\", 61311.0, \"Pounds\"], [\"WESTPORT LLC 50 METER FACILITY\", 4246.0, \"Pounds\"], [\"KOHLER CO\", 165540.0, \"Pounds\"], [\"KERRICO CORP\", 14709.0, \"Pounds\"], [\"SEA FOX BOAT CO INC\", 91924.0, \"Pounds\"], [\"ITEN INDUSTRIES INC PLANT 3\", 0.0, \"Pounds\"], [\"ROHM & HAAS CHEMICALS LLC\", 138.0, \"Pounds\"], [\"AQUAWORX\", 13537.0, \"Pounds\"], [\"FIVE STAR FABRICATING INC\", 8957.0, \"Pounds\"], [\"OMNOVA SOLUTIONS INC\", 17.14, \"Pounds\"], [\"MASTER MARBLE INC\", 1463.39, \"Pounds\"], [\"POLAR KING INTERNATIONAL INC\", 0.0, \"Pounds\"], [\"BRANDFX LLC\", 19412.0, \"Pounds\"], [\"ATLANTA MARBLE MANUFACTURING INC\", 3560.0, \"Pounds\"], [\"EXXONMOBIL REFINING & SUPPLY BAYTOWN REFINERY (PART)\", 580.0, \"Pounds\"], [\"VOPAK LOGISTICS SERVICES USA INC DEER PARK\", 540.0, \"Pounds\"], [\"AZELIS AMERICAS CASE LLC\", 0.0, \"Pounds\"], [\"JOHNSON TRUCK BODIES LLC\", 21575.0, \"Pounds\"], [\"RODDA PAINT CO\", 0.0, \"Pounds\"], [\"INTERPLASTIC CORP\", 1742.0, \"Pounds\"], [\"PHILLIPS 66 LOS ANGELES REFINERY WILMINGTON PLANT\", 3.0, \"Pounds\"], [\"TRUENORTH STEEL - FARGO\", 0.0, \"Pounds\"], [\"ROCHLING GLASTIC COMPOSITES\", 2957.0, \"Pounds\"], [\"MICALLINE LLC\", 3465.75, \"Pounds\"], [\"ERGON WEST VIRGINIA INC\", 0.0, \"Pounds\"], [\"QUESTECH CORP\", 250.0, \"Pounds\"], [\"BEETLE PLASTICS LLC A MIDWEST COOLING TOWER CO\", 0.0, \"Pounds\"], [\"CHEM PRUF DOOR\", 29580.0, \"Pounds\"], [\"SOUTHPORT YACHTS LLC\", 0.0, \"Pounds\"], [\"WOOD RIVER REFINERY\", 433.0, \"Pounds\"], [\"DELTECH CORP\", 417.0, \"Pounds\"], [\"US BATH GROUP LLC - DBA - MPL CO\", 168389.0, \"Pounds\"], [\"INEOS COMPOSITES US LLC\", 4495.0, \"Pounds\"], [\"KEY WEST BOATS INC PLANT 2 (SUMMERVILLE)\", 45900.0, \"Pounds\"], [\"HB FULLER\", 1464.0, \"Pounds\"], [\"KBK INDUSTRIES LLC\", 0.0, \"Pounds\"], [\"VERTELLUS INTEGRATED PYRIDINES LLC\", 0.0, \"Pounds\"], [\"KIVETT'S INC\", 5685.0, \"Pounds\"], [\"CRANE COMPOSITES INC\", 3679.0, \"Pounds\"], [\"GRACE COMPOSITES LLC\", 24270.0, \"Pounds\"], [\"MTI BATHS INC\", 18900.0, \"Pounds\"], [\"AMERICAS STYRENICS LLC - JOLIET SITE\", 815.0, \"Pounds\"], [\"ULTRA/GLAS OF LAKEVILLE INC\", 26692.0, \"Pounds\"], [\"CHEMICAL WASTE MANAGEMENT\", 0.0, \"Pounds\"], [\"MESA MARBLE & STONE CO INC  DBA MARBLE-CRAFT\", 1487.0, \"Pounds\"], [\"BADGER METER INC\", 0.0, \"Pounds\"], [\"CUSTOM CATS MI INC\", 7556.0, \"Pounds\"], [\"MITSUBISHI ELECTRIC AUTOMOTIVE AMERICA INC\", 1200.0, \"Pounds\"], [\"MUSKEGON COMPOSITES INC\", 0.0, \"Pounds\"], [\"VALERO PARTNERS MEMPHIS LLC\", 0.0, \"Pounds\"], [\"FINELINE INDUSTRIES LLC\", 250.0, \"Pounds\"], [\"SHERWIN-WILLIAMS CO\", 23.0, \"Pounds\"], [\"WACO BOOM CO LTD\", 4675.0, \"Pounds\"], [\"LATHAM POOL PRODUCTS INC D/B/A VIKING POOLS-LA\", 34209.0, \"Pounds\"], [\"PHILADELPHIA ENERGY SOLUTIONS REFINING PHILADELPHIA REFINERY\", 52.6, \"Pounds\"], [\"ARCELORMITTAL BURNS HARBOR LLC\", 112.0, \"Pounds\"], [\"EQUISTAR CHEMICALS CLINTON PL ANT\", 299.5, \"Pounds\"], [\"CLUB KIT INC\", 0.0, \"Pounds\"], [\"AGEAN MARBLE MANUFACTURING INC\", 2960.0, \"Pounds\"], [\"BASF CORP - FREEPORT SITE\", 37.0, \"Pounds\"], [\"SEATING CONCEPTS\", 7431.0, \"Pounds\"], [\"UNIVAR SOLUTIONS USA INC\", 16.0, \"Pounds\"], [\"NANOGATE NA LLC\", 5.0, \"Pounds\"], [\"BARTON SOLVENTS INC BETTENDORF\", 0.0, \"Pounds\"], [\"BREMEN COMPOSITES LLC\", 26175.0, \"Pounds\"], [\"JANICKI INDUSTRIES INC\", 5592.0, \"Pounds\"], [\"MIDWESTERN FABRICATORS INC\", 24407.0, \"Pounds\"], [\"MILES FIBERGLASS & PLASTICS INC OTTY RD\", 20110.0, \"Pounds\"], [\"INTERNATIONAL MARBLE INDUSTRIE S\", 24278.0, \"Pounds\"], [\"EVELANDS INC\", 0.0, \"Pounds\"], [\"DAKOTA FIBERGLASS INC\", 14248.0, \"Pounds\"], [\"CUSTOM MARBLE INC\", 5084.0, \"Pounds\"], [\"EXPLORER VAN INC\", 9454.0, \"Pounds\"], [\"VECTORWORKS MARINE LLC\", 10636.0, \"Pounds\"], [\"AMERICAS STYRENICS LLC\", 1110.0, \"Pounds\"], [\"DILLON MANUFACTURING\", 3500.0, \"Pounds\"], [\"NOVA CHEMICALS INC\", 10275.09, \"Pounds\"], [\"ALAGLASS POOLS\", 0.0, \"Pounds\"], [\"INEOS COMPOSITES US LLC\", 2090.0, \"Pounds\"], [\"MARLAM INDUSTRIES INC\", 34343.0, \"Pounds\"], [\"SANCO INC\", 0.0, \"Pounds\"], [\"HARTZELL FAN INC\", 3734.0, \"Pounds\"], [\"EXXONMOBIL BATON ROUGE REFINERY (PART)\", 100.0, \"Pounds\"], [\"CULLMAN CASTING CORP\", 2518.0, \"Pounds\"], [\"JX NIPPON CHEMICAL TEXAS INC\", 6.08, \"Pounds\"], [\"SEA RAY BOATS INC MERRITT ISLAND\", 27220.0, \"Pounds\"], [\"SHELTER WORKS\", 750.0, \"Pounds\"], [\"DUDICK INC\", 0.0, \"Pounds\"], [\"MASON FIBERGLASS LLC DBA SCHMIDT PROGRESSIVE\", 6495.0, \"Pounds\"], [\"OMNOVA SOLUTIONS\", 3.0, \"Pounds\"], [\"ASHLAND LLC\", 1.0, \"Pounds\"], [\"MODERN WELDING CO OF TX INC\", 2243.0, \"Pounds\"], [\"INEOS STYROLUTION AMERICA LLC\", 24146.0, \"Pounds\"], [\"ANTENNAS FOR COMMUNICATIONS\", 398.0, \"Pounds\"], [\"BASF CORP\", 250.0, \"Pounds\"], [\"NEW BOSTON RTM INC\", 5101.1, \"Pounds\"], [\"TRITON BOATS\", 60969.0, \"Pounds\"], [\"INEOS COMPOSITES\", 5255.0, \"Pounds\"], [\"GLOBAL COMPOSITES INC PLANT 3\", 18487.54, \"Pounds\"], [\"LM WIND POWER BLADES INC\", 295460.0, \"Pounds\"], [\"ARISTECH SURFACES LLC\", 1174.0, \"Pounds\"], [\"NOURYON SURFACE CHEMISTRY LLC\", 0.0, \"Pounds\"], [\"MASONITE CORP\", 462.0, \"Pounds\"], [\"THE DOW CHEMICAL CO - LOUISIANA OPERATIONS\", 279.0, \"Pounds\"], [\"ELECTRI-GLASS INC\", 12170.0, \"Pounds\"], [\"ISP CHEMICALS LLC\", 361.0, \"Pounds\"], [\"MOTIVA ENTERPRISES LLC CHARLOTTE NORTH & SOUTH TERMINALS\", 5.0, \"Pounds\"], [\"ROYAL ADHESIVES & SEALANTS LLC\", 561.0, \"Pounds\"], [\"TRECORA CHEMICAL INC\", 0.0, \"Pounds\"], [\"DANA SEALING PRODUCTS LLC\", 0.0, \"Pounds\"], [\"PB HOLDCO INC\", 89207.0, \"Pounds\"], [\"GRANITE INLINER LLC\", 0.0, \"Pounds\"], [\"SABIC INNOVATIVE PLASTICS MT VERNON LLC\", 300.0, \"Pounds\"], [\"LINDAU CHEMICALS INC\", 12.0, \"Pounds\"], [\"CLEARSTREAM WASTEWATER SYSTEMS INC\", 24764.0, \"Pounds\"], [\"SEA RAY BOATS\", 26266.0, \"Pounds\"], [\"DESIGN CONCEPTS/MARINE CONCEPTS\", 13891.0, \"Pounds\"], [\"ARKEMA COATING RESINS\", 250.0, \"Pounds\"], [\"ALLNEX USA INC\", 34.8, \"Pounds\"], [\"V & E COMPONENTS INC\", 115.0, \"Pounds\"], [\"GEORGIA PACIFIC LEAF RIVER CELLULOSE LLC\", 1732.54, \"Pounds\"], [\"DUPONT ELECTRONIC POLYMERS\", 1.0, \"Pounds\"], [\"COMPOSITE DESIGNS INC\", 31405.0, \"Pounds\"], [\"COMFORT LINE LTD\", 441.0, \"Pounds\"], [\"COS-MAR CO\", 79917.0, \"Pounds\"], [\"FORTE PRODUCTS\", 13913.235, \"Pounds\"], [\"CLEAN HARBORS EL DORADO LLC\", 0.34, \"Pounds\"], [\"S2 YACHTS INC TIARA YACHTS INC DIV\", 77492.0, \"Pounds\"], [\"STEPAN CO\", 0.0, \"Pounds\"], [\"SYN-MAR PRODUCTS INC\", 1121.0, \"Pounds\"], [\"AQUATIC CO\", 24520.0, \"Pounds\"], [\"MASTER SPAS INC\", 103720.0, \"Pounds\"], [\"PREMIER FIBERGLASS\", 33609.76, \"Pounds\"], [\"RPS COMPOSITES OF ALABAMA INC\", 0.0, \"Pounds\"], [\"POLYSTAR INC\", 5988.0, \"Pounds\"], [\"US COMPOSITE PIPE SOUTH\", 3404.0, \"Pounds\"], [\"AMERICAN BLUEGRASS MARBLE CO INC\", 0.0, \"Pounds\"], [\"MOTIVA ENTERPRISES LLC PASADENA TERMINAL\", 6.0, \"Pounds\"], [\"ALLNEX USA INC\", 138.0, \"Pounds\"], [\"MAY-CRAFT FIBERGLASS PRODUCTS INC\", 7900.0, \"Pounds\"], [\"ABLE MANUFACTURING & ASSEMBLY LLC\", 79683.94, \"Pounds\"], [\"UNIVERSAL PULTRUSIONS E PLANT\", 2290.0, \"Pounds\"], [\"MET-PRO TECHNOLOGIES DBA FYBROC UNIT\", 530.5, \"Pounds\"], [\"MOTIVA PORT EVERGLADES SOUTH TERMINAL\", 8.0, \"Pounds\"], [\"LUBRIZOL\", 1.0, \"Pounds\"], [\"NBHX TRIM CORP\", 117.1, \"Pounds\"], [\"GREAT LAKES CHEMICAL - SOUTH PLANT\", 170.0, \"Pounds\"], [\"SPUNSTRAND INC\", 22393.0, \"Pounds\"], [\"HUBBELL LENOIR CITY INC\", 0.0, \"Pounds\"], [\"ZEON CHEMICALS LP\", 171.0, \"Pounds\"], [\"ARCOSA MARINE PRODUCTS INC PLT  73\", 0.0, \"Pounds\"], [\"VALERO REFINING TEXAS LP CORPUS CHRISTI EAST PLANT\", 630.0, \"Pounds\"], [\"TECTON PRODUCTS LLC\", 2851.0, \"Pounds\"], [\"LF MANUFACTURING INC - RIDDLEVILLE PLANT\", 10873.7, \"Pounds\"], [\"SHERWIN-WILLIAMS CO\", 340.0, \"Pounds\"], [\"KMTEX LLC\", 900.0, \"Pounds\"], [\"NOV FIBER GLASS SYSTEMS - CONTAINMENT SOLUTIONS\", 140000.0, \"Pounds\"], [\"RED EWALD LLC\", 17343.0, \"Pounds\"], [\"SALO MANUFACTURING INC\", 61152.0, \"Pounds\"], [\"FIBERGLASS UNLIMITED INC\", 7601.0, \"Pounds\"], [\"COMPOSITE TECHNOLOGY ASSEMBLIES LLC\", 228283.0, \"Pounds\"], [\"GABRIEL PERFORMANCE PRODUCTS LLC\", 0.0, \"Pounds\"], [\"MANSFIELD PLUMBING PRODUCTS LLC\", 13000.0, \"Pounds\"], [\"VALERO REFINING-TEXAS LP\", 250.0, \"Pounds\"], [\"KOPPERS INC\", 168.0, \"Pounds\"], [\"NEXEO SOLUTIONS LLC\", 0.0, \"Pounds\"], [\"EBBTIDE HOLDINGS LLC\", 7977.0, \"Pounds\"], [\"CORE COMPOSITE CINCINNATI\", 8057.0, \"Pounds\"], [\"K& D CULTURED MARBLE INC\", 6312.73, \"Pounds\"], [\"ULTRAMAR INC WILMINGTON REFINERY\", 0.0, \"Pounds\"], [\"OWENS CORNING NON-WOVENS - BLYTHEWOOD LLC\", 0.0, \"Pounds\"], [\"SKIER'S CHOICE INC\", 54928.0, \"Pounds\"], [\"CONTAINMENT SOLUTIONS INC\", 0.0, \"Pounds\"], [\"PHILLIPS 66 LOS ANGELES REFINERY CARSON PLANT\", 0.0, \"Pounds\"], [\"AUGUSTA FIBERGLASS COATINGS INC\", 0.0, \"Pounds\"], [\"XERXES CORP\", 139573.0, \"Pounds\"], [\"KOHLER CO\", 33000.0, \"Pounds\"], [\"MFG ALABAMA LLC\", 37176.0, \"Pounds\"], [\"RJ DOUGHERTY ASSOCIATES LLC DBA EVERGLADES BOATS\", 48.0, \"Pounds\"], [\"ALERIS ROLLED PRODUCTS INC\", 108.54, \"Pounds\"], [\"KURARAY AMERICA INC SEPTON BU\", 79.0, \"Pounds\"], [\"M&W FIBERGLASS INC\", 16241.0, \"Pounds\"], [\"NORTH PACIFIC PAPER CO LLC LONGVIEW\", 27246.0, \"Pounds\"], [\"SWIMEX INC\", 3687.0, \"Pounds\"], [\"FORMOSA PLASTICS CORP TEXAS\", 2772.0, \"Pounds\"], [\"WACO COMPOSITES\", 14805.0, \"Pounds\"], [\"SIMS-LOHMAN\", 11900.0, \"Pounds\"], [\"LYONDELLBASELL ADVANCED POLYMERS INC\", 6997.0, \"Pounds\"], [\"MESA FULLY FORMED LLC\", 11181.0, \"Pounds\"], [\"POLYNT COMPOSITES USA INC - MARSHALL\", 337.0, \"Pounds\"], [\"BELCO MANUFACTURING CO INC\", 116892.0, \"Pounds\"], [\"APPLETON GROUP LLC\", 750.0, \"Pounds\"], [\"CATLETTSBURG REFINING LLC\", 149.0, \"Pounds\"], [\"ARKEMA INC ALTUGLAS DIV\", 250.0, \"Pounds\"], [\"REC BOAT HOLDINGS LLC-SPORT/ENGINEERING\", 86064.0, \"Pounds\"], [\"HOLLYFRONTIER WOODS CROSS REFINING LLC\", 5.0, \"Pounds\"], [\"ETM ENTERPRISES INC\", 1160.0, \"Pounds\"], [\"GAC CHEMICAL CORP\", 107.3, \"Pounds\"], [\"AVERY DENNISON MILL HALL\", 0.0, \"Pounds\"], [\"PHILLIPS 66 CO SWEENY REFINERY COMPLEX\", 49.0, \"Pounds\"], [\"ITW EVERCOAT\", 2190.0, \"Pounds\"], [\"I-COMPOSITES LLC DBA INDIANA COMPOSITES\", 34395.0, \"Pounds\"], [\"INEOS STYROLUTION AMERICA LLC\", 3447.0, \"Pounds\"], [\"GRANITE INLINER LLC\", 0.0, \"Pounds\"], [\"FIBRE TECH INC\", 18.0, \"Pounds\"], [\"BRADLEY CORP\", 123.0, \"Pounds\"], [\"MASTERCRAFT BOAT CO\", 252637.0, \"Pounds\"], [\"KALWALL CORP FLAT SHEE T DIV\", 1303.0, \"Pounds\"], [\"EDENTON BOATWORKS LLC\", 0.0, \"Pounds\"], [\"CSP OF INDIANA LLC\", 17257.0, \"Pounds\"], [\"PALMER MANUFACTURING & TANK\", 25899.0, \"Pounds\"], [\"OLIVER FIBERGLASS PRODUCTS\", 88997.0, \"Pounds\"], [\"LATHAM POOL PRODUCTS INC D/B/A VIKING POOLS-WV\", 181337.0, \"Pounds\"], [\"THUNDERBIRD PRODUCTS\", 70907.0, \"Pounds\"], [\"LIBERTY PULTRUSIONS\", 37884.8, \"Pounds\"], [\"WESTLAKE STYRENE LP MARINE TERMINAL FACILITY\", 13887.0, \"Pounds\"], [\"FIBERDOME INC PLANT 2\", 35068.0, \"Pounds\"], [\"DEER PARK_TX (ROH)\", 206.0, \"Pounds\"], [\"ARIZONA ENVIRONMENTAL CONTAINER CORP\", 45411.0, \"Pounds\"], [\"SHERWIN-WILLIAMS CO\", 393.0, \"Pounds\"], [\"RANGER TUGS KENT\", 9081.0, \"Pounds\"], [\"BASS CAT BOATS & YAR-CRAFT BOATS\", 41946.0, \"Pounds\"], [\"ARLWIN MANUFACTURING CO INC\", 4574.7, \"Pounds\"], [\"JACKEL INC\", 0.0, \"Pounds\"], [\"POSCO INC\", 0.0, \"Pounds\"], [\"LEISURE POOLS USA TRADING INC\", 466323.0, \"Pounds\"], [\"ST CHARLES OPERATIONS (TAFT/STAR) UNION CARBIDE CORP\", 270.0, \"Pounds\"], [\"EQ DETROIT INC\", 37.0, \"Pounds\"], [\"SMOKER CRAFT INC\", 1777.0, \"Pounds\"], [\"MOLDED FIBER GLASS / UNION CITY\", 25540.0, \"Pounds\"], [\"EMERALD PERFORMANCE MATERIALS\", 24.0, \"Pounds\"], [\"VIRON INTERNATIONAL CORP\", 12900.0, \"Pounds\"], [\"TRINSEO LLC-MI OPERATIONS\", 947.0, \"Pounds\"], [\"E J PAINTING & FIBERGLASS\", 3823.0, \"Pounds\"], [\"SAMPSON FIBERGLASS INC\", 40967.0, \"Pounds\"], [\"FIBERGLASS SPECIALTIES INC\", 10999.0, \"Pounds\"], [\"MOLDED FIBER GLASS COMPOSITE SYSTEMS CO\", 54046.0, \"Pounds\"], [\"CUSTOM FIBERGLASS MOLDING INC\", 19176.8, \"Pounds\"], [\"GRANITE INLINER LLC\", 0.0, \"Pounds\"], [\"AQUATIC CO\", 56440.0, \"Pounds\"], [\"XEROX CORP OKLAHOMA CITY\", 194.0, \"Pounds\"], [\"EDGEWATER POWER BOATS LLC\", 22459.0, \"Pounds\"], [\"YAMAHA JET BOAT MANUFACTURING USA INC\", 381760.0, \"Pounds\"], [\"PUROLITE\", 750.0, \"Pounds\"], [\"ROEHM AMERICA LLC\", 1049.0, \"Pounds\"], [\"ECOLOGICAL TANKS INC\", 24.0, \"Pounds\"], [\"EQUISTAR CHEMICALS LP\", 642.0, \"Pounds\"], [\"MFG CONSTRUCTION PRODUCTS\", 15172.0, \"Pounds\"], [\"F&F COMPOSITE GROUP INC\", 1749.0, \"Pounds\"], [\"INTERPOLYMER CORP\", 1.1, \"Pounds\"], [\"COMPOSITE TECHNOLOGY ASSEMBLIES LLC\", 7311.0, \"Pounds\"], [\"VALERO REFINING-TEXAS LP CORPUS CHRISTI WEST PLANT\", 93.0, \"Pounds\"], [\"BERTRAM YACHTS LLC\", 6926.0, \"Pounds\"], [\"GEOTEK LLC\", 0.0, \"Pounds\"], [\"BP-HUSKY REFINING LLC\", 74.0, \"Pounds\"], [\"NAUTIQUE BOAT CO INC\", 202744.0, \"Pounds\"], [\"MOLDING PRODUCTS LLC\", 49432.0, \"Pounds\"], [\"INTERNATIONAL PAINT LLC\", 68.0, \"Pounds\"], [\"EXXONMOBIL OIL CORP CHEMICAL PLANT (PART)\", 79.0, \"Pounds\"], [\"ARLANXEO\", 1000.0, \"Pounds\"], [\"MODERN WELDING CO OF TX INC\", 3133.0, \"Pounds\"], [\"FRONT LINE MANUFACTURING WARSAW\", 4073.0, \"Pounds\"], [\"APOLLO AEROSOL INDUSTRIES LLC\", 0.0, \"Pounds\"], [\"INTERPLASTIC CORP\", 7570.0, \"Pounds\"], [\"US MARINE INC\", 700.0, \"Pounds\"], [\"WARMINSTER FIBERGLASS CO\", 7092.0, \"Pounds\"], [\"INEOS STYROLUTION AMERICA LLC\", 448.0, \"Pounds\"], [\"TRUCK ACCESSORIES GROUP DBA TAG WEST\", 72533.0, \"Pounds\"], [\"MINCEY MARBLE MANUFACTURING INC\", 170472.0, \"Pounds\"], [\"US ECOLOGY TEXAS INC\", 3916.03, \"Pounds\"], [\"DYNASTY SPAS\", 49402.0, \"Pounds\"], [\"CONCEPT PLASTICS INC\", 1578.0, \"Pounds\"], [\"PHILLIPS 66 SAN FRANCISCO REFINERY\", 23.0, \"Pounds\"], [\"ASSOCIATED FIBERGLASS ENTERPRISES\", 18875.0, \"Pounds\"], [\"AMERICAN ENVIRONMENTAL CONTAINER CORP\", 99560.0, \"Pounds\"], [\"NAUTIQUE BOAT CO INC\", 0.0, \"Pounds\"], [\"MONUMENT CHEMICAL KENTUCKY LLC\", 40.0, \"Pounds\"], [\"JOHNSON COUNTY PIPE INC\", 3924.6, \"Pounds\"], [\"FLUID MOTION LLC\", 6256.0, \"Pounds\"], [\"ERGON TERMINALING INC-CHATTANOOGA\", 80.0, \"Pounds\"], [\"PARKER OFFSHORE LLC\", 34286.0, \"Pounds\"], [\"INTERPLASTIC CORP-FORT WRIGHT\", 505.0, \"Pounds\"], [\"TOTAL PETROCHEMICALS & REFINING USA INC\", 1.0, \"Pounds\"], [\"MODERN WELDING CO OF OHIO INC\", 3773.0, \"Pounds\"], [\"SUPERIOR SOLVENTS & CHEMICALS\", 0.0, \"Pounds\"], [\"A R E ACCESSORIES LLC\", 12375.27, \"Pounds\"], [\"W&W FIBERGLASS TANK CO\", 6287.0, \"Pounds\"], [\"PANNIER GRAPHICS\", 3166.0, \"Pounds\"], [\"CUSTOM FIBERGLASS INC\", 0.0, \"Pounds\"], [\"GPI CORP\", 6000.0, \"Pounds\"], [\"CAROLINA SKIFF LLC\", 134023.0, \"Pounds\"], [\"SPECIALTY POLYMERS INC\", 944.0, \"Pounds\"], [\"ALBEMARLE CORP\", 5.0, \"Pounds\"], [\"MANSTONE LLC\", 877.0, \"Pounds\"], [\"MOLDED PLASTIC INDUSTRIES INC\", 1562.0, \"Pounds\"], [\"JUPITER MARINE INTERNATIONAL INC\", 0.0, \"Pounds\"], [\"LG HAUSYS AMERICA INC\", 5300.0, \"Pounds\"], [\"CALLAHAN CHEMICAL CO\", 5.0, \"Pounds\"], [\"B & D PLASTICS\", 0.0, \"Pounds\"], [\"FCC COMMERCIAL FURNITURE INC\", 1350.0, \"Pounds\"], [\"COVESTRO LLC\", 0.0, \"Pounds\"], [\"BGM AMERICA INC\", 43000.0, \"Pounds\"], [\"THE GOODYEAR TIRE & RUBBER CO\", 132775.0, \"Pounds\"], [\"AOC TENNESSEE PLANT\", 9028.0, \"Pounds\"], [\"OMNOVA SOLUTIONS INC-MOGADORE PLANT\", 252.0, \"Pounds\"], [\"AOC LLC\", 124.9, \"Pounds\"], [\"PPG INDUSTRIES INC-OAK CREEK\", 628.97, \"Pounds\"], [\"OMNOVA SOLUTIONS PERFORMANCE CHEMICALS GREEN BAY FACILITY\", 1.16, \"Pounds\"], [\"ALLIED MOULDED PRODUCTS INC\", 18752.0, \"Pounds\"], [\"STI POLYMER INC\", 78.0, \"Pounds\"], [\"GREAT LAKES COMPOSITES LLC\", 19869.0, \"Pounds\"], [\"AMERICAS STYRENICS LLC\", 3872.0, \"Pounds\"], [\"THE DOW CHEMICAL CO\", 56.0, \"Pounds\"], [\"CAROLINA COMPOSITES\", 54400.0, \"Pounds\"], [\"TOTAL PETROCHEMICALS & REFINING USA INC (TOTAL CRAY VALLEY)\", 1500.0, \"Pounds\"], [\"JOHNS MANVILLE\", 33006.0, \"Pounds\"], [\"TIGE BOATS INC\", 68283.17, \"Pounds\"], [\"RESINALL CORP\", 379.86, \"Pounds\"], [\"PIONEER PLASTICS CORP\", 11909.0, \"Pounds\"], [\"BASF CORP\", 91.0, \"Pounds\"], [\"FIBER-TECH INDUSTRIES\", 0.0, \"Pounds\"], [\"PELLA CORP - MURRAY OPERATIONS\", 0.0, \"Pounds\"], [\"SIEMENS ENERGY INC\", 1147.0, \"Pounds\"], [\"SCHNEIDER ELECTRIC USA\", 5.0, \"Pounds\"], [\"KRATON CHEMICAL LLC\", 4.95, \"Pounds\"], [\"TRUCK ACCESSORIES GROUP LLC DBA TAG MIDWEST\", 64801.0, \"Pounds\"], [\"SEABRING MARINE INDUSTRIES INC\", 0.0, \"Pounds\"], [\"TAYLOR MADE PRODUCTS LLC\", 7031.0, \"Pounds\"], [\"MAAX US CORP\", 277218.0, \"Pounds\"], [\"ARCOSA MARINE PRODUCTS INC PLT 1245\", 49668.1, \"Pounds\"], [\"JLOK CORP\", 5996.0, \"Pounds\"], [\"CARFAIR COMPOSITES USA INC - WAUSAUKEE\", 19902.0, \"Pounds\"], [\"AMERICAN SYNTHETIC RUBBER CO\", 11270.0, \"Pounds\"], [\"MARTIN ENTERPRISES\", 4388.01, \"Pounds\"], [\"THE GILL CORP\", 15.0, \"Pounds\"], [\"USS-CLAIRTON PLANT\", 210.0, \"Pounds\"], [\"OSBORNE INDUSTRIES INC\", 13616.0, \"Pounds\"], [\"PETROLEUM CONTAINMENT INC\", 21568.0, \"Pounds\"], [\"SPORTSMAN BOAT MANUFACTURING INC\", 133503.0, \"Pounds\"], [\"HENTZEN AEROSPACE\", 0.0, \"Pounds\"], [\"ROHM & HAAS - LOUISVILLE PL ANT\", 106.0, \"Pounds\"], [\"ITW PERFORMANCE POLYMERS\", 0.0, \"Pounds\"], [\"GRANITE INLINER LLC\", 0.0, \"Pounds\"], [\"UNITED FIBERGLASS INC\", 13499.7, \"Pounds\"], [\"TRITON WEST LLC - SHELL DES PLAINES TERMINAL\", 0.2, \"Pounds\"], [\"SUPERIOR HOME PRODUCTS INC\", 16522.0, \"Pounds\"], [\"MASTERMOLD LLC\", 0.0, \"Pounds\"], [\"BASF CORP\", 187.0, \"Pounds\"], [\"FIREBIRD PRODUCTS LLC\", 6095.22, \"Pounds\"], [\"MARBLE PALACE\", 23.23, \"Pounds\"], [\"WYOMING REFINING CO\", 40.1, \"Pounds\"], [\"POLYNT COMPOSITES USA INC\", 3000.0, \"Pounds\"], [\"CONTINENTAL STRUCTURAL PLASTICS LLC-LENOIR\", 2799.0, \"Pounds\"], [\"TALON PRODUCTS LLC\", 12927.0, \"Pounds\"], [\"ERSHIGS INC - ATTBAR DIV\", 14600.0, \"Pounds\"], [\"AC POLYMERS INC\", 180.0, \"Pounds\"], [\"MODERN DAY PRODUCTS\", 1195.0, \"Pounds\"], [\"RUST-OLEUM CORP\", 274.79, \"Pounds\"], [\"CASTING CREATIONS INC DBA AZTEC INDUSTRIES\", 5691.0, \"Pounds\"], [\"COMPOSITE & METAL PRODUCTS USA INC DBA COMPOSITES USA\", 2599.0, \"Pounds\"], [\"NORLITE LLC\", 0.58, \"Pounds\"], [\"XERXES CORP\", 165175.0, \"Pounds\"], [\"THORPE PLANT SERVICES INC\", 43517.0, \"Pounds\"], [\"THURSDAY POOLS\", 81400.0, \"Pounds\"], [\"TECHNIPLAS\", 0.0, \"Pounds\"], [\"MARBLE PRODUCTS CO\", 2034.0, \"Pounds\"], [\"EDWARDS FIBERGLASS\", 22.0, \"Pounds\"], [\"PEACH STATE LABORATORIES LLC\", 780.0, \"Pounds\"], [\"EASTMAN CHEMICAL RESINS INC\", 8327.0, \"Pounds\"], [\"WATER WAY INC\", 0.0, \"Pounds\"], [\"LION ELASTOMERS ORANGE LLC\", 625.0, \"Pounds\"], [\"INEOS USA LLC\", 19000.0, \"Pounds\"], [\"MAAX US CORP\", 204943.0, \"Pounds\"], [\"AK INDUSTRIES INC\", 62463.0, \"Pounds\"], [\"EXXONMOBIL BAYTOWN CHEMICAL PLANT (PART)\", 37.0, \"Pounds\"], [\"BARBOSA CABINETS\", 5.0, \"Pounds\"], [\"ORENCO SYSTEMS INC - NORTH BANK FACILITY\", 0.0, \"Pounds\"], [\"LATHAM POOL PRODUCTS INC D/B/A VIKING POOLS-FL\", 33590.0, \"Pounds\"], [\"NT MANUFACTURING LLC DBA NOR TECH HIGH PERFORMANCE BOATS\", 27039.0, \"Pounds\"], [\"SPECIALTY POLYMERS INC\", 821.0, \"Pounds\"], [\"PRECISION FIBERGLASS PRODUCTS LTD\", 20077.0, \"Pounds\"], [\"CARFAIR COMPOSITES USA INC - GILLETT\", 8227.0, \"Pounds\"], [\"VEOLIA ES TECHNICAL SOLUTIONS LLC PORT ARTHUR FACILITY\", 0.0, \"Pounds\"], [\"DEER PARK REFINING LP\", 37.0, \"Pounds\"], [\"DELAWARE CITY REFINERY\", 5.61, \"Pounds\"], [\"DELIVERY CONCEPTS INC\", 10711.96, \"Pounds\"], [\"NB COATINGS INC\", 0.0, \"Pounds\"], [\"SAWYER OILFIELD PRODUCTS\", 49617.0, \"Pounds\"], [\"MODERN WELDING CO OF CALIFORNIA\", 2218.755, \"Pounds\"], [\"PREMCOR REFINING GROUP INC PORT ARTHUR\", 6522.0, \"Pounds\"], [\"BRADY WORLDWIDE INC FLORIST AVENUE\", 191.0, \"Pounds\"], [\"VETRORESINA LLC\", 41717.0, \"Pounds\"], [\"ELANTAS PDG INC\", 1010.6, \"Pounds\"], [\"LATHAM POOL PRODUCTS INC D/B/A VIKING POOLS-TX\", 73212.0, \"Pounds\"], [\"CRANE COMPOSITES INC\", 4089.0, \"Pounds\"], [\"TRI-CITY MARBLE LLC\", 2095.0, \"Pounds\"], [\"SYNTHOMER USA LLC\", 86.09, \"Pounds\"], [\"PLASTIC DEVELOPMENT CO\", 8374.0, \"Pounds\"], [\"SABIC INNOVATIVE PLASTICS US LLC\", 4551.0, \"Pounds\"], [\"MAR-BAL INC\", 4986.0, \"Pounds\"], [\"HC COMPOSITES LLC\", 74205.0, \"Pounds\"], [\"PRC COMPOSITES LLC\", 250.0, \"Pounds\"], [\"TRINSEO\", 5.0, \"Pounds\"], [\"SAFAS CORP\", 1363.0, \"Pounds\"], [\"FIBERBASIN INC\", 2927.0, \"Pounds\"], [\"COBALT BOATS LLC\", 25678.0, \"Pounds\"], [\"AMERICH CORP\", 23126.07, \"Pounds\"], [\"AXALTA COATING SYSTEMS USA LLC-MOUNT CLEMENS PLANT\", 0.0, \"Pounds\"], [\"LEHIGH CEMENT CO\", 24.0, \"Pounds\"], [\"ICONIC MARINE GROUP LLC\", 44800.0, \"Pounds\"], [\"DRUMMOND CO INC ABC COKE DIV\", 50.0, \"Pounds\"], [\"COMMERCIAL PATTERN INC\", 4407.0, \"Pounds\"], [\"COMMUNITY LIGHT & SOUND INC (DBA COMMUNITY PROF LOUDSPKR)\", 0.0, \"Pounds\"], [\"LION ELASTOMERS LLC\", 91120.0, \"Pounds\"], [\"CATALINA YACHTS MORGAN DIV\", 10707.0, \"Pounds\"], [\"FIBERGLASS FABRICATORS INC\", 0.0, \"Pounds\"], [\"LF MANUFACTURING INC WAYCROSS PLANT\", 33867.0, \"Pounds\"], [\"ARMORTEX (FORMERLY SAFEGUARD SECURITY SERVICES)\", 9000.0, \"Pounds\"], [\"THERMA-TRU CORP\", 0.0, \"Pounds\"], [\"CPJ TECHNOLOGIES\", 0.0, \"Pounds\"], [\"CUTTING EDGE COMPOSITES\", 19700.0, \"Pounds\"], [\"FABBRO MARINE\", 25908.0, \"Pounds\"], [\"CLEAN HARBORS BUTTONWILLOW LLC\", 1e-07, \"Pounds\"], [\"ENDURO COMPOSITES INC-HOUSTON CENTRAL GREEN FACILITY\", 490.0, \"Pounds\"], [\"XERXES CORP\", 120370.0, \"Pounds\"], [\"HATTERAS/CABO YACHTS LLC\", 15800.0, \"Pounds\"], [\"WESTLAKE VINYLS INC\", 5382.0, \"Pounds\"], [\"INNOVATIVE CHEMICAL TECHNOLOGIES INC\", 0.0, \"Pounds\"], [\"BLAZER BOATS INC\", 13614.0, \"Pounds\"], [\"GRADY WHITE BOATS INC\", 141395.0, \"Pounds\"], [\"MCCLARIN PLASTICS LLC OKLAHOMA DIV\", 17640.0, \"Pounds\"], [\"MAAX US CORP\", 0.0, \"Pounds\"], [\"SHELL CHEMICAL LP\", 38.0, \"Pounds\"], [\"LF MANUFACTURING INC - STANTON PLANT\", 73747.0, \"Pounds\"], [\"HERITAGE THERMAL SERVICES\", 0.23, \"Pounds\"], [\"POWER PIPE & TANK LLC\", 22466.9, \"Pounds\"], [\"TIDEWATER BOATS LLC\", 139800.0, \"Pounds\"], [\"BERTCH CABINET MFG INC\", 6825.0, \"Pounds\"], [\"REICHHOLD LLC 2\", 690.0, \"Pounds\"], [\"LM WIND POWER BLADES (USA) INC\", 88030.0, \"Pounds\"], [\"MARQUIS YACHTS LLC\", 33068.0, \"Pounds\"], [\"ISLAND PACKET & SEAWARD YACHTS\", 2780.0, \"Pounds\"], [\"COVESTRO NEWARK COMPOUNDING FACILITY\", 61.0, \"Pounds\"], [\"PHILLIPS 66 LAKE CHARLES REFINERY\", 43.52, \"Pounds\"], [\"SUPERIOR SOLVENTS & CHEMICALS\", 0.0, \"Pounds\"], [\"POLYNT COMPOSITES USA INC\", 1826.5, \"Pounds\"], [\"COOLING TOWER COMPOSITES & FABRICATION\", 0.0, \"Pounds\"], [\"HALL TANK CO\", 6959.4, \"Pounds\"], [\"INTERPOLYMER CORP\", 0.0, \"Pounds\"], [\"ROYAL BATHS MANUFACTURING CO\", 13195.0, \"Pounds\"], [\"MAVERICK BOAT GROUP INC\", 103238.0, \"Pounds\"], [\"AQUATIC CO\", 16197.0, \"Pounds\"], [\"NUPLA CORP LLC\", 0.0, \"Pounds\"], [\"ST LOUIS MARBLE CO\", 4355.0, \"Pounds\"], [\"AGCO INC\", 6487.0, \"Pounds\"], [\"ENGINEERED COMPOSITE SYSTEMS\", 28366.0, \"Pounds\"], [\"JANCO ENGINEERED PRODUCTS LLC\", 3623.0, \"Pounds\"], [\"OMEGA LINER CO INC\", 750.0, \"Pounds\"], [\"ECC CORROSION INC\", 16609.0, \"Pounds\"], [\"FIBERTECH INC\", 15238.0, \"Pounds\"], [\"AMERICAS STYRENICS LLC\", 90274.0, \"Pounds\"], [\"CJBBB INC (DBA PHOENIX BOATS)\", 53791.0, \"Pounds\"], [\"ECO SERVICES OPERATIONS CORP\", 0.03, \"Pounds\"], [\"NOURYON SURFACE CHEMISTRY LLC\", 21.0, \"Pounds\"], [\"ARKEMA COATING RESINS PLANT\", 5.0, \"Pounds\"], [\"CLEAN HARBORS ARAGONITE LLC\", 0.04, \"Pounds\"], [\"GIANT CEMENT CO\", 22.0, \"Pounds\"], [\"DSM COATINGS\", 134.0, \"Pounds\"], [\"HOBAS PIPE USA LP\", 21923.0, \"Pounds\"], [\"RECKLESS INDUSTRIES LLC\", 0.0, \"Pounds\"], [\"STINGRAY BOATS\", 48600.0, \"Pounds\"], [\"FIBERGLAS FABRICATORS INC\", 22455.0, \"Pounds\"], [\"ABC INDUSTRIES INC\", 20932.0, \"Pounds\"], [\"AMERICH CORP\", 11530.0, \"Pounds\"], [\"SYNMAR\", 0.0, \"Pounds\"], [\"NORDIC FIBERGLASS INC\", 29457.0, \"Pounds\"], [\"FIBERGLASS SPECIALTIES INC\", 1309.0, \"Pounds\"], [\"CUSTOM PULTRUSIONS INC\", 0.0, \"Pounds\"], [\"AKZO NOBEL COATINGS INC\", 455.12, \"Pounds\"], [\"EXXONMOBIL OIL BEAUMONT REFINERY (PART)\", 82.0, \"Pounds\"], [\"HOLCIM (US) INC HOLLY HILL PLANT\", 5900.0, \"Pounds\"], [\"HIGHWATER MARINE LLC DBA GODFREY MARINE\", 46479.0, \"Pounds\"], [\"NEWBASIS LLC\", 5508.7, \"Pounds\"], [\"VALERO REFINING CO -OKLAHOMA VALERO ARDMORE REFINERY\", 276.0, \"Pounds\"], [\"CHRIS CRAFT\", 52231.0, \"Pounds\"], [\"MUSTANG MOTORCYCLE PRODUCTS LLC\", 2421.2, \"Pounds\"], [\"RIVER POOLS & SPAS\", 38410.0, \"Pounds\"], [\"KOHLER CO\", 175532.0, \"Pounds\"], [\"SILVESTRI CALIFORNIA\", 0.0, \"Pounds\"], [\"LF MANUFACTURING INC - MAI N PLANT\", 47554.8, \"Pounds\"], [\"DEXCO POLYMERS LP\", 891.63, \"Pounds\"], [\"RECREATION UNLIMITED LLC\", 1507.0, \"Pounds\"], [\"POLYNT COMPOSITES USA INC (FORMERLY PCCR USA)\", 7987.0, \"Pounds\"], [\"OLDCASTLE PRECAST-ACWORTH\", 5851.0, \"Pounds\"], [\"ENDURANCE COMPOSITES-PEARLAND\", 0.0, \"Pounds\"], [\"CYMETECH CORP\", 0.0, \"Pounds\"], [\"REAL FLEET SOLUTIONS\", 4501.84, \"Pounds\"], [\"VIKING YACHT CO INC\", 43009.0, \"Pounds\"], [\"MAAX US CORP\", 31580.0, \"Pounds\"], [\"ARKEMA COATING RESINS\", 250.0, \"Pounds\"], [\"OLDCASTLE INFRASTRUCTURE INC\", 3.0, \"Pounds\"], [\"STRONGWELL CORP BRISTOL\", 0.0, \"Pounds\"], [\"FIBERGLASS SPECIALTIES INC\", 5097.0, \"Pounds\"], [\"R&D MARBLE INC\", 2737.0, \"Pounds\"], [\"DANIEL MECHANICAL LLC\", 21582.0, \"Pounds\"], [\"A-1 FIBERGLASS\", 77258.88, \"Pounds\"], [\"NORTHLAND ALUMINUM PRODUCTS I NC\", 701.905, \"Pounds\"], [\"VECTORWORKS MERRITT ISLAND\", 20296.0, \"Pounds\"], [\"VIXEN COMPOSITES LLC\", 7716.0, \"Pounds\"], [\"LCY ELASTOMERS LP\", 0.38, \"Pounds\"], [\"LOGAN CLAY PRODUCTS LLC\", 0.0, \"Pounds\"], [\"MAR-BAL INC\", 0.0, \"Pounds\"], [\"CARFAIR COMPOSITES USA INC - ANNISTON\", 33820.0, \"Pounds\"], [\"CASITA ENTERPRISES INC\", 34085.0, \"Pounds\"], [\"JL AUDIO INC\", 750.0, \"Pounds\"], [\"SUPERIOR SOLVENTS & CHEMICALS\", 0.0, \"Pounds\"], [\"VALMONT COMPOSITE STRUCTURES ESTILL\", 26593.0, \"Pounds\"], [\"J-LOK CO\", 0.0, \"Pounds\"], [\"TECTON PRODUCTS LLC\", 424.0, \"Pounds\"], [\"CONTINENTAL CEMENT CO LLC\", 44.82, \"Pounds\"], [\"AGILYX\", 54.0, \"Pounds\"], [\"NEVILLE CHEMICAL CO\", 1227.0, \"Pounds\"], [\"GMR TECHNOLOGY INC\", 829.0, \"Pounds\"], [\"MINOVA USA INC\", 8100.0, \"Pounds\"], [\"AN-COR INDUSTRIAL PLASTICS\", 13985.0, \"Pounds\"], [\"NORTH AMERICAN LIGHTING\", 2378.7, \"Pounds\"], [\"FIBER TRON CORP\", 5476.0, \"Pounds\"], [\"LTA II MANUFACTURING LLC\", 16900.0, \"Pounds\"], [\"DDP SPECIALTY ELECTRONIC MATERIALS US INC\", 4000.0, \"Pounds\"], [\"MOTIVA-PORT ARTHUR TERMINAL\", 0.0, \"Pounds\"], [\"DUSKY MARINE INC\", 12291.0, \"Pounds\"], [\"SIKA ADVANCED RESINS US\", 0.0, \"Pounds\"], [\"MTI BATHS\", 52117.0, \"Pounds\"], [\"ALBERDINGK BOLEY INC\", 0.0, \"Pounds\"], [\"DAL-TILE TENNESSEE LLC DBA DAL- TILE TENNESSEE OLD COLUMBIA\", 1918.0, \"Pounds\"], [\"GRANITE INLINER LLC\", 0.0, \"Pounds\"], [\"INDUSTRIAL COMPOSITE SYSTEMS DBA INDUSTRIAL PLASTIC SYSTEMS\", 0.0, \"Pounds\"], [\"KENWAY COMPOSITES\", 10960.34, \"Pounds\"], [\"CAPITAL RESIN CORP\", 0.0, \"Pounds\"], [\"RPS COMPOSITES OHIO INC\", 200.0, \"Pounds\"], [\"ACO INC - AZ\", 4470.0, \"Pounds\"], [\"NIPPON CARBIDE INDUSTRIES\", 4644.0, \"Pounds\"], [\"SUNOCO LLC-RACE FUELS\", 0.0, \"Pounds\"], [\"GREENSBORO PLANT\", 0.0, \"Pounds\"], [\"MARBLEWORKS INC\", 3459.0, \"Pounds\"], [\"TPI COMPOSITES IOWA II BUS PLANT\", 14947.0, \"Pounds\"], [\"HINCKLEY CO\", 0.0, \"Pounds\"], [\"AJ MAES DBA SANDIA MARBLE\", 5331.0, \"Pounds\"], [\"FRANKLIN-BAY LLC\", 64902.0, \"Pounds\"], [\"OZARKS CULTURED MARBLE\", 750.0, \"Pounds\"], [\"CAMBRO MANUFACTURING CO CLAY AVE FACILITY\", 1286.0, \"Pounds\"], [\"PHILLIPS 66 PIPELINE LLC-BEAUMONT TERMINAL\", 14.0, \"Pounds\"], [\"BENJAMIN MOORE & CO PELL CITY\", 0.0, \"Pounds\"], [\"VALERO HOUSTON ASPHALT TERMINAL\", 36.74, \"Pounds\"], [\"OLDCASTLE INFRASTRUCTURE\", 1141.0, \"Pounds\"], [\"CHEMOIL TERMINALS CORP\", 0.22, \"Pounds\"], [\"ARE ACCESSORIES LLC\", 1816.65, \"Pounds\"], [\"VIKING YACHT CO - MULLICA\", 8528.0, \"Pounds\"], [\"COVESTRO LLC\", 1085.0, \"Pounds\"], [\"ALLIED MOLDED PRODUCTS LLC\", 1612.0, \"Pounds\"], [\"ABT INC\", 250.0, \"Pounds\"], [\"RESINALL CORP\", 160.0, \"Pounds\"], [\"MOTIVA PORT TAMPA TERMINAL\", 5.0, \"Pounds\"], [\"SEABRING MARINE INDUSTRIES INC\", 0.0, \"Pounds\"], [\"AERO TRANSPORTATION PRODUCTS INC\", 37419.0, \"Pounds\"], [\"FIBERGLASS PRODUCTS INC\", 13331.91, \"Pounds\"], [\"CARBOLINE CO\", 413.0, \"Pounds\"], [\"MARQUIS CORP\", 50658.0, \"Pounds\"], [\"ALLNEX USA INC\", 552.0, \"Pounds\"], [\"DOW CHEMICAL CO FREEPORT FACILITY\", 339.0, \"Pounds\"], [\"MAY MANUFACTURING LLC (DBA ARTESIAN SPAS)\", 3394.0, \"Pounds\"], [\"TRACKER MARINE LLC\", 186478.0, \"Pounds\"], [\"REDNECK MANUFACTURING LLC\", 24144.72, \"Pounds\"], [\"STEELE PLASTICS INC\", 20200.0, \"Pounds\"], [\"MASTER COMPOSITES INC\", 2715.7444, \"Pounds\"], [\"MODERN WELDING CO OF FLOR IDA INC\", 4796.02, \"Pounds\"], [\"PRO-TOPS INC\", 4300.0, \"Pounds\"], [\"DAY INTERNATIONAL INC\", 10200.0, \"Pounds\"], [\"FLINT HILLS RESOURCES HOUSTON CHEMICAL LLC\", 0.0, \"Pounds\"], [\"VEOLIA ES TECHNICAL SOLUTIONS LLC\", 1.0, \"Pounds\"], [\"SR SMITH LLC\", 0.0, \"Pounds\"], [\"HAIER US APPLIANCE SOLUTIONS INC\", 3100.0, \"Pounds\"], [\"INTERPLASTIC CORP\", 2479.0, \"Pounds\"], [\"GOLDSHIELD FIBERGLASS INC 43-1\", 50456.0, \"Pounds\"], [\"WATCO TANKS INC\", 12846.0, \"Pounds\"], [\"SKEETER PRODUCTS INC\", 113660.0, \"Pounds\"], [\"CHEMTRON CORP\", 0.0, \"Pounds\"], [\"NAUTIC STAR LLC\", 145597.0, \"Pounds\"], [\"HOLLYFRONTIER TULSA REFINING LLC EAST FACILITY\", 250.0, \"Pounds\"], [\"LPI INC\", 0.0, \"Pounds\"], [\"TOTAL PETROCHEMICALS & REFININ USA INC CARVILLE POLYSTYRENE\", 10226.0, \"Pounds\"], [\"TRADEBE TREATMENT & RECYCLING LLC\", 0.0, \"Pounds\"], [\"STYLE CREST ENTERPRISES INC\", 8222.055, \"Pounds\"], [\"SHERWIN-WILLIAMS CO\", 921.0, \"Pounds\"], [\"RPS COMPOSITES VIRGINIA INC\", 5002.0, \"Pounds\"], [\"MCMILLAN ELECTRIC CO\", 2272.0, \"Pounds\"], [\"NVENT HOFFMAN\", 2230.0, \"Pounds\"], [\"OLIN RUSSELLVILLE CELL TECHNOLOGIES LLC\", 2924.42, \"Pounds\"], [\"ROHM & HAAS CHEMICALS LLC\", 8.0, \"Pounds\"], [\"ALAMO MARBLE LTD\", 4822.0, \"Pounds\"], [\"BASF CORP\", 756.0, \"Pounds\"], [\"MALLARD CREEK POLYMERS\", 384.43, \"Pounds\"], [\"YENKIN-MAJESTIC PAINT CORPORAT ION\", 1467.0, \"Pounds\"], [\"BLUE WATER DYNAMICS LLC DBA DOUGHERTY MANUFACTURING\", 0.0, \"Pounds\"], [\"WABASH NATIONAL\", 17885.0, \"Pounds\"], [\"SEEMANN COMPOSITES LLC\", 0.0, \"Pounds\"], [\"REGULATOR MARINE INC\", 121994.31800000001, \"Pounds\"], [\"MINOVA USA INC\", 7500.0, \"Pounds\"], [\"REGAL MARINE INDUSTRIES INC\", 38146.0, \"Pounds\"], [\"HAYSITE REINFORCED PLASTICS LLC\", 0.0, \"Pounds\"], [\"CHEVRON PHILLIPS CHEMICAL CO LP SWEENY COMPLEX\", 0.0, \"Pounds\"], [\"LATHAM POOL PRODUCTS INC D/B/A VIKING POOLS-CA\", 84458.0, \"Pounds\"], [\"EQUISTAR CHEMICALS LP\", 10.0, \"Pounds\"], [\"SPARTECH LLC\", 750.0, \"Pounds\"], [\"MCCLARIN PLASTICS LLC\", 28280.0, \"Pounds\"], [\"MOTIVA ENTERPRISES LLC - PORT EVERGLADES EAST TERMINAL\", 19.0, \"Pounds\"], [\"HADLOCK PLASTICS LLC A SUBSIDIARY OF A SCHULMAN INC\", 1258.0, \"Pounds\"], [\"RANGER BOATS\", 209360.0, \"Pounds\"], [\"ROSLER METAL FINISHING USA LLC\", 5173.0, \"Pounds\"], [\"CENTRAL PLAINS CEMENT CO\", 0.0, \"Pounds\"], [\"CURRIES DIV OF AADG INC\", 0.0, \"Pounds\"], [\"VALERO REFINING CO - TENNESSEE LLC\", 60.0, \"Pounds\"], [\"AOC LLC\", 5890.0, \"Pounds\"], [\"NEWPORT LAMINATES INC\", 259.0, \"Pounds\"], [\"SHAW'S FIBERGLASS & PLASTICS INC\", 11212.38, \"Pounds\"], [\"ROHM & HAAS CHEMICALS LLC\", 73.0, \"Pounds\"], [\"BRP US INC\", 4428.0, \"Pounds\"], [\"AMERICAN WHIRLPOOL\", 16730.0, \"Pounds\"], [\"SUPERIOR OIL CO INC\", 0.0, \"Pounds\"], [\"STRONGWELL - CHATFIELD DIV\", 24449.0, \"Pounds\"], [\"FIRESTONE FIBERS & TEXTILES CO\", 609.0, \"Pounds\"], [\"APPALACHIAN PLASTICS INC\", 28855.0, \"Pounds\"], [\"GOODRICH LANDING SYSTEMS CARBON OPERATIONS\", 2.3, \"Pounds\"], [\"REICHHOLD LLC 2 - AZUSA PLANT\", 2567.0, \"Pounds\"], [\"A P NONWEILER CO INC\", 0.0, \"Pounds\"], [\"CRANE COMPOSITES INC\", 8350.0, \"Pounds\"], [\"CAESARSTONE TECHNOLOGIES USA\", 4718.0, \"Pounds\"], [\"HESS SERVICES INC-NORTH YARD\", 9230.4, \"Pounds\"], [\"JETTA CORP\", 5.0, \"Pounds\"], [\"VALERO REFINING - NEW ORLEANS LLC\", 10.0, \"Pounds\"], [\"EAGLE US 2 LLC\", 0.0, \"Pounds\"], [\"G & B FIBERGLASS PRODUCTS CO INC\", 900.53, \"Pounds\"], [\"DOLPHIN INDUSTRIES LTD\", 8614.0, \"Pounds\"], [\"EASTMAN KODAK CO EASTMAN BUSINESS PARK\", 14.0, \"Pounds\"], [\"RECLAIMED ENERGY DIV SUPERIOR OIL CO INC\", 5.0, \"Pounds\"], [\"CPCA MANUFACTURING LLC\", 0.0, \"Pounds\"], [\"SEA-HUNT BOAT MANUFACTURING CO INC\", 216400.0, \"Pounds\"], [\"PIEDMONT COMPOSITES & TOOLING LLC\", 16500.0, \"Pounds\"], [\"NEXEO SOLUTIONS LLC\", 1.0, \"Pounds\"], [\"CLASSIC CULTURED MARBLE INC\", 2131.0, \"Pounds\"], [\"SCHMELZER INDS INC\", 0.0, \"Pounds\"], [\"REMA TIP TOP/NA\", 916.48, \"Pounds\"], [\"ROYAL SPA CORP\", 3910.0, \"Pounds\"], [\"ATHENA CORP\", 5593.0, \"Pounds\"], [\"THE GOODYEAR TIRE & RUBBER CO BAYPORT CHEMICAL PLANT\", 0.0, \"Pounds\"], [\"HOMECREST OUTDOOR LIVING - WADENA\", 2654.0, \"Pounds\"], [\"RESEARCH SOLUTIONS GROUP INC\", 5.0, \"Pounds\"], [\"INEOS COMPOSITES US LLC\", 8473.0, \"Pounds\"], [\"PHILLIPS 66 FERNDALE REFINERY\", 152.2, \"Pounds\"], [\"JCL INVESTMENT HOLDINGS LLC\", 12080.0, \"Pounds\"], [\"ROYAL BATHS MANUFACTURING CO\", 9942.0, \"Pounds\"], [\"BOSTON WHALER INC\", 277159.0, \"Pounds\"], [\"PPG INDUSTRIESINC-SPRINGDALE COMPLEX\", 13.02, \"Pounds\"], [\"COMPOSITE AQUATIC INNOVATIONS INC DBA STARK BULKHEADS\", 0.0, \"Pounds\"], [\"JACUZZI LUXURY BATH\", 100974.0, \"Pounds\"], [\"TARHEEL MARBLE CO INC\", 2856.0, \"Pounds\"], [\"CONCEPTUAL CREATIONS LLC\", 4135.0, \"Pounds\"], [\"ZEHRCO-GIANCOLA COMPOSITES INC\", 21550.0, \"Pounds\"], [\"EQUISTAR CHEMICALS LP\", 452.05, \"Pounds\"], [\"MAR-BAL PULTRUSION INC\", 2294.0, \"Pounds\"], [\"HAMILTON BATHWARE\", 237175.0, \"Pounds\"], [\"ENGINEERED POLYMER SOLUTIONS INC\", 208.0, \"Pounds\"], [\"R J DOUGHERTY LLC, DBA EVERGLADES BOATS - EAST\", 0.0, \"Pounds\"], [\"MOLDED FIBER GLASS CO - WEST\", 29110.0, \"Pounds\"], [\"GRANITE INLINER LLC\", 0.0, \"Pounds\"], [\"ADVANCED FIBERMOLDING INC\", 735.0, \"Pounds\"], [\"JUSTIN TANKS LLC\", 8880.0, \"Pounds\"], [\"ALTEC ENGINEERING LLC\", 3720.0, \"Pounds\"], [\"STONCOR GROUP INC\", 0.0, \"Pounds\"], [\"BRANDFX LLC\", 16267.0, \"Pounds\"], [\"VALERO REFINING - TEXAS LP HOUSTON REFINERY\", 2.0, \"Pounds\"], [\"ARKEMA INC\", 250.0, \"Pounds\"], [\"CUSTOM FIBREGLASS MANUFACTURING CO\", 33541.0, \"Pounds\"], [\"EXXONMOBIL CHEMICAL CO BAYTOWN OLEFINS PLANT (PART)\", 260.0, \"Pounds\"], [\"BELDING TANK TECHNOLOGIES\", 61818.0, \"Pounds\"], [\"NEENAH INC NEENAH MILL\", 79.0, \"Pounds\"], [\"ENGINEERED COMPOSITES\", 31300.0, \"Pounds\"], [\"PPG INDUSTRIES OHIO INC - DELAWARE\", 82.14, \"Pounds\"], [\"HOLLYFRONTIER EL DORADO REFINING LLC\", 67.0, \"Pounds\"], [\"KANEKA NORTH AMERICA LLC\", 5330.0, \"Pounds\"], [\"G&G FIBERGLASS\", 2486.0, \"Pounds\"]], \"hovertemplate\": \"Emissions (lbs)=%{customdata[1]}<br>LATITUDE=%{lat}<br>LONGITUDE=%{lon}<br>FACILITY NAME=%{customdata[0]}<br>UNIT OF MEASURE=%{customdata[2]}<extra></extra>\", \"lat\": [null, 43.8034, 37.873781, 38.601110999999996, 40.210775, 30.495769, 40.631667, 42.013969, 42.98152, 35.92307, 40.93829, 35.719429999999996, 39.756640999999995, 29.655511999999998, 45.61513, 39.53572, 29.929040000000004, 36.191642, 40.89613, 45.32569, 30.2588, 33.635098, 40.83505, 29.361045, 41.15753, 32.317820000000005, 39.33723, 38.981035999999996, 29.7125, 38.807970000000005, 34.822018, 43.665182, 30.70494, 44.789444, 34.05222, 36.278357, 40.204105, 34.72611, 29.672040000000003, 40.1632, 40.82593, 46.904621999999996, 33.60423, 39.781802, 42.896073, 40.18217, 32.63658, 32.49869, 35.50352, 43.59044, 41.466142, 39.32077, 30.502665000000004, 30.000964, 30.000964, 42.6218, 39.6209, 31.925556, 41.61673, 30.35543, 42.26383, 29.850396000000003, 30.179916, 41.45214, 30.179916, 31.2703, 34.6289, 41.62, 45.674859999999995, 35.105540000000005, 46.461477, 25.452162, 40.719159999999995, 37.421659999999996, 45.363135, 35.021570000000004, 40.8461, 35.27547, 32.612970000000004, 48.10974, 32.63712, 41.70389, 41.65486, 30.0053, 47.269940999999996, 39.81123, 41.4517, 33.41695, 41.524885, 37.0841, 33.983333, 39.041062, 43.126490000000004, 29.76833, 38.8585, 35.72082, 29.58698, 33.66462, 33.65842, 41.891834, 36.08125, 29.86307, 41.8514, 42.93843, 40.765859999999996, 40.87103, 42.552405, 33.751629, 30.8683, 40.56772, 37.663222, 41.446944, 41.468066, 47.866557, 29.73028, 27.455882, 40.04992, 29.981246999999996, 41.42204, 35.761959999999995, 41.02528, 30.190568, 35.038889000000005, 30.1537, 40.72875, 33.71155, 30.739340000000002, 33.113459999999996, 36.95794, 42.763999999999996, 39.763889, 42.665939, 33.642911, 39.098055, 35.722654, 38.52207, 37.795833, 36.10293, 48.768895, 41.441953999999996, 41.38888, 33.21391, 47.230213, 41.913903999999995, 35.961110999999995, 27.488979999999998, 36.308659999999996, 45.458219, 39.21817, 40.578374, 29.989859999999997, 42.65634, 42.31281, 29.377496999999998, 43.56646, 41.174665000000005, 34.25396, 33.854966999999995, 30.80012, 27.883611, 35.95177, 39.475889, 41.334533, 29.951649, 41.936859999999996, 45.384918, 31.568932, 33.8099, 40.025755, 36.668403999999995, 40.210243, 43.1575, 33.8099, 33.8099, 41.739167, 35.883759999999995, 40.103629999999995, 30.108459999999997, 35.43704, 37.4361, 41.45175, 27.489297999999998, 42.66431, 34.834610999999995, 48.158571, 39.51024, 32.956804, 43.876515999999995, 47.228888, 41.91403, 41.4777, 41.0698, 41.919, 45.46992, 42.76348, 29.072278000000004, 39.0556, 39.55713, 29.892778000000003, 41.590540000000004, 37.765390000000004, 29.930278, 30.05392, 39.508361, 17.972777999999998, 40.620914, 25.890033, 29.990147999999998, 29.670609999999996, 33.338840000000005, 40.042287, 30.214191999999997, 39.616615, 30.407231, 32.254155, 43.605129999999996, 33.902857, 30.063425, 40.56239, 30.233183, 38.015693, 29.614165999999997, 41.68052, 35.951944, 43.379357, 29.480339, 33.040087, 43.20129, 42.752340000000004, 29.930278, 30.326893, 43.45041, 35.99815, 34.051944, 37.043639, 32.229214, 39.747279999999996, 42.246111, 44.48239, 18.174623999999998, 39.909557, 34.494094, 39.89739, 29.771017999999998, 30.186144, 35.162890000000004, 29.964146000000003, 36.99044, 42.263109, 41.154424, 33.711459999999995, 30.2572, 41.768578999999995, 44.266909999999996, 33.614444, 41.325309999999995, 29.816653999999996, 32.35549, 34.51169, 40.88273, 40.08933, 39.9686, 39.235479999999995, 40.27218, 34.774782, 36.746159999999996, 43.03561, 41.649556, 41.755, 35.2278, 33.4669, 29.763056, 34.247446999999994, 33.398984000000006, 36.384609999999995, 40.943929, 35.612846000000005, 41.1809, 45.616345, 28.561977000000002, 41.729620000000004, 41.4737, 39.215232, 38.43196, 30.804087, 41.350446999999996, 39.666363, 41.67001, 41.324166999999996, 41.549935, 35.51218, 36.945370000000004, 38.550114, 36.429167, 39.582808, 40.877992, 40.1624, 29.826, 40.863715, 37.507728, 41.663055, 43.24921, 42.426521, 33.785472, 30.18525, 38.34353, 35.5249, 29.413774, 47.8669, 39.720447, 29.734270000000002, 35.9333, 34.27471, 41.3118, 41.137132, 44.09147, 41.810488, 41.66059, 39.497487, 40.824729999999995, 40.7159, 36.136315, 31.097156, 36.700540000000004, 41.877140000000004, 41.1771, 36.75196, 41.419579999999996, 34.70649, 30.099, 30.415002, 35.722567, 38.991482, 40.9504, 41.667992, 42.642959999999995, 39.1754, 38.931049, 36.2277, 30.216056, 41.475590000000004, 42.883253, 36.963374, 41.70382, 32.18841, 27.64845, 37.229099, 37.2676, 45.72016, 42.13872, 28.765905, 36.773148, 45.04671, 38.10103, 34.317104, 36.6821, 36.6821, 40.005559999999996, 36.1396, 43.299988, 41.656245, 18.450057, 38.385471, 41.65599, 37.11258, 43.469023, 32.22189, 44.89208, 42.80859, 39.20747, 29.718390000000003, 41.94093, 35.063280999999996, 30.47467, 30.47467, 30.47467, 29.936411, 43.09366, 30.797420000000002, 47.504082000000004, 38.59185, 27.81679, 30.120440000000002, 42.73894, 44.8854, 41.75891, 28.449014000000002, 40.846468, 39.281071999999995, 27.892309, 35.386689000000004, 29.63914, 47.16632, 36.082640000000005, 43.774167, 41.453699, 30.498379999999997, 27.82722, 45.18546, 30.507912, 41.2747, 41.546079999999996, 38.667896999999996, 32.921904, 43.0777, 27.878528000000003, 43.323688, 34.964220000000005, 42.804258000000004, 29.981281, 32.341875, 31.255403, 43.123611, 33.682990000000004, 41.211242, 39.3732, 35.045668, 33.939, 42.748329999999996, 34.816556, 29.386801000000002, 45.4874, 31.101667, 41.98509, 33.557464, 25.89339, 31.211109999999998, 30.86125, 32.96707, 34.28541, 32.438056, 39.598457, 44.492696, 36.17371, 44.02475, 34.13519, 34.99309, 41.86679, 37.605340000000005, 38.49857, 28.882695000000002, 47.517509999999994, 33.914706, 29.7596, 30.054796000000003, 32.891791999999995, 41.17921, 37.67233, 41.445209999999996, 41.46695, 39.340340000000005, 29.883333, 34.641667, 32.831944, 41.893611, 30.52347, 29.772070000000003, 43.910133, 38.620424, 41.21577, 42.869723, 30.475803000000003, 35.163070000000005, 30.061320000000002, 47.671434999999995, 34.20584, 48.472836, 27.420461, 48.12298, 31.665259999999996, 40.8074, 33.101, 41.86868, 35.262444, 27.86678, 42.5456, 34.695555999999996, 38.7512, 41.06888, 43.38496, 33.78131, 29.739444, 29.741093, 33.42579, 45.494690000000006, 45.625803999999995, 33.920359999999995, 33.774469, 46.87636, 41.54315, 33.945078, 40.6111, 43.59451, 34.30471, 25.945811, 44.184020000000004, 38.840401, 30.553364000000002, 39.58886, 27.897546999999996, 33.03503, 33.617778, 38.482337, 39.740281, 34.98646, 38.97528, 34.801583, 34.192206, 41.397778, 41.52906, 32.804207, 30.64392, 43.1779, 28.274691999999998, 39.37872, 43.20552, 35.08683, 37.29468, 39.90338, 31.500559999999997, 30.314020000000003, 39.9147, 41.63399999999999, 41.806999999999995, 27.811675, 39.31358, 29.002075, 41.504061, 41.291305, 40.77715, 41.52476, 41.44959, 48.515249, 40.74211, 45.4518, 34.12214, 46.8248, 45.344511, 38.452627, 41.26761, 28.622302, 38.575, 32.217359, 40.655278, 33.70794, 35.336110999999995, 33.425067, 34.70991, 40.13305, 30.484917, 34.137514, 29.608611, 29.495833, 38.59878, 41.2732, 39.43861, 42.552184999999994, 41.637367, 33.05511, 41.412533, 29.164240000000003, 40.098611, 42.1636, 36.379020000000004, 34.882638, 41.66984, 47.90491, 34.604459999999996, 35.087711, 31.678058, 30.320903, 35.61108, 37.047737, 35.27994, 34.7134, 29.63692, 36.30746, 27.481192999999998, 40.037420000000004, 37.9072, 33.972163, 30.354694, 36.17538, 26.637459999999997, 41.666457, 33.521667, 35.924137, 31.244428999999997, 39.733992, 41.328340999999995, 41.718270000000004, 30.225083, 37.276920000000004, 33.2044, 42.76205, 33.999886, 41.87242, 46.948746, 41.086090000000006, 41.694536, 30.70494, 41.19082, 30.6283, 38.221109999999996, 29.71247, 38.180278, 35.459179999999996, 37.081322, 35.913059999999994, 40.33432, 26.087329999999998, 35.20132, 43.07268, 33.110306, 47.48087, 35.784794, 38.221946, 36.228451, 27.810775, 46.89728, 28.90205, 37.720278, 29.829276, 40.36436, 28.855789, 46.73406, 33.131640000000004, 41.35157, 40.34395, 32.1783, 29.369166999999997, 41.82027, 41.746272, 36.1118, 39.06431, 33.970333000000004, 33.7783, 34.18078, 35.75931, 36.235061, 33.8048, 33.351516, 33.85922, 34.92685, 31.25933, 28.982134999999996, 39.729279999999996, 29.619459999999997, 45.271809999999995, 46.118735, 41.75147, 28.6753, 31.536717, 39.19332, 41.02928, 33.39502, 32.54481, 31.052, 34.485443, 38.377246, 40.132690000000004, 44.264326000000004, 40.886022, 42.7615, 44.4684, 41.1153, 29.070846999999997, 39.26853, 41.29546, 34.630259, 39.351620000000004, 27.895692999999998, 43.183071999999996, 35.61375, 43.14775, 36.01155, 41.21637, 37.986959999999996, 35.56204, 39.101391, 40.826879999999996, 40.33874, 30.148938, 43.081692, 29.73, 32.75869, 32.905556, 47.37064, 36.367360999999995, 39.78515, 41.65059, 42.604163, 35.949094, 29.9829, 42.36591, 41.5064, 41.89643, 41.045666, 31.13229, 43.617297, 39.89145, 41.68311, 44.885659999999994, 41.874744, 44.2916, 28.803967999999998, 41.93265, 35.468294, 28.987481, 35.60583, 40.0044, 41.435833, 32.54668, 41.412896999999994, 37.231190000000005, 32.943544, 38.15087, 41.35934, 27.81775, 27.887998, 43.86606, 41.679167, 28.432131, 41.657605, 41.382709999999996, 30.061002000000002, 30.047146, 29.77556, 41.262232, 34.709949, 36.236509999999996, 30.432910999999997, 31.98968, 29.598883, 38.6845, 34.235, 27.730759999999997, 35.46451, 35.953146000000004, 38.0436, 32.79578, 28.017020000000002, 28.441409999999998, 38.002596999999994, 32.41063, 47.3407, 35.07502, 34.810966, 39.04495, 29.726111, 40.048179, 38.4307, 40.766059999999996, 35.529713, 40.631403000000006, 42.8705, 44.92349, 31.245790000000003, 45.155578000000006, 30.49375, 38.87993, 42.6513, 27.523289000000002, 34.4251, 39.99791, 30.441229999999997, 43.3173, 29.7575, 34.17156, 29.704390999999998, 35.041758, 41.045663, 33.83098, 42.84874, 44.588889, 41.47647, 35.549708, 42.99257, 33.84641, 43.6003, 32.9357, 39.08733, 39.535965000000004, 32.4307, 31.293778999999997, 36.24615, 35.093058, 47.686871000000004, 36.645157, 34.409772, 40.766, 30.143939000000003, 41.648270000000004, 29.395283000000003, 43.032, 41.348234000000005, 37.018667, 37.27715, 45.3769, 38.209317, 33.83331, 34.08291, 40.305088, 39.439586, 30.20695, 33.052189, 34.740629999999996, 38.2123, 27.878425, 42.224631, 35.17637, 42.054469, 38.81818, 43.076190000000004, 40.660554, 33.52451, 37.946, 43.851259999999996, 39.176102, 35.885455, 41.729636, 45.809231, 34.870253000000005, 32.16543, 40.535292, 36.180336, 39.62125, 42.7555, 29.59198, 36.246194, 39.934324, 43.101048, 37.656690000000005, 38.711586, 34.340990000000005, 40.265833, 34.956825, 30.04209, 39.1347, 30.801109999999998, 41.351929999999996, 29.739340000000002, 37.75428, 43.310241, 28.252672999999998, 26.721349, 34.721389, 45.1526, 44.8918, 29.853056, 29.722222, 39.591, 41.6598, 41.584934999999994, 31.6717, 36.79717, 29.868333000000003, 43.126462, 34.74181, 38.67945, 31.909190000000002, 35.807501, 40.57696, 34.876111, 41.23373, 42.575416, 38.051520000000004, 35.8876, 34.04748, 34.632591999999995, 40.87918, 41.74225, 37.43026, 35.1222, 42.614329999999995, 40.734521, 35.553000000000004, 33.580769000000004, 37.618320000000004, 39.852169, 29.987664000000002, 27.865821999999998, 41.915240000000004, 31.241529999999997, 29.599987, 41.423536, 34.91386, 33.05786, 30.647691, 35.403061, 29.96183, 41.76478, 35.13847, 37.051111, 34.140417, 30.52342, 35.649613, 35.50783, 41.450590000000005, 29.722222, 32.214166, 40.631622, 35.16056, 33.962156, 42.44808, 29.76543, 34.707028, 44.66472, 27.899034000000004, 39.97221, 30.242155, 36.27898, 28.418027000000002, 35.058709, 34.757497, 42.157819, 29.929493, 27.483959999999996, 36.68803, 34.24044, 38.5352, 33.961834, 31.051546000000002, 41.656259999999996, 43.304262, 44.404740000000004, 42.770137, 30.08013, 35.19562, 29.718139, 35.6322, 33.855598, 40.7344, 33.242778, 40.279256, 29.99744, 35.650003999999996, 34.37395, 44.3817, 39.06238, 34.20793, 33.51661, 48.186583, 35.97081, 41.28303, 41.372271999999995, 30.065833, 33.27738, 41.683267, 33.98802, 34.205690000000004, 27.395714, 42.179590000000005, 37.965506, 34.66795, 33.965379, 30.18525, 30.317014, 32.05335, 42.117976, 34.05705, 29.581290000000003, 37.046288, 28.3657, 39.590258, 48.781591, 29.985529999999997, 35.049378999999995, 36.600805, 32.175795, 30.40464, 34.55767, 40.56498, 44.943836, 28.40555, 41.730540000000005, 29.772089, 39.5368, 41.716770000000004, 33.61848, 32.210149, 25.984167000000003, 38.201389, 32.7468, 40.475, 37.263740000000006, 39.67913, 45.424312, 40.502778, 41.86342, 38.19877, 43.059709999999995, 34.72938, 41.666389, 38.638615, 43.60096, 29.831111, 26.05477, 42.492490000000004, 34.085328999999994, 36.00477, 36.04913, 38.622034, 27.997594, 44.358540000000005, 39.912778, 39.52981, 32.947562, 34.75676, 39.814609000000004, 36.05822, 42.004179, 41.71712, 44.447777, 35.09733, 41.666940000000004, 37.25371, 33.682990000000004, 29.997801000000003, 33.59194, 29.732551, 35.63694, 33.80542, 40.6848, 39.597916999999995, 38.368066, 27.524201, 35.71755, 36.512899, 27.857662, 29.365559, 39.106941, 40.87386, 44.51075, 44.8614, 38.60185, 28.9792, 36.24555, 36.921031, 37.476888, 35.061115, 46.32798, 28.522340000000003, 35.06697, 35.46199, 29.706248, 38.59452, 45.2549, 34.589904, 44.85371, 40.824511, 29.256110999999997, 32.405409999999996, 41.471540000000005, 33.996666999999995, 36.1184, 27.827052000000002, 30.219059, 41.633441, 41.372, 40.7115, 38.92395, 44.9488, 45.19935, 35.2369, 37.628889, 29.588657, 42.2215, 35.350334000000004, 39.98644, 28.98759, 45.98346, 30.42979, 36.08254, 37.291636, 30.8023, 42.08408, 29.070846999999997, 39.14128, 29.717471000000003, 40.08889, 39.792479, 26.090104, 41.805547, 36.28775, 42.331579999999995, 36.1941, 43.165009999999995, 35.085843, 28.100831, 33.712920000000004, 45.441915, 40.09384, 35.91219, 35.383967, 39.737770000000005, 43.83579, 35.25885, 36.77297, 47.583604, 34.119659999999996, 44.070884, 41.460296, 31.875961, 38.942015000000005, 35.6287, 29.985278000000005, 30.2235, 33.91628, 39.594390000000004, 43.197788, 39.65162, 39.761955, 33.961209999999994, 35.91724, 35.2511, 26.798152, 39.804209, 33.605, 39.68566, 32.26356, 29.6469, 46.43273, 33.297051, 40.497609999999995, 48.830141999999995, 34.248259999999995, 32.795833, 28.922814000000002, 40.536826, 48.181538, 30.80013, 35.24606, 33.47914, 41.864329999999995, 27.81, 41.650095, 34.11033, 33.987111, 28.99454, 34.54295, 41.772483, 44.017074, 38.69384, 41.729655, 41.04653, 43.56463, 29.722274, 30.979166999999997, 33.78886, 29.756256, 43.10004, 44.188072999999996, 33.970191, 40.283836, 37.794007, 29.621647999999997, 30.8405], \"lon\": [null, -90.09968, -88.934771, -83.274167, -75.137546, -91.17311099999999, -91.36361099999999, -88.150326, -84.15099000000001, -80.02965, -75.96678, -80.60148000000001, -94.9276, -97.744546, -120.23382, -83.40217, -95.36381999999999, -81.088877, -80.85679, -93.0015, -93.2937, -86.731604, -81.335, -94.930351, -85.10734000000001, -96.61367, -84.51231, -78.174118, -95.235833, -90.64211, -92.320913, -116.707098, -88.23505, -92.908333, -117.37458000000001, -92.607861, -75.138535, -82.446667, -95.39161999999999, -79.8861, -91.14355, -124.10886299999999, -86.26281, -105.18478400000001, -88.149726, -78.61066, -97.23418000000001, -96.98890300000001, -79.17889, -83.99982, -85.83821800000001, -84.48315, -91.173395, -90.403863, -90.403863, -82.5709, -77.80124, -102.43555500000001, -83.71167, -91.04656, -94.72654, -93.977222, -93.359229, -82.68961, -93.359229, -82.2751, -97.1685, -72.713889, -94.803345, -81.60101999999999, -120.427899, -80.420284, -73.33733000000001, -95.68760999999999, -122.60007, -81.78709, -111.92662, -89.94309, -96.74059, -98.859943, -97.236999, -81.30043, -86.01451999999999, -90.42299999999999, -122.390147, -75.87474, -81.6847, -111.99973999999999, -85.06849100000001, -80.67399, -118.13333300000001, -85.626018, -87.95184, -95.1036, -84.8554, -81.75862, -95.42325, -97.15144000000001, -86.71513, -88.235403, -79.38037, -95.60591, -80.8523, -85.67562, -81.5129, -98.0396, -71.869697, -118.20884199999999, -84.1779, -98.27829, -92.634333, -81.66583299999999, -86.494618, -121.983733, -95.08981, -81.347507, -76.7166, -94.214028, -85.75276, -84.32824000000001, -93.7832, -93.325823, -120.589722, -91.99571999999999, -111.94065, -117.87123000000001, -97.57894, -80.30759, -78.12420300000001, -72.152, -75.42277800000001, -85.99215, -97.19698299999999, -108.625, -81.318599, -121.3716, -87.146389, -84.12101, -122.519272, -72.07885300000001, -88.30116, -111.84111999999999, -122.33231699999999, -88.235682, -83.941389, -81.41807, -82.33372, -122.608599, -78.14853000000001, -74.21441800000001, -95.4145, -77.05824, -85.27223000000001, -94.90244799999999, -96.7354, -80.232179, -78.0711, -118.33690700000001, -83.27844, -97.241383, -101.87371, -81.10122199999999, -88.755775, -93.887272, -80.60365999999999, -109.871901, -97.102265, -118.2383, -84.201045, -78.930964, -75.591537, -88.3125, -118.2383, -118.2383, -71.273889, -83.58265, -78.5297, -90.89676999999999, -86.0245, -95.6859, -86.11752, -80.35481999999999, -91.90905, -82.623583, -122.14643600000001, -119.757446, -93.455663, -91.16153299999999, -122.337769, -87.71623000000001, -85.6042, -86.1943, -80.66558, -91.74205, -86.08348000000001, -95.744703, -84.62163000000001, -82.94526, -93.973333, -81.50959, -87.09421, -89.943889, -90.64395999999999, -86.054861, -66.231944, -83.622568, -80.272037, -93.946735, -98.1592, -81.28408, -86.01519, -93.30859, -86.86863199999999, -87.241979, -101.429686, -71.212805, -84.242506, -94.061066, -84.19073, -91.051, -88.912695, -95.057777, -85.97636999999999, -101.873889, -123.332474, -95.959556, -80.207762, -86.26666, -86.09668, -89.943889, -81.745758, -89.73149000000001, -87.98127, -117.72783500000001, -88.354639, -101.506935, -94.771568, -89.092038, -72.01343, -65.873515, -75.130454, -81.596135, -83.41636, -95.018456, -93.331209, -86.54326999999999, -93.930138, -120.10398, -88.612888, -103.65899999999999, -117.86398999999999, -91.07231999999999, -88.279271, -85.416692, -84.38638900000001, -89.11270999999999, -95.107603, -96.64333, -88.187252, -82.32295, -76.17814, -83.1369, -76.5648, -84.18773, -88.91658699999999, -81.88902, -74.86779, -86.019805, -90.28416700000001, -86.05318, -81.93864, -95.0225, -97.966973, -84.735046, -86.42385999999999, -76.855117, -84.261543, -84.6048, -122.62538700000002, -81.547297, -85.98956, -85.60372, -96.176369, -85.23487, -83.277491, -86.321626, -74.859163, -81.35916999999999, -82.034722, -85.797174, -78.3057, -120.07403000000001, -90.487472, -77.223611, -87.692818, -96.75842800000001, -76.65679, -94.92191700000001, -85.52981700000001, -95.82413299999999, -87.47964300000001, -93.6436, -123.270421, -96.554459, -96.95631, -98.8523, -87.2431, -95.263726, -121.9967, -88.467821, -95.08986, -96.0141, -81.5916, -79.4485, -87.842238, -69.117875, -90.53795799999999, -86.02249, -77.950366, -84.94543, -75.3985, -96.10841500000001, -97.365466, -119.7693, -80.80601999999999, -80.4586, -85.10431, -85.75189, -81.14095, -90.91781999999999, -86.670998, -91.524977, -88.15025200000001, -83.3995, -86.022111, -85.30627, -94.64955, -85.910892, -87.01179, -89.575417, -85.59473, -78.832909, -78.12419799999999, -71.16343, -110.90921999999999, -97.372827, -93.255997, -89.5385, -94.19081, -71.47634000000001, -97.089636, -79.411912, -93.05159, -102.61294000000001, -81.634547, -97.0895, -97.0895, -87.643266, -96.0149, -123.34651000000001, -86.008071, -66.656901, -93.761551, -80.40656, -84.07283000000001, -70.99458, -98.18386, -87.89421999999999, -85.67513000000001, -84.48108, -95.25343000000001, -80.58815, -89.374489, -91.214563, -91.214563, -91.214563, -89.972954, -85.23366, -88.08354, -122.750727, -77.70846999999999, -97.49643, -93.40128, -94.2321, -87.8748, -81.23075, -81.35179699999999, -84.594852, -81.637901, -82.718964, -93.35555500000001, -95.04694, -88.5114, -96.04329, -87.728889, -86.133553, -88.32763, -82.69485, -92.98572, -91.181783, -85.87188, -83.64246, -88.461671, -96.43650500000001, -89.1976, -82.746732, -83.081097, -79.8091, -73.985333, -90.392747, -102.5556, -86.251336, -88.531362, -112.08635, -80.81681999999999, -81.50851999999999, -85.192299, -118.13573999999998, -94.69586, -88.20647199999999, -82.425925, -94.13887, -97.670833, -76.51235, -86.79967099999999, -80.2759, -83.23278, -84.00163, -111.5486, -81.63854, -94.69, -77.799523, -93.871625, -95.97559, -91.60991, -117.91833999999999, -97.92356, -80.79101999999999, -120.99196, -89.1382, -97.900132, -122.31175, -84.268982, -95.7042, -93.753863, -96.673052, -83.66378, -97.39251999999999, -87.01731, -81.62865, -84.51101, -93.958333, -87.038611, -96.845833, -84.017219, -87.19403, -95.01573, -70.508116, -93.245149, -84.96076, -78.81506, -91.208107, -88.2284, -90.59353, -117.324849, -80.01925, -122.560194, -82.544341, -123.44617, -99.0004, -76.9075, -80.02995, -80.79989, -80.76052800000001, -82.72893, -88.25471999999999, -81.196667, -93.9894, -85.08074, -94.30839, -84.27098000000001, -95.00694399999999, -95.094145, -112.06736000000001, -91.7305, -122.734848, -118.31783, -118.290696, -96.85757, -81.52865, -80.937711, -80.630833, -72.97916, -97.02884, -97.439031, -69.75685, -90.070774, -91.202428, -85.86705, -81.89830400000001, -80.20629, -83.831389, -99.308835, -86.218331, -78.32223, -84.62371, -92.013194, -83.448688, -88.216944, -86.275317, -88.312353, -96.37416, -87.96739000000001, -80.69407, -84.30335, -86.27635, -90.07365, -120.52032, -82.93879, -97.20213000000001, -91.86843, -75.2005, -87.131, -90.296, -82.67548599999999, -84.4646, -95.399777, -88.118459, -81.45451700000001, -82.50918, -90.48279000000001, -86.17055, -122.213824, -111.95801999999999, -122.57911000000001, -84.51205999999999, -94.5033, -97.524914, -90.088466, -85.8954, -80.811042, -82.791667, -95.853431, -80.35638900000001, -80.9193, -94.428611, -112.061853, -84.9568, -84.23742, -91.17392, -86.830874, -95.05194399999999, -81.149722, -90.20443, -81.32838000000001, -84.22459, -71.84844, -87.567131, -97.47266, -88.197281, -82.21869000000001, -84.610556, -83.39395999999999, -92.45234, -92.13883100000001, -86.03374000000001, -97.09903, -106.73615, -85.25779, -89.130303, -91.23901500000001, -88.91298, -88.35866, -80.93817, -82.23299999999999, -95.04698, -88.25990999999999, -80.363185, -83.14503, -87.9271, -81.031547, -94.10423, -82.83546, -82.02589, -87.716767, -81.845, -79.970763, -89.045353, -84.22010300000001, -85.846082, -83.51931, -91.069424, -95.5565, -92.6308, -86.07236999999999, -83.78540100000001, -72.48716, -122.59810900000001, -85.2327, -86.014368, -88.23953, -81.44606999999999, -91.2382, -85.78094, -95.22496, -85.75361099999999, -78.38705, -94.549797, -92.63557, -75.32323000000001, -80.13091899999999, -81.20716, -85.6961, -92.672944, -115.93609, -84.26631, -85.827115, -89.701149, -97.436658, -96.86095999999999, -97.90243000000001, -84.285833, -93.966729, -77.86449, -97.886602, -95.09898000000001, -85.35946, -86.32413000000001, -79.66008000000001, -94.8067, -94.911111, -87.75163, -87.877057, -87.26236, -84.09822, -89.679, -118.2351, -80.96251, -84.01838000000001, -95.866413, -118.2431, -81.27300699999999, -117.83853, -81.85119, -86.23328000000001, -80.92805, -82.96726, -95.03844000000001, -123.02345, -122.96808200000001, -71.1182, -96.5495, -97.149783, -84.49081, -81.47986999999999, -111.82762, -94.28919, -97.43783, -85.82588, -82.597162, -74.83006999999999, -85.422997, -111.90475900000001, -84.7397, -68.8844, -77.468133, -95.75036300000001, -84.3632, -86.1236, -87.017268, -104.5167, -82.751251, -88.087958, -84.26295999999999, -71.48759, -76.56456999999999, -84.9626, -100.91221, -87.53048000000001, -80.40139, -84.95274, -79.89903000000001, -93.338815, -88.894954, -95.102778, -111.57642, -96.666389, -122.30276, -92.450972, -98.77675, -86.16375, -71.162666, -83.844698, -90.4437, -83.04774, -85.8296, -79.85184, -81.541763, -97.35257, -84.20004499999999, -104.86868, -86.14824, -97.0929, -80.80079, -88.9336, -81.294315, -85.64453, -97.71953, -80.924406, -84.25416, -75.1145, -72.835278, -92.387672, -88.329773, -95.71885, -97.257357, -85.89474, -86.31917, -97.482552, -82.537056, -92.48998, -83.449722, -81.15718299999999, -86.283101, -81.85715, -94.068815, -93.769768, -95.31352, -85.894049, -84.955383, -95.27664, -89.031204, -95.27226, -95.01360600000001, -121.74323000000001, -83.817044, -97.65202, -84.65352, -79.969818, -122.2532, -97.24715, -81.87881, -81.38888, -86.11790500000001, -97.15391, -122.2289, -85.337627, -76.672133, -84.51196, -95.08945, -82.425299, -90.351776, -81.51439, -100.98965, -79.883989, -106.425, -89.60205, -82.42078000000001, -122.838124, -91.17874, -104.82418, -84.5123, -82.552848, -84.9227, -75.031763, -88.69984000000001, -123.3453, -94.903056, -79.42336, -95.255214, -89.62508100000001, -81.391134, -117.26156999999999, -87.93297, -88.072778, -84.53644, -79.18197099999999, -84.20639, -118.32878000000001, -84.2234, -80.6931, -108.604156, -122.09801999999999, -99.6817, -89.273512, -83.20489, -85.258925, -117.1919, -88.300054, -85.729364, -96.69498, -85.61892399999999, -86.01914000000001, -82.449078, -74.355, -86.330347, -88.494917, -87.487822, -87.94704, -85.847511, -117.11688000000001, -118.06062, -79.87691099999999, -98.686611, -81.56145, -80.225131, -82.37526, -85.8481, -82.708499, -83.318986, -101.70697, -87.998088, -90.832031, -88.76893000000001, -80.347521, -112.17371000000001, -121.28525, -104.21504, -94.570908, -81.52678900000001, -85.800597, -122.68831000000002, -89.66900600000001, -110.90579, -74.54091899999999, -95.858096, -75.95498, -73.705667, -97.99965, -93.137889, -85.837121, -88.412389, -97.37401, -93.191633, -85.07544, -79.901111, -88.205158, -93.83247, -84.7122, -83.27805, -86.33478000000001, -95.02240400000001, -121.39441000000001, -123.33988000000001, -82.152274, -81.82865100000001, -81.131111, -94.6801, -88.2989, -94.09527800000001, -95.126944, -75.634, -86.0283, -87.548243, -98.99051999999999, -119.86241000000001, -93.968333, -87.939868, -82.36820999999999, -90.20496999999999, -102.22066, -90.574986, -75.55435, -81.97166700000001, -77.09272, -73.853563, -91.39854, -77.55041, -117.64165, -84.92766800000001, -74.12225, -88.34116, -95.69736999999999, -80.95766, -82.88835999999999, -86.433441, -77.0291, -86.781281, -122.1021, -75.354897, -93.94497199999999, -82.740876, -71.51853, -82.41982, -98.281927, -84.863845, -82.33265, -80.23496, -86.95495600000001, -119.615756, -95.37606, -91.1352, -77.07087, -88.33416700000001, -84.84613900000001, -87.19456, -77.34405, -97.58885, -86.15889, -95.126944, -101.741388, -80.54632, -101.84640999999999, -81.23082099999999, -92.29904, -95.17896, -92.181917, -88.2249, -82.753483, -82.47312, -93.27438599999999, -86.67007, -81.387027, -97.959685, -92.245041, -71.115941, -95.370232, -80.37217, -114.62055, -118.39217, -90.44905, -84.175742, -97.436189, -86.16011, -96.57301, -89.76995, -87.956786, -90.916, -86.08008000000001, -95.26875, -80.5412, -118.34998999999999, -112.9681, -80.442222, -86.56430999999999, -95.38429000000001, -84.132896, -80.060416, -93.73857, -108.55236000000001, -118.42105, -84.37593000000001, -96.76719399999999, -114.85898, -81.34607, -82.541562, -94.071388, -80.43013499999999, -85.906836, -117.35721000000001, -97.10417, -82.545511, -72.36674599999999, -76.780518, -86.74941, -118.242108, -96.95631, -91.24377700000001, -84.204034, -88.288061, -84.63786, -95.44738000000001, -88.325437, -80.79715, -74.438911, -122.44732900000001, -90.44728, -94.62463199999999, -82.190403, -94.809925, -95.47310999999999, -117.44775, -98.3125, -93.343622, -80.67676999999999, -85.99689000000001, -95.019464, -82.4043, -81.26919000000001, -85.79555, -96.478679, -80.28416700000001, -85.861944, -81.24219000000001, -78.5793, -80.16653000000001, -91.31424, -122.761402, -80.09916700000001, -80.7669, -84.54531, -78.8394, -87.61164000000001, -86.041496, -95.258481, -84.20769, -93.957222, -80.15601, -84.65134, -84.042178, -79.90460999999999, -87.34741, -86.4556, -82.03123199999999, -69.73987, -82.987222, -84.28979, -111.768409, -82.36086999999999, -75.42227, -79.84236, -88.300945, -93.04055, -68.375596, -106.64553000000001, -85.98988, -93.21498000000001, -117.9966, -93.983184, -86.24258, -95.256835, -84.43536, -118.22565, -81.6733, -74.598083, -81.686216, -82.550978, -80.88641, -77.189712, -82.54399599999999, -82.47398299999999, -94.366783, -98.02141, -87.98285, -123.1918, -90.132696, -95.3549, -115.07995, -94.881332, -94.299113, -92.42789, -95.441419, -81.38311, -80.63452, -82.52031, -95.251079, -90.18551, -122.7046, -86.950879, -93.24043, -84.952383, -98.091667, -94.85082, -82.01677, -88.499306, -96.0011, -82.693852, -91.075784, -87.461568, -83.1107, -80.2885, -78.1897, -92.28408, -93.37317, -93.1521, -122.127222, -98.58223199999999, -83.1472, -80.71484699999999, -82.95285, -80.90969, -94.3688, -89.0506, -76.59151999999999, -81.098826, -83.2789, -80.05502, -95.75036300000001, -122.13503, -95.06800799999999, -84.59234000000001, -76.997984, -80.127101, -80.951134, -92.59880600000001, -85.29449, -95.8117, -93.22789, -90.08338499999999, -82.00971899999999, -117.91173, -122.4751, -74.87413000000001, -82.0906, -87.999188, -86.16453, -92.16726, -81.1989, -81.778, -117.56851100000002, -117.93488, -88.527861, -88.183927, -81.350367, -99.354196, -97.4907, -90.392778, -93.2869, -116.86203, -74.54943, -77.629836, -85.13884, -84.2265, -80.98831, -81.14515, -80.8855, -80.092433, -82.211484, -83.46, -86.19582, -81.05481, -95.0479, -95.13664, -86.81974, -80.09127, -122.69211399999999, -84.47008000000001, -97.2275, -80.868248, -79.785659, -122.13856899999999, -83.27768, -80.58716, -112.12138999999999, -80.80252, -97.593611, -81.40323199999999, -87.98925, -118.165944, -80.91589, -117.45688, -87.74834, -85.558497, -75.35199, -86.00979, -85.18081, -94.77407, -95.254401, -88.02883299999999, -118.21051000000001, -95.011032, -85.21301, -88.460072, -81.00698100000001, -83.097351, -96.87414, -95.08512900000001, -100.6286], \"name\": \"\", \"radius\": 10, \"subplot\": \"mapbox\", \"type\": \"densitymapbox\", \"z\": [5565.0, 0.0, 0.0, 340.0, 140.0, 1600.0, 1375.0, 6795.0, 359.0, 25.0, 3922.0, 7636.0, 4400.0, 5180.0, 0.0, 1707.0, 80310.0, 0.0, 7380.0, 12809.86528, 1685.0, 750.0, 5794.09, 230.0, 1436.0, 107559.0, 14800.0, 1178.0, 6.0, 3980.0, 5025.1, 119968.0, 2811.18, 0.4, 0.0, 6016.7, 6438.0, 26.0, 23.0, 0.0, 9244.35, 5036.0, 0.0, 0.0, 150.0, 11519.0, 0.0, 32116.0, 11000.0, 1347.0, 305807.0, 0.0, 0.0, 569.5, 451.63, 6561.0, 205247.0, 2899.0, 6484.0, 0.0, 5923.0, 0.0, 5860.0, 2992.0, 473.0, 0.0, 0.0, 23.39, 14847.36, 0.0, 137243.0, 54100.0, 46.0, 25678.0, 15088.0, 0.0, 2668.4, 0.0, 19100.0, 98932.0, 0.0, 2662.0, 36778.0, 0.0, 37.0, 4372.0, 5.0, 9681.0, 340.0, 0.0, 4506.0, 9017.0, 0.0, 335.0, 3732.0, 16564.0, 2109.0, 17214.0, 0.0, 50.0, 117.0, 8692.6, 0.0, 250.0, 3071.0, 20587.96, 2190.0, 0.33504, 400.0, 6806.0, 19375.0, 0.0, 306.0, 9227.0, 0.82, 525.64, 0.0, 0.0, 13939.0, 134030.0, 51000.0, 710.0, 1.82, 3031.24, 0.0, 17421.0, 200364.0, 97200.0, 62500.0, 4437.0, 340.0, 16159.0, 0.0, 1700.0, 204.0, 15709.0, 45238.0, 250.0, 12923.0, 7311.18, 2100.0, 75272.0, 673.0, 14237.0, 157.0, 24575.0, 40870.0, 6174.0, 5997.0, 0.0, 5356.0, 1697.0, 0.0, 24945.0, 6323.34, 0.0, 190.0, 280.0, 118629.0, 2.5, 250.0, 5.0, 73388.0, 1061.9, 5460.0, 0.0, 51316.0, 0.0, 792.0, 155788.0, 4905.0, 0.0, 0.0, 0.0, 25011.0, 220.0, 250.0, 7255.0, 0.0, 205693.0, 93446.0, 157700.0, 440.0, 61.0, 11507.0, 292.0, 2142.0, 40687.0, 0.0, 1786.0, 139308.0, 88820.0, 1276.0, 14522.79, 0.56, 8.0, 750.0, 320.0, 17.0, 0.0, 2527.26, 11.0, 5.0, 15.51, 10703.0, 173.0, 0.0, 70.0, 31782.9, 0.0, 5025.0, 4.0, 141.8, 5252.0, 6016.0, 0.0, 1.0, 0.0, 2100.0, 355.0, 8899.8, 0.0, 0.0, 0.4, 0.0, 13440.0, 112.0, 4735.0, 1831.0, 0.0, 4423.0, 4013.91, 0.0, 11363.3, 356.0, 13820.0, 4945.0, 0.0, 8046.27, 0.0, 2115.0, 101980.0, 0.0, 35.291, 45000.0, 70060.0, 0.0, 48000.0, 753.0, 8.45, 440.0, 1886.0, 1382.0, 109051.71, 8106.6, 4974.0, 40853.0, 49.47, 114440.0, 180.0, 2537.49, 1081.37, 7.0, 0.0, 18149.0, 0.0, 6412.0, 97910.6, 280.0, 804.0, 6752.0, 6.0, 5911.0, 284.8025, 0.0, 77154.0, 227204.0, 107.0, 0.0, 0.0, 0.0, 141980.0, 663550.0, 58.0, 0.0, 70698.5, 0.0, 3206.0, 0.006999999999999999, 5138.0, 11830.8, 543.0, 305.8, 56.0, 3286.6, 727.0, 8423.0, 620.0, 4120.0, 5.0, 0.0, 15900.0, 6451.0, 250.0, 75289.2, 0.0, 189.6, 5.0, 8749.0, 34889.0, 9.0, 13422.0, 14379.38, 162646.0, 7.0, 0.0, 53623.0, 52475.06, 1462.0, 149401.0, 250.0, 1060.0, 336.0, 5.0, 338.0, 29860.0, 32194.0, 22612.5, 0.0, 0.0, 3425.0, 0.0, 76.0, 12605.0, 52945.407999999996, 4645.0, 7912.0, 0.0, 18285.0, 158.0, 21505.0, 43676.0, 49720.0, 3440.0, 0.0, 16922.0, 0.0, 22.0, 6515.0, 0.0, 19849.0, 904.0, 6830.0, 0.0, 103640.0, 829.0, 0.0, 0.0, 250.0, 0.0, 69360.0, 0.0, 217312.0, 16705.0, 512.0, 0.0, 71449.0, 2697.0, 47.0, 493.0, 0.0, 8300.0, 35408.0, 0.0, 0.0, 0.0, 46.0, 3360.0, 0.0, 0.0, 0.0, 0.0, 0.0, 11833.0, 58692.0, 5817.0, 157700.0, 47420.0, 3100.0, 8906.0, 18067.0, 115.0, 79000.0, 470.82, 333.0, 153437.0, 19070.0, 4975.0, 0.0, 0.3, 131683.0, 36512.0, 2816.91, 877.1, 5.0, 67744.0, 12841.09, 122854.0, 7.1, 1.0, 27757.0, 8436.2, 0.0, 0.0, 0.0, 9806.0, 1430.0, 8243.0, 18045.0, 61220.0, 2903.0, 46452.0, 5542.08, 20988.72, 13.0, 0.0, 440092.78, 2483.0, 14653.0, 250.0, 1638.0, 2304.0, 35449.0, 250.0, 0.0, 0.0, 50092.0, 2000.0, 2557.0, 20.0, 7271.7, 1122.0, 3.0, 0.0, 29.86, 250.0, 5565.0, 393.4, 9.81, 7367.0, 0.0, 28.0, 54.0, 0.0, 71.0, 97853.0, 0.0, 10694.0, 0.0, 0.0, 17357.0, 18.0, 194767.0, 4.0, 8729.0, 109500.0, 186.0, 61311.0, 4246.0, 165540.0, 14709.0, 91924.0, 0.0, 138.0, 13537.0, 8957.0, 17.14, 1463.39, 0.0, 19412.0, 3560.0, 580.0, 540.0, 0.0, 21575.0, 0.0, 1742.0, 3.0, 0.0, 2957.0, 3465.75, 0.0, 250.0, 0.0, 29580.0, 0.0, 433.0, 417.0, 168389.0, 4495.0, 45900.0, 1464.0, 0.0, 0.0, 5685.0, 3679.0, 24270.0, 18900.0, 815.0, 26692.0, 0.0, 1487.0, 0.0, 7556.0, 1200.0, 0.0, 0.0, 250.0, 23.0, 4675.0, 34209.0, 52.6, 112.0, 299.5, 0.0, 2960.0, 37.0, 7431.0, 16.0, 5.0, 0.0, 26175.0, 5592.0, 24407.0, 20110.0, 24278.0, 0.0, 14248.0, 5084.0, 9454.0, 10636.0, 1110.0, 3500.0, 10275.09, 0.0, 2090.0, 34343.0, 0.0, 3734.0, 100.0, 2518.0, 6.08, 27220.0, 750.0, 0.0, 6495.0, 3.0, 1.0, 2243.0, 24146.0, 398.0, 250.0, 5101.1, 60969.0, 5255.0, 18487.54, 295460.0, 1174.0, 0.0, 462.0, 279.0, 12170.0, 361.0, 5.0, 561.0, 0.0, 0.0, 89207.0, 0.0, 300.0, 12.0, 24764.0, 26266.0, 13891.0, 250.0, 34.8, 115.0, 1732.54, 1.0, 31405.0, 441.0, 79917.0, 13913.235, 0.34, 77492.0, 0.0, 1121.0, 24520.0, 103720.0, 33609.76, 0.0, 5988.0, 3404.0, 0.0, 6.0, 138.0, 7900.0, 79683.94, 2290.0, 530.5, 8.0, 1.0, 117.1, 170.0, 22393.0, 0.0, 171.0, 0.0, 630.0, 2851.0, 10873.7, 340.0, 900.0, 140000.0, 17343.0, 61152.0, 7601.0, 228283.0, 0.0, 13000.0, 250.0, 168.0, 0.0, 7977.0, 8057.0, 6312.73, 0.0, 0.0, 54928.0, 0.0, 0.0, 0.0, 139573.0, 33000.0, 37176.0, 48.0, 108.54, 79.0, 16241.0, 27246.0, 3687.0, 2772.0, 14805.0, 11900.0, 6997.0, 11181.0, 337.0, 116892.0, 750.0, 149.0, 250.0, 86064.0, 5.0, 1160.0, 107.3, 0.0, 49.0, 2190.0, 34395.0, 3447.0, 0.0, 18.0, 123.0, 252637.0, 1303.0, 0.0, 17257.0, 25899.0, 88997.0, 181337.0, 70907.0, 37884.8, 13887.0, 35068.0, 206.0, 45411.0, 393.0, 9081.0, 41946.0, 4574.7, 0.0, 0.0, 466323.0, 270.0, 37.0, 1777.0, 25540.0, 24.0, 12900.0, 947.0, 3823.0, 40967.0, 10999.0, 54046.0, 19176.8, 0.0, 56440.0, 194.0, 22459.0, 381760.0, 750.0, 1049.0, 24.0, 642.0, 15172.0, 1749.0, 1.1, 7311.0, 93.0, 6926.0, 0.0, 74.0, 202744.0, 49432.0, 68.0, 79.0, 1000.0, 3133.0, 4073.0, 0.0, 7570.0, 700.0, 7092.0, 448.0, 72533.0, 170472.0, 3916.03, 49402.0, 1578.0, 23.0, 18875.0, 99560.0, 0.0, 40.0, 3924.6, 6256.0, 80.0, 34286.0, 505.0, 1.0, 3773.0, 0.0, 12375.27, 6287.0, 3166.0, 0.0, 6000.0, 134023.0, 944.0, 5.0, 877.0, 1562.0, 0.0, 5300.0, 5.0, 0.0, 1350.0, 0.0, 43000.0, 132775.0, 9028.0, 252.0, 124.9, 628.97, 1.16, 18752.0, 78.0, 19869.0, 3872.0, 56.0, 54400.0, 1500.0, 33006.0, 68283.17, 379.86, 11909.0, 91.0, 0.0, 0.0, 1147.0, 5.0, 4.95, 64801.0, 0.0, 7031.0, 277218.0, 49668.1, 5996.0, 19902.0, 11270.0, 4388.01, 15.0, 210.0, 13616.0, 21568.0, 133503.0, 0.0, 106.0, 0.0, 0.0, 13499.7, 0.2, 16522.0, 0.0, 187.0, 6095.22, 23.23, 40.1, 3000.0, 2799.0, 12927.0, 14600.0, 180.0, 1195.0, 274.79, 5691.0, 2599.0, 0.58, 165175.0, 43517.0, 81400.0, 0.0, 2034.0, 22.0, 780.0, 8327.0, 0.0, 625.0, 19000.0, 204943.0, 62463.0, 37.0, 5.0, 0.0, 33590.0, 27039.0, 821.0, 20077.0, 8227.0, 0.0, 37.0, 5.61, 10711.96, 0.0, 49617.0, 2218.755, 6522.0, 191.0, 41717.0, 1010.6, 73212.0, 4089.0, 2095.0, 86.09, 8374.0, 4551.0, 4986.0, 74205.0, 250.0, 5.0, 1363.0, 2927.0, 25678.0, 23126.07, 0.0, 24.0, 44800.0, 50.0, 4407.0, 0.0, 91120.0, 10707.0, 0.0, 33867.0, 9000.0, 0.0, 0.0, 19700.0, 25908.0, 1e-07, 490.0, 120370.0, 15800.0, 5382.0, 0.0, 13614.0, 141395.0, 17640.0, 0.0, 38.0, 73747.0, 0.23, 22466.9, 139800.0, 6825.0, 690.0, 88030.0, 33068.0, 2780.0, 61.0, 43.52, 0.0, 1826.5, 0.0, 6959.4, 0.0, 13195.0, 103238.0, 16197.0, 0.0, 4355.0, 6487.0, 28366.0, 3623.0, 750.0, 16609.0, 15238.0, 90274.0, 53791.0, 0.03, 21.0, 5.0, 0.04, 22.0, 134.0, 21923.0, 0.0, 48600.0, 22455.0, 20932.0, 11530.0, 0.0, 29457.0, 1309.0, 0.0, 455.12, 82.0, 5900.0, 46479.0, 5508.7, 276.0, 52231.0, 2421.2, 38410.0, 175532.0, 0.0, 47554.8, 891.63, 1507.0, 7987.0, 5851.0, 0.0, 0.0, 4501.84, 43009.0, 31580.0, 250.0, 3.0, 0.0, 5097.0, 2737.0, 21582.0, 77258.88, 701.905, 20296.0, 7716.0, 0.38, 0.0, 0.0, 33820.0, 34085.0, 750.0, 0.0, 26593.0, 0.0, 424.0, 44.82, 54.0, 1227.0, 829.0, 8100.0, 13985.0, 2378.7, 5476.0, 16900.0, 4000.0, 0.0, 12291.0, 0.0, 52117.0, 0.0, 1918.0, 0.0, 0.0, 10960.34, 0.0, 200.0, 4470.0, 4644.0, 0.0, 0.0, 3459.0, 14947.0, 0.0, 5331.0, 64902.0, 750.0, 1286.0, 14.0, 0.0, 36.74, 1141.0, 0.22, 1816.65, 8528.0, 1085.0, 1612.0, 250.0, 160.0, 5.0, 0.0, 37419.0, 13331.91, 413.0, 50658.0, 552.0, 339.0, 3394.0, 186478.0, 24144.72, 20200.0, 2715.7444, 4796.02, 4300.0, 10200.0, 0.0, 1.0, 0.0, 3100.0, 2479.0, 50456.0, 12846.0, 113660.0, 0.0, 145597.0, 250.0, 0.0, 10226.0, 0.0, 8222.055, 921.0, 5002.0, 2272.0, 2230.0, 2924.42, 8.0, 4822.0, 756.0, 384.43, 1467.0, 0.0, 17885.0, 0.0, 121994.31800000001, 7500.0, 38146.0, 0.0, 0.0, 84458.0, 10.0, 750.0, 28280.0, 19.0, 1258.0, 209360.0, 5173.0, 0.0, 0.0, 60.0, 5890.0, 259.0, 11212.38, 73.0, 4428.0, 16730.0, 0.0, 24449.0, 609.0, 28855.0, 2.3, 2567.0, 0.0, 8350.0, 4718.0, 9230.4, 5.0, 10.0, 0.0, 900.53, 8614.0, 14.0, 5.0, 0.0, 216400.0, 16500.0, 1.0, 2131.0, 0.0, 916.48, 3910.0, 5593.0, 0.0, 2654.0, 5.0, 8473.0, 152.2, 12080.0, 9942.0, 277159.0, 13.02, 0.0, 100974.0, 2856.0, 4135.0, 21550.0, 452.05, 2294.0, 237175.0, 208.0, 0.0, 29110.0, 0.0, 735.0, 8880.0, 3720.0, 0.0, 16267.0, 2.0, 250.0, 33541.0, 260.0, 61818.0, 79.0, 31300.0, 82.14, 67.0, 5330.0, 2486.0]}],                        {\"coloraxis\": {\"colorbar\": {\"title\": {\"text\": \"Emissions (lbs)\"}}, \"colorscale\": [[0.0, \"#0d0887\"], [0.1111111111111111, \"#46039f\"], [0.2222222222222222, \"#7201a8\"], [0.3333333333333333, \"#9c179e\"], [0.4444444444444444, \"#bd3786\"], [0.5555555555555556, \"#d8576b\"], [0.6666666666666666, \"#ed7953\"], [0.7777777777777778, \"#fb9f3a\"], [0.8888888888888888, \"#fdca26\"], [1.0, \"#f0f921\"]]}, \"legend\": {\"tracegroupgap\": 0}, \"mapbox\": {\"center\": {\"lat\": 0, \"lon\": 0}, \"domain\": {\"x\": [0.0, 1.0], \"y\": [0.0, 1.0]}, \"style\": \"stamen-terrain\", \"zoom\": 0}, \"margin\": {\"t\": 60}, \"template\": {\"data\": {\"bar\": [{\"error_x\": {\"color\": \"#2a3f5f\"}, \"error_y\": {\"color\": \"#2a3f5f\"}, \"marker\": {\"line\": {\"color\": \"#E5ECF6\", \"width\": 0.5}}, \"type\": \"bar\"}], \"barpolar\": [{\"marker\": {\"line\": {\"color\": \"#E5ECF6\", \"width\": 0.5}}, \"type\": \"barpolar\"}], \"carpet\": [{\"aaxis\": {\"endlinecolor\": \"#2a3f5f\", \"gridcolor\": \"white\", \"linecolor\": \"white\", \"minorgridcolor\": \"white\", \"startlinecolor\": \"#2a3f5f\"}, \"baxis\": {\"endlinecolor\": \"#2a3f5f\", \"gridcolor\": \"white\", \"linecolor\": \"white\", \"minorgridcolor\": \"white\", \"startlinecolor\": \"#2a3f5f\"}, \"type\": \"carpet\"}], \"choropleth\": [{\"colorbar\": {\"outlinewidth\": 0, \"ticks\": \"\"}, \"type\": \"choropleth\"}], \"contour\": [{\"colorbar\": {\"outlinewidth\": 0, \"ticks\": \"\"}, \"colorscale\": [[0.0, \"#0d0887\"], [0.1111111111111111, \"#46039f\"], [0.2222222222222222, \"#7201a8\"], [0.3333333333333333, \"#9c179e\"], [0.4444444444444444, \"#bd3786\"], [0.5555555555555556, \"#d8576b\"], [0.6666666666666666, \"#ed7953\"], [0.7777777777777778, \"#fb9f3a\"], [0.8888888888888888, \"#fdca26\"], [1.0, \"#f0f921\"]], \"type\": \"contour\"}], \"contourcarpet\": [{\"colorbar\": {\"outlinewidth\": 0, \"ticks\": \"\"}, \"type\": \"contourcarpet\"}], \"heatmap\": [{\"colorbar\": {\"outlinewidth\": 0, \"ticks\": \"\"}, \"colorscale\": [[0.0, \"#0d0887\"], [0.1111111111111111, \"#46039f\"], [0.2222222222222222, \"#7201a8\"], [0.3333333333333333, \"#9c179e\"], [0.4444444444444444, \"#bd3786\"], [0.5555555555555556, \"#d8576b\"], [0.6666666666666666, \"#ed7953\"], [0.7777777777777778, \"#fb9f3a\"], [0.8888888888888888, \"#fdca26\"], [1.0, \"#f0f921\"]], \"type\": \"heatmap\"}], \"heatmapgl\": [{\"colorbar\": {\"outlinewidth\": 0, \"ticks\": \"\"}, \"colorscale\": [[0.0, \"#0d0887\"], [0.1111111111111111, \"#46039f\"], [0.2222222222222222, \"#7201a8\"], [0.3333333333333333, \"#9c179e\"], [0.4444444444444444, \"#bd3786\"], [0.5555555555555556, \"#d8576b\"], [0.6666666666666666, \"#ed7953\"], [0.7777777777777778, \"#fb9f3a\"], [0.8888888888888888, \"#fdca26\"], [1.0, \"#f0f921\"]], \"type\": \"heatmapgl\"}], \"histogram\": [{\"marker\": {\"colorbar\": {\"outlinewidth\": 0, \"ticks\": \"\"}}, \"type\": \"histogram\"}], \"histogram2d\": [{\"colorbar\": {\"outlinewidth\": 0, \"ticks\": \"\"}, \"colorscale\": [[0.0, \"#0d0887\"], [0.1111111111111111, \"#46039f\"], [0.2222222222222222, \"#7201a8\"], [0.3333333333333333, \"#9c179e\"], [0.4444444444444444, \"#bd3786\"], [0.5555555555555556, \"#d8576b\"], [0.6666666666666666, \"#ed7953\"], [0.7777777777777778, \"#fb9f3a\"], [0.8888888888888888, \"#fdca26\"], [1.0, \"#f0f921\"]], \"type\": \"histogram2d\"}], \"histogram2dcontour\": [{\"colorbar\": {\"outlinewidth\": 0, \"ticks\": \"\"}, \"colorscale\": [[0.0, \"#0d0887\"], [0.1111111111111111, \"#46039f\"], [0.2222222222222222, \"#7201a8\"], [0.3333333333333333, \"#9c179e\"], [0.4444444444444444, \"#bd3786\"], [0.5555555555555556, \"#d8576b\"], [0.6666666666666666, \"#ed7953\"], [0.7777777777777778, \"#fb9f3a\"], [0.8888888888888888, \"#fdca26\"], [1.0, \"#f0f921\"]], \"type\": \"histogram2dcontour\"}], \"mesh3d\": [{\"colorbar\": {\"outlinewidth\": 0, \"ticks\": \"\"}, \"type\": \"mesh3d\"}], \"parcoords\": [{\"line\": {\"colorbar\": {\"outlinewidth\": 0, \"ticks\": \"\"}}, \"type\": \"parcoords\"}], \"pie\": [{\"automargin\": true, \"type\": \"pie\"}], \"scatter\": [{\"marker\": {\"colorbar\": {\"outlinewidth\": 0, \"ticks\": \"\"}}, \"type\": \"scatter\"}], \"scatter3d\": [{\"line\": {\"colorbar\": {\"outlinewidth\": 0, \"ticks\": \"\"}}, \"marker\": {\"colorbar\": {\"outlinewidth\": 0, \"ticks\": \"\"}}, \"type\": \"scatter3d\"}], \"scattercarpet\": [{\"marker\": {\"colorbar\": {\"outlinewidth\": 0, \"ticks\": \"\"}}, \"type\": \"scattercarpet\"}], \"scattergeo\": [{\"marker\": {\"colorbar\": {\"outlinewidth\": 0, \"ticks\": \"\"}}, \"type\": \"scattergeo\"}], \"scattergl\": [{\"marker\": {\"colorbar\": {\"outlinewidth\": 0, \"ticks\": \"\"}}, \"type\": \"scattergl\"}], \"scattermapbox\": [{\"marker\": {\"colorbar\": {\"outlinewidth\": 0, \"ticks\": \"\"}}, \"type\": \"scattermapbox\"}], \"scatterpolar\": [{\"marker\": {\"colorbar\": {\"outlinewidth\": 0, \"ticks\": \"\"}}, \"type\": \"scatterpolar\"}], \"scatterpolargl\": [{\"marker\": {\"colorbar\": {\"outlinewidth\": 0, \"ticks\": \"\"}}, \"type\": \"scatterpolargl\"}], \"scatterternary\": [{\"marker\": {\"colorbar\": {\"outlinewidth\": 0, \"ticks\": \"\"}}, \"type\": \"scatterternary\"}], \"surface\": [{\"colorbar\": {\"outlinewidth\": 0, \"ticks\": \"\"}, \"colorscale\": [[0.0, \"#0d0887\"], [0.1111111111111111, \"#46039f\"], [0.2222222222222222, \"#7201a8\"], [0.3333333333333333, \"#9c179e\"], [0.4444444444444444, \"#bd3786\"], [0.5555555555555556, \"#d8576b\"], [0.6666666666666666, \"#ed7953\"], [0.7777777777777778, \"#fb9f3a\"], [0.8888888888888888, \"#fdca26\"], [1.0, \"#f0f921\"]], \"type\": \"surface\"}], \"table\": [{\"cells\": {\"fill\": {\"color\": \"#EBF0F8\"}, \"line\": {\"color\": \"white\"}}, \"header\": {\"fill\": {\"color\": \"#C8D4E3\"}, \"line\": {\"color\": \"white\"}}, \"type\": \"table\"}]}, \"layout\": {\"annotationdefaults\": {\"arrowcolor\": \"#2a3f5f\", \"arrowhead\": 0, \"arrowwidth\": 1}, \"autotypenumbers\": \"strict\", \"coloraxis\": {\"colorbar\": {\"outlinewidth\": 0, \"ticks\": \"\"}}, \"colorscale\": {\"diverging\": [[0, \"#8e0152\"], [0.1, \"#c51b7d\"], [0.2, \"#de77ae\"], [0.3, \"#f1b6da\"], [0.4, \"#fde0ef\"], [0.5, \"#f7f7f7\"], [0.6, \"#e6f5d0\"], [0.7, \"#b8e186\"], [0.8, \"#7fbc41\"], [0.9, \"#4d9221\"], [1, \"#276419\"]], \"sequential\": [[0.0, \"#0d0887\"], [0.1111111111111111, \"#46039f\"], [0.2222222222222222, \"#7201a8\"], [0.3333333333333333, \"#9c179e\"], [0.4444444444444444, \"#bd3786\"], [0.5555555555555556, \"#d8576b\"], [0.6666666666666666, \"#ed7953\"], [0.7777777777777778, \"#fb9f3a\"], [0.8888888888888888, \"#fdca26\"], [1.0, \"#f0f921\"]], \"sequentialminus\": [[0.0, \"#0d0887\"], [0.1111111111111111, \"#46039f\"], [0.2222222222222222, \"#7201a8\"], [0.3333333333333333, \"#9c179e\"], [0.4444444444444444, \"#bd3786\"], [0.5555555555555556, \"#d8576b\"], [0.6666666666666666, \"#ed7953\"], [0.7777777777777778, \"#fb9f3a\"], [0.8888888888888888, \"#fdca26\"], [1.0, \"#f0f921\"]]}, \"colorway\": [\"#636efa\", \"#EF553B\", \"#00cc96\", \"#ab63fa\", \"#FFA15A\", \"#19d3f3\", \"#FF6692\", \"#B6E880\", \"#FF97FF\", \"#FECB52\"], \"font\": {\"color\": \"#2a3f5f\"}, \"geo\": {\"bgcolor\": \"white\", \"lakecolor\": \"white\", \"landcolor\": \"#E5ECF6\", \"showlakes\": true, \"showland\": true, \"subunitcolor\": \"white\"}, \"hoverlabel\": {\"align\": \"left\"}, \"hovermode\": \"closest\", \"mapbox\": {\"style\": \"light\"}, \"paper_bgcolor\": \"white\", \"plot_bgcolor\": \"#E5ECF6\", \"polar\": {\"angularaxis\": {\"gridcolor\": \"white\", \"linecolor\": \"white\", \"ticks\": \"\"}, \"bgcolor\": \"#E5ECF6\", \"radialaxis\": {\"gridcolor\": \"white\", \"linecolor\": \"white\", \"ticks\": \"\"}}, \"scene\": {\"xaxis\": {\"backgroundcolor\": \"#E5ECF6\", \"gridcolor\": \"white\", \"gridwidth\": 2, \"linecolor\": \"white\", \"showbackground\": true, \"ticks\": \"\", \"zerolinecolor\": \"white\"}, \"yaxis\": {\"backgroundcolor\": \"#E5ECF6\", \"gridcolor\": \"white\", \"gridwidth\": 2, \"linecolor\": \"white\", \"showbackground\": true, \"ticks\": \"\", \"zerolinecolor\": \"white\"}, \"zaxis\": {\"backgroundcolor\": \"#E5ECF6\", \"gridcolor\": \"white\", \"gridwidth\": 2, \"linecolor\": \"white\", \"showbackground\": true, \"ticks\": \"\", \"zerolinecolor\": \"white\"}}, \"shapedefaults\": {\"line\": {\"color\": \"#2a3f5f\"}}, \"ternary\": {\"aaxis\": {\"gridcolor\": \"white\", \"linecolor\": \"white\", \"ticks\": \"\"}, \"baxis\": {\"gridcolor\": \"white\", \"linecolor\": \"white\", \"ticks\": \"\"}, \"bgcolor\": \"#E5ECF6\", \"caxis\": {\"gridcolor\": \"white\", \"linecolor\": \"white\", \"ticks\": \"\"}}, \"title\": {\"x\": 0.05}, \"xaxis\": {\"automargin\": true, \"gridcolor\": \"white\", \"linecolor\": \"white\", \"ticks\": \"\", \"title\": {\"standoff\": 15}, \"zerolinecolor\": \"white\", \"zerolinewidth\": 2}, \"yaxis\": {\"automargin\": true, \"gridcolor\": \"white\", \"linecolor\": \"white\", \"ticks\": \"\", \"title\": {\"standoff\": 15}, \"zerolinecolor\": \"white\", \"zerolinewidth\": 2}}}},                        {\"responsive\": true}                    ).then(function(){\n",
       "                            \n",
       "var gd = document.getElementById('8700c432-5ecd-4932-a096-b5c9990fee04');\n",
       "var x = new MutationObserver(function (mutations, observer) {{\n",
       "        var display = window.getComputedStyle(gd).display;\n",
       "        if (!display || display === 'none') {{\n",
       "            console.log([gd, 'removed!']);\n",
       "            Plotly.purge(gd);\n",
       "            observer.disconnect();\n",
       "        }}\n",
       "}});\n",
       "\n",
       "// Listen for the removal of the full notebook cells\n",
       "var notebookContainer = gd.closest('#notebook-container');\n",
       "if (notebookContainer) {{\n",
       "    x.observe(notebookContainer, {childList: true});\n",
       "}}\n",
       "\n",
       "// Listen for the clearing of the current output cell\n",
       "var outputEl = gd.closest('.output');\n",
       "if (outputEl) {{\n",
       "    x.observe(outputEl, {childList: true});\n",
       "}}\n",
       "\n",
       "                        })                };                });            </script>        </div>"
      ]
     },
     "metadata": {},
     "output_type": "display_data"
    }
   ],
   "source": [
    "\n",
    "fig = px.density_mapbox(styrene, lat='LATITUDE', lon ='LONGITUDE', z='STACK AIR', radius=10,  hover_data=[\"FACILITY NAME\", \"STACK AIR\", \"UNIT OF MEASURE\"],\n",
    "                        center=dict(lat=0, lon=0), zoom=0,\n",
    "                        labels={\"STACK AIR\": \"Emissions (lbs)\"},\n",
    "                        mapbox_style=\"stamen-terrain\")\n",
    "fig.show()"
   ]
  },
  {
   "cell_type": "code",
   "execution_count": null,
   "metadata": {},
   "outputs": [],
   "source": []
  }
 ],
 "metadata": {
  "kernelspec": {
   "display_name": "Python 3",
   "language": "python",
   "name": "python3"
  },
  "language_info": {
   "codemirror_mode": {
    "name": "ipython",
    "version": 3
   },
   "file_extension": ".py",
   "mimetype": "text/x-python",
   "name": "python",
   "nbconvert_exporter": "python",
   "pygments_lexer": "ipython3",
   "version": "3.7.7"
  }
 },
 "nbformat": 4,
 "nbformat_minor": 4
}
